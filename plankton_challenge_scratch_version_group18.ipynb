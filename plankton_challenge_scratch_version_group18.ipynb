{
 "cells": [
  {
   "cell_type": "markdown",
   "metadata": {
    "colab_type": "text",
    "id": "Zsd1d0KmynjD"
   },
   "source": [
    "---\n",
    "# Plankton Recognition Challenge\n",
    "## Group 18: Anh Tuan DAO - Thu Ha PHI \n",
    "---\n",
    "\n",
    "Plankton comprises all the organisms freely drifting with ocean currents. These life forms are a critically important piece of oceanic ecosystems, accounting for more than half the primary production on earth and nearly half the total carbon fixed in the global carbon cycle. They also form the foundation of aquatic food webs, including those of large, commercially important fisheries. Loss of plankton populations could result in ecological upheaval as well as negative societal impacts, particularly in indigenous cultures and the developing world. Plankton’s global significance makes their population levels an ideal measure of the health of the world’s oceans and ecosystems.\n",
    "\n",
    "Traditional methods for measuring and monitoring plankton populations are time consuming and cannot scale to the granularity or scope necessary for large-scale studies. Improved approaches are needed. One such approach is through the use of underwater imagery sensors. \n",
    "\n",
    "In this challenge, which was prepared in cooperation with the Laboratoire d’Océanographie de Villefranche, jointly run by Sorbonne Université and CNRS, plankton images were acquired in the bay of Villefranche, weekly since 2013 and manually engineered features were computed on each imaged object. \n",
    "\n",
    "This challenge aims at developing solid approaches to plankton image classification. As an alternative, it is possible to use methods based on carefully (but manually) engineered features. This is in sharp contrast with “Deep Learning” methods in which features will be learned from image data alone.\n",
    "\n",
    "The purpose of this challenge is for you to learn about the commonly used paradigms when working with real-life problems. This means you can choose one of the following paths:\n",
    "\n",
    "- Work directly with the provided images, e.g. using a (convolutional) neural network\n",
    "- Work with the supplied features extracted from the images (*native* or *skimage* or both of them)\n",
    "- Extract your own features from the provided images using a technique of your choice\n",
    "\n",
    "You will find a detailed description about the image data and the features at the end of this text.\n",
    "In any case, the choice of the classifier that you decide to work with strongly depends on the choice of features.\n",
    "\n",
    "Please bear in mind that the purpose of this challenge is not to find the best-performing model (e.g. on Kaggle there are competitions to do just that, with similar data as for this challenge). You should rather make sure to understand the dificulties that come with computer vision task, should you take this modeling approach. Moreover, you should be able to justify your choice of features/model and be able to explain its advantages and disadvantages for the task.\n",
    "\n",
    "**IMPORTANT**: please refer to the AML course guidelines concerning grading rules. Pay especially attention to the **presentation quality** item, which boils down to: don't dump a zillion of lines of code and plots in this notebook. Produce a concise summary of your findings: this notebook can exist in two versions, a \"scratch\" version that you will use to work and debug, a \"presentation\" version that you will submit. The \"presentation\" notebook should go to the point, and convay the main findings of your work."
   ]
  },
  {
   "cell_type": "markdown",
   "metadata": {
    "colab_type": "text",
    "id": "mHxzB8lSynjF"
   },
   "source": [
    "---\n",
    "## Overview\n",
    "\n",
    "Beyond simply producing a well-performing model for making predictions, in this challenge we would like you to start developing your skills as a machine learning scientist.\n",
    "In this regard, your notebook should be structured in such a way as to explore the following tasks that are expected to be carried out whenever undertaking such a project.\n",
    "The description below each aspect should serve as a guide for your work, but you are strongly encouraged to also explore alternative options and directions. \n",
    "Thinking outside the box will always be rewarded in these challenges.\n",
    "\n",
    "\n",
    "### 1. Data preparation:\n",
    "   \n",
    "_Data exploration_: The first broad component of your work should enable you to familiarise yourselves with the given data, an outline of which is given at the end of this challenge specification. Among others, you can work on:\n",
    "   \n",
    "* Data cleaning, e.g. treatment of categorial variables;\n",
    "* Data visualisation; Computing descriptive statistics, e.g. correlation.\n",
    "\n",
    "What is new in this challenge is that you will be working with image data. Therefore, you should have a look at example images located in the *imgs.zip* file (see description below). If you decide to work with the native or the skimage features, make sure to understand them!\n",
    "\n",
    "Among others, this section should investigate:\n",
    "\n",
    "- Distribution of the different image dimensions (including the number of channels)\n",
    "- Distribution of the different labels that the images are assigned to\n",
    "\n",
    "The image labels are organized in a taxonomy. We will measure the final model performance for the classification into the *level2* categories. Make sure to understand the meaning of this label inside the taxonomy.\n",
    "\n",
    "_Data Pre-processing_: The previous step should give you a better understanding of which pre-processing is required for the data. This may include:\n",
    "\n",
    "* Normalising and standardising the given data;\n",
    "* Removing outliers;\n",
    "* Carrying out feature selection, possibly using metrics derived from information theory;\n",
    "* Handling missing information in the dataset;\n",
    "* Augmenting the dataset with external information;\n",
    "* Combining existing features.\n",
    "\n",
    "Please take also note of the following aspects, that are related to this particular challente:\n",
    "\n",
    "- If you decide to work with the provided features, some data cleaning may be required to make full use of all the data.\n",
    "- If you decide to extract your own features from the images, you should explain your approach in this section.\n",
    "- If you decide to work directly with the images themselves, preprocessing the images may improve your classification results. In particular, if you work with a neural network the following should be of interest to you:\n",
    "\n",
    "  - Due to the fully-connected layers (that usually come after the convolutional ones), the input needs to have a fixed dimension.\n",
    "  - Data augmentation (image rotation, scaling, cropping, etc. of the existing images) can be used to increase the size of the training data set. This may improve performance especially when little data is available for a particular class.\n",
    "  - Be aware of the computational cost! It might be worth rescaling the images to a smaller size!\n",
    "\n",
    "  All of the operations above are usually realized using a dataloader. This means that you do not need to create a modified version of the dataset and save it to disk. Instead, the dataloader processes the data \"on the fly\" and in-memory before passing it to the network.\n",
    "  \n",
    "    NB: Although aligning image sizes is necessary to train CNNs, this will prevent your classifier from learning about different object sizes as a feature. Additional gains may be achieved when also taking object sizes into account.\n",
    "\n",
    "### 2. Model selection\n",
    "An important part of the work involves the selection of a model that can successfully handle the given data and yield sensible predictions. Instead of focusing exclusively on your final chosen model, it is also important to share your thought process in this notebook by additionally describing alternative candidate models. There is a wealth of models to choose from, such as decision trees, random forests, (Bayesian) neural networks, Gaussian processes, LASSO regression, and so on. \n",
    "\n",
    "Irrespective of your choice, it is highly likely that your model will have one or more parameters that require tuning. There are several techniques for carrying out such a procedure, such as cross-validation.\n",
    "\n",
    "### 3. Performance Evaluation\n",
    "For the evaluation of the classification results in this challenge, you should use the F1 measure. Here the focus should be on level2 classification.\n",
    "\n",
    "You should indicate your final evaluation score on a held-out test set. As an evaluation metric you should use the F1 score with the *average=macro* option as it is provided by the scikit-learn library. See the following link for more information:\n",
    "        \n",
    "https://scikit-learn.org/stable/modules/generated/sklearn.metrics.f1_score.html\n",
    "\n",
    "Please note that you are responsible for creating a sensible train/validation/test split. There is no predefined held-out test data."
   ]
  },
  {
   "cell_type": "markdown",
   "metadata": {
    "colab_type": "text",
    "id": "IPuZiZgnynjH"
   },
   "source": [
    "---\n",
    "## Dataset Description\n",
    "\n",
    "#### * Location of the Dataset on the cloud platform\n",
    "The data for this challenge is located at: `/mnt/datasets/plankton/flowcam`\n",
    "\n",
    "#### * Hierachical Taxonomy Tree for Labels \n",
    "\n",
    "Each object is represented by a single image and is identified by a unique integer number. It has a name associated to it which is integrated in a hierarchical taxonomic tree. The identifications are gathered from different projects, classified by different people in different contexts, so they often target different taxonomic levels. For example, let us say we classify items of clothing along the following tree\n",
    "\n",
    "    top\n",
    "        shirt\n",
    "            long sleeves\n",
    "            short sleeves\n",
    "        sweater\n",
    "            hooded\n",
    "            no hood\n",
    "    bottom\n",
    "        pants\n",
    "            jeans\n",
    "            other\n",
    "        shorts\n",
    "        \n",
    "In a first project, images are classified to the finest level possible, but it may be the case that, on some pictures, it is impossible to determine whether a sweater has a hood or not, in which case it is simply classified as `sweater`. In the second project, the operator classified tops as `shirt` or `sweater` only, and bottoms to the finest level. In a third project, the operator only separated tops from bottoms. In such a context, the original names in the database cannot be used directly because, for example `sweater` will contain images that are impossible to determine as `hooded` or `no hood` *as well as* `hooded` and `no hood` images that were simply not classified further. If all three classes (`sweater`, `hooded`, and `no hood`) are included in the training set, it will likely confuse the classifier. For this reason, we define different target taxonomic levels:\n",
    "\n",
    "-   `level1` is the finest taxonomic level possible. In the example above, we would include `hooded` and `no hood` but discard all images in `sweater` to avoid confusion; and proceed in the same manner for other classes.\n",
    "\n",
    "-   `level2` is a grouping of underlying levels. In the example above, it would include `shirt` (which contains all images in `shirt`, `long sleeves`, and `short sleeves`), `sweater` (which, similarly would include this class and all its children), `pants` (including children), and `shorts`. So typically, `level2` contains more images (less discarding), sorted within fewer classes than `level1`, and may therefore be an easier classification problem.\n",
    "\n",
    "-   `level3` is an even broader grouping. Here it would be `top` vs `bottom`\n",
    "\n",
    "-   etc.\n",
    "\n",
    "In the Plankton Image dataset, the objects will be categorised based on a pre-defined 'level1' and 'level2'. You can opt to work on one of them, but we recommend you to work on `level2` because it is an easier classification problem.  \n",
    "\n",
    "#### * Data Structure\n",
    "\n",
    "    /mnt/datasets/plankton/flowcam/\n",
    "        meta.csv\n",
    "        taxo.csv\n",
    "        features_native.csv.gz\n",
    "        features_skimage.csv.gz\n",
    "        imgs.zip\n",
    "\n",
    "* `meta.csv` contains the index of images and their corresponding labels\n",
    "* `taxo.csv` defines the taxonomic tree and its potential groupings at various level. Note that, the information is also available in `meta.csv`. Therefore, the information in `taxo.csv` is probably useless, but at least it gives you a global view about taxonomy tree\n",
    "* `features_native.csv.gz` contain the morphological handcrafted features computed by ZooProcess. In fact, ZooProcess generates the region of interests (ROI) around each individual object from a original image of Plankton. In addition, it also computes a set of associated features measured on the object. These features are the ones contained in `features_native.csv.gz`\n",
    "* `features_skimage.csv.gz` contains the morphological features recomputed with skimage.measure.regionprops on the ROIs produced by ZooProcess.\n",
    "* `imgs.zip` contains a post-processed version of the original images. Images are named by `objid`.jpg\n",
    "\n",
    "#### * Attributes in meta.csv\n",
    "\n",
    "The file contains the image identifiers (objid) as well as the labels assigned to the images by human operators. Those are defined with various levels of precision:\n",
    "\n",
    "* <i>unique_name</i>: raw labels from operators\n",
    "* <i>level1</i>: cleaned, most detailed labels\n",
    "* <i>level2</i>: regrouped (coarser) labels\n",
    "* <i>lineage</i>: full taxonomic lineage of the class\n",
    "\n",
    "Some labels may be missing (coded ‘NA’) at a given level, meaning that the corresponding objects should be discarded for the classification at this level.\n",
    "\n",
    "#### * imgs.zip\n",
    "\n",
    "This zip archive contains an *imgs* folder that contains all the images in .jpg format. Do not extract this folder to disk! Instead you will be loading the images to memory. See the code below for a quick how-to:"
   ]
  },
  {
   "cell_type": "markdown",
   "metadata": {
    "colab_type": "text",
    "id": "9UMwxqFEynjJ"
   },
   "source": [
    "#### * Attributes in features_native.csv.gz\n",
    "A brief outline of the availabel attributes in `features_native.csv.gz` which you can use is given below:\n",
    "\n",
    "* <i>objid</i>: same as in `meta.csv`\n",
    "* <i>area</i>: area of ROI\n",
    "* <i>meanimagegrey</i>:\n",
    "* <i>mean</i>: mean grey\n",
    "* <i>stddev</i>: standard deviation of greys\n",
    "* <i>min</i>: minimum grey\n",
    "* <i>perim.</i>: perimeter of ROI\n",
    "* <i>width, height</i>: dimensions of ROI\n",
    "* <i>major, minor</i>: length of major,minor axis of the best fitting ellipse\n",
    "* <i>angle</i>: \n",
    "* <i>circ.</i>: circularity or shape factor which can be computed by 4pi(area/perim.^2)\n",
    "* <i>feret</i>:  maximal feret diameter\n",
    "* <i>intden</i>: integrated density: mean*area\n",
    "* <i>median</i>: median grey\n",
    "* <i>skew, kurt</i>: skewness,kurtosis of the histogram of greys\n",
    "* <i>%area</i>: proportion of the image corresponding to the object\n",
    "* <i>area_exc</i>: area excluding holes\n",
    "* <i>fractal</i>: fractal dimension of the perimeter\n",
    "* <i>skelarea</i>: area of the one-pixel wide skeleton of the image ???\n",
    "* <i>slope</i>: slope of the cumulated histogram of greys\n",
    "* <i>histcum1, 2, 3</i>:  grey level at quantiles 0.25, 0.5, 0.75 of the histogram of greys\n",
    "* <i>nb1, 2, 3</i>: number of objects after thresholding at the grey levels above\n",
    "* <i>symetrieh, symetriev</i>: index of horizontal,vertical symmetry\n",
    "* <i>symetriehc, symetrievc</i>: same but after thresholding at level histcum1\n",
    "* <i>convperim, convarea</i>: perimeter,area of the convex hull of the object\n",
    "* <i>fcons</i>: contrast\n",
    "* <i>thickr</i>: thickness ratio: maximum thickness/mean thickness\n",
    "* <i>esd</i>:\n",
    "* <i>elongation</i>: elongation index: major/minor\n",
    "* <i>range</i>: range of greys: max-min\n",
    "* <i>meanpos</i>:  relative position of the mean grey: (max-mean)/range\n",
    "* <i>centroids</i>:\n",
    "* <i>cv</i>: coefficient of variation of greys: 100*(stddev/mean)\n",
    "* <i>sr</i>: index of variation of greys: 100*(stddev/range)\n",
    "* <i>perimareaexc</i>:\n",
    "* <i>feretareaexc</i>:\n",
    "* <i>perimferet</i>: index of the relative complexity of the perimeter: perim/feret\n",
    "* <i>perimmajor</i>: index of the relative complexity of the perimeter: perim/major\n",
    "* <i>circex</i>:\n",
    "* <i>cdexc</i>:\n",
    "* <i>kurt_mean</i>:\n",
    "* <i>skew_mean</i>:\n",
    "* <i>convperim_perim</i>:\n",
    "* <i>convarea_area</i>:\n",
    "* <i>symetrieh_area</i>:\n",
    "* <i>symetriev_area</i>:\n",
    "* <i>nb1_area</i>:\n",
    "* <i>nb2_area</i>:\n",
    "* <i>nb3_area</i>:\n",
    "* <i>nb1_range</i>:\n",
    "* <i>nb2_range</i>:\n",
    "* <i>nb3_range</i>:\n",
    "* <i>median_mean</i>:\n",
    "* <i>median_mean_range</i>:\n",
    "* <i>skeleton_area</i>:\n",
    "\n",
    "#### * Attributes in features_skimage.csv.gz\n",
    "Table of morphological features recomputed with skimage.measure.regionprops on the ROIs produced by ZooProcess. See http://scikit-image.org/docs/dev/api/skimage.measure.html#skimage.measure.regionprops for documentation."
   ]
  },
  {
   "cell_type": "code",
   "execution_count": 0,
   "metadata": {
    "colab": {
     "base_uri": "https://localhost:8080/",
     "height": 129
    },
    "colab_type": "code",
    "id": "FVkaUitYynjV",
    "outputId": "c89078b9-88d8-430a-c53e-81fab4170acd"
   },
   "outputs": [
    {
     "name": "stdout",
     "output_type": "stream",
     "text": [
      "Go to this URL in a browser: https://accounts.google.com/o/oauth2/auth?client_id=947318989803-6bn6qk8qdgf4n4g3pfee6491hc0brc4i.apps.googleusercontent.com&redirect_uri=urn%3aietf%3awg%3aoauth%3a2.0%3aoob&response_type=code&scope=email%20https%3a%2f%2fwww.googleapis.com%2fauth%2fdocs.test%20https%3a%2f%2fwww.googleapis.com%2fauth%2fdrive%20https%3a%2f%2fwww.googleapis.com%2fauth%2fdrive.photos.readonly%20https%3a%2f%2fwww.googleapis.com%2fauth%2fpeopleapi.readonly\n",
      "\n",
      "Enter your authorization code:\n",
      "··········\n",
      "Mounted at /content/drive\n"
     ]
    }
   ],
   "source": [
    "from google.colab import drive\n",
    "drive.mount('/content/drive')"
   ]
  },
  {
   "cell_type": "code",
   "execution_count": 0,
   "metadata": {
    "colab": {},
    "colab_type": "code",
    "id": "vg2IDcISzeCX"
   },
   "outputs": [],
   "source": [
    "path_images = '/content/drive/My Drive/LAB3/data/imgs.zip'\n",
    "path_meta = '/content/drive/My Drive/LAB3/data/meta.csv'"
   ]
  },
  {
   "cell_type": "markdown",
   "metadata": {
    "colab_type": "text",
    "id": "_ejinZZMynjd"
   },
   "source": [
    "# Data preparation"
   ]
  },
  {
   "cell_type": "code",
   "execution_count": 0,
   "metadata": {
    "colab": {
     "base_uri": "https://localhost:8080/",
     "height": 74
    },
    "colab_type": "code",
    "id": "ARYUnfzjynjf",
    "outputId": "5458f11b-845d-48df-e990-2b7a23161ac6"
   },
   "outputs": [
    {
     "name": "stderr",
     "output_type": "stream",
     "text": [
      "/usr/local/lib/python3.6/dist-packages/statsmodels/tools/_testing.py:19: FutureWarning: pandas.util.testing is deprecated. Use the functions in the public API at pandas.testing instead.\n",
      "  import pandas.util.testing as tm\n"
     ]
    }
   ],
   "source": [
    "import pandas as pd\n",
    "import os\n",
    "import numpy as np\n",
    "import matplotlib.pyplot as plt\n",
    "import seaborn as sns\n",
    "from scipy import stats\n",
    "from tqdm import tqdm\n",
    "\n",
    "from sklearn.utils import class_weight \n",
    "from sklearn.preprocessing import LabelEncoder\n",
    "from sklearn.model_selection import train_test_split\n",
    "from sklearn.metrics import classification_report\n",
    "from tensorflow import keras \n",
    "from tensorflow.keras import backend as K\n",
    "from tensorflow.keras import layers\n",
    "from tensorflow.keras.preprocessing.image import ImageDataGenerator\n",
    "from tensorflow.keras.regularizers import l2\n",
    "\n",
    "from tensorflow.keras.applications.vgg16 import VGG16"
   ]
  },
  {
   "cell_type": "markdown",
   "metadata": {
    "colab_type": "text",
    "id": "bGn5sR3mynjn"
   },
   "source": [
    "## Data explore"
   ]
  },
  {
   "cell_type": "markdown",
   "metadata": {
    "colab_type": "text",
    "id": "i8h4lx24ynjo"
   },
   "source": [
    "### Load image files and meta.csv"
   ]
  },
  {
   "cell_type": "code",
   "execution_count": 0,
   "metadata": {
    "colab": {
     "base_uri": "https://localhost:8080/",
     "height": 90
    },
    "colab_type": "code",
    "id": "hE2VCFneynjq",
    "outputId": "4e478d7a-00a7-4869-f437-b13110ca29a7"
   },
   "outputs": [
    {
     "name": "stdout",
     "output_type": "stream",
     "text": [
      "The number of images in the directory: 243610\n"
     ]
    },
    {
     "data": {
      "image/png": "[encoded data removed]",
      "text/plain": [
       "<PIL.JpegImagePlugin.JpegImageFile image mode=L size=50x55 at 0x7FC9F92B8AC8>"
      ]
     },
     "execution_count": 3,
     "metadata": {
      "tags": []
     },
     "output_type": "execute_result"
    }
   ],
   "source": [
    "import zipfile\n",
    "from io import BytesIO\n",
    "from PIL import Image\n",
    "\n",
    "def extract_zip_to_memory(input_zip):\n",
    "    '''\n",
    "    This function extracts the images stored inside the given zip file.\n",
    "    It stores the result in a python dictionary.\n",
    "    \n",
    "    input_zip (string): path to the zip file\n",
    "    \n",
    "    returns (dict): {filename (string): image_file (bytes)}\n",
    "    '''\n",
    "    input_zip=zipfile.ZipFile(input_zip)\n",
    "    return {name: BytesIO(input_zip.read(name)) for name in input_zip.namelist() if name.endswith('.jpg')}\n",
    "\n",
    "\n",
    "img_files = extract_zip_to_memory(path_images)\n",
    "print('The number of images in the directory: {}'.format(len(img_files)))\n",
    "\n",
    "#Display an example image \n",
    "Image.open(img_files['imgs/32738710.jpg'])"
   ]
  },
  {
   "cell_type": "code",
   "execution_count": 0,
   "metadata": {
    "colab": {
     "base_uri": "https://localhost:8080/",
     "height": 293
    },
    "colab_type": "code",
    "id": "c7ttzoWVynjy",
    "outputId": "5e05e053-4b69-4fa5-b15d-68c051926aa0"
   },
   "outputs": [
    {
     "data": {
      "text/plain": [
       "objid            int64\n",
       "projid           int64\n",
       "id               int64\n",
       "status          object\n",
       "latitude       float64\n",
       "longitude      float64\n",
       "objdate         object\n",
       "objtime         object\n",
       "depth_min        int64\n",
       "depth_max        int64\n",
       "unique_name     object\n",
       "lineage         object\n",
       "level1          object\n",
       "level2          object\n",
       "dtype: object"
      ]
     },
     "execution_count": 4,
     "metadata": {
      "tags": []
     },
     "output_type": "execute_result"
    }
   ],
   "source": [
    "df = pd.read_csv(path_meta, delimiter = ',', dtype={'level2': str, 'objid': int})\n",
    "df.dtypes"
   ]
  },
  {
   "cell_type": "markdown",
   "metadata": {
    "colab_type": "text",
    "id": "bAlbhAx2ynj6"
   },
   "source": [
    "### Find missing labeled samples"
   ]
  },
  {
   "cell_type": "code",
   "execution_count": 0,
   "metadata": {
    "colab": {},
    "colab_type": "code",
    "id": "159_Z4yWynj8"
   },
   "outputs": [],
   "source": [
    "data = df[['objid', 'level2']]"
   ]
  },
  {
   "cell_type": "code",
   "execution_count": 0,
   "metadata": {
    "colab": {
     "base_uri": "https://localhost:8080/",
     "height": 72
    },
    "colab_type": "code",
    "id": "Y9pe5_KVynkE",
    "outputId": "5e062f9c-5a8b-40bb-debf-b2b5701f11bd"
   },
   "outputs": [
    {
     "data": {
      "text/plain": [
       "level2    1003\n",
       "objid        0\n",
       "dtype: int64"
      ]
     },
     "execution_count": 6,
     "metadata": {
      "tags": []
     },
     "output_type": "execute_result"
    }
   ],
   "source": [
    "data.isnull().sum().sort_values(ascending=False)"
   ]
  },
  {
   "cell_type": "code",
   "execution_count": 0,
   "metadata": {
    "colab": {},
    "colab_type": "code",
    "id": "cqVXBHwOynkM"
   },
   "outputs": [],
   "source": [
    "null_objids = data[data['level2'].isnull()]['objid'].tolist()\n",
    "for i in null_objids:\n",
    "    file_path = os.path.join('imgs', str(i) + '.' + 'jpg')\n",
    "    del img_files[file_path]\n",
    "data = data.dropna()"
   ]
  },
  {
   "cell_type": "code",
   "execution_count": 0,
   "metadata": {
    "colab": {
     "base_uri": "https://localhost:8080/",
     "height": 35
    },
    "colab_type": "code",
    "id": "8S-yAHRAynkS",
    "outputId": "94675d7f-0490-4888-e27d-cc11e4b7fecb"
   },
   "outputs": [
    {
     "data": {
      "text/plain": [
       "242607"
      ]
     },
     "execution_count": 8,
     "metadata": {
      "tags": []
     },
     "output_type": "execute_result"
    }
   ],
   "source": [
    "data['objid'].count()"
   ]
  },
  {
   "cell_type": "markdown",
   "metadata": {
    "colab_type": "text",
    "id": "qlpMnP79ynka"
   },
   "source": [
    "### Draw distribution of image sizes"
   ]
  },
  {
   "cell_type": "code",
   "execution_count": 0,
   "metadata": {
    "colab": {},
    "colab_type": "code",
    "id": "Q1PMcZWcynkb"
   },
   "outputs": [],
   "source": [
    "\n",
    "image_sizes = np.zeros((data['objid'].count(),3))\n",
    "\n",
    "for i, objid in enumerate(data['objid']):\n",
    "    img = Image.open(img_files['imgs/'+str(int(objid))+'.jpg'])\n",
    "#     print(img.size[1])\n",
    "    image_sizes[i,0] = img.size[0]\n",
    "    image_sizes[i,1] = img.size[1]\n",
    "    if (len(img.size) == 2):\n",
    "        image_sizes[i,2] = 1\n",
    "    elif (len(img.size) == 3):\n",
    "        image_sizes[i,2] = img.size[2]"
   ]
  },
  {
   "cell_type": "code",
   "execution_count": 0,
   "metadata": {
    "colab": {
     "base_uri": "https://localhost:8080/",
     "height": 639
    },
    "colab_type": "code",
    "id": "zAiWCOqVynki",
    "outputId": "72514b8f-adf3-4d2a-b2a2-82cde6f9d5bc"
   },
   "outputs": [
    {
     "data": {
      "image/png": "[encoded data removed]",
      "text/plain": [
       "<Figure size 720x720 with 1 Axes>"
      ]
     },
     "metadata": {
      "needs_background": "light",
      "tags": []
     },
     "output_type": "display_data"
    },
    {
     "data": {
      "text/plain": [
       "DescribeResult(nobs=242607, minmax=(2.0, 972.0), mean=86.60837898329397, variance=3857.9036795759494, skewness=2.6379112798833066, kurtosis=11.20442721834197)"
      ]
     },
     "execution_count": 10,
     "metadata": {
      "tags": []
     },
     "output_type": "execute_result"
    }
   ],
   "source": [
    "width = image_sizes[:,0]\n",
    "\n",
    "fig, ax = plt.subplots(figsize=(10, 10))\n",
    "sns.distplot(width)\n",
    "ax.set_title('Distribution of Width')\n",
    "ax.set_xlabel('Width Size')\n",
    "plt.show()\n",
    "\n",
    "stats.describe(width)"
   ]
  },
  {
   "cell_type": "code",
   "execution_count": 0,
   "metadata": {
    "colab": {
     "base_uri": "https://localhost:8080/",
     "height": 639
    },
    "colab_type": "code",
    "id": "_NF9kPmdynkp",
    "outputId": "5c510b2b-8b4a-4aa4-a5f3-f53c0d159c75"
   },
   "outputs": [
    {
     "data": {
      "image/png": "[encoded data removed]",
      "text/plain": [
       "<Figure size 720x720 with 1 Axes>"
      ]
     },
     "metadata": {
      "needs_background": "light",
      "tags": []
     },
     "output_type": "display_data"
    },
    {
     "data": {
      "text/plain": [
       "DescribeResult(nobs=242607, minmax=(2.0, 739.0), mean=109.30292613156257, variance=5174.956758500364, skewness=2.1424833092968805, kurtosis=6.613865498886041)"
      ]
     },
     "execution_count": 11,
     "metadata": {
      "tags": []
     },
     "output_type": "execute_result"
    }
   ],
   "source": [
    "hight = image_sizes[:,1]\n",
    "\n",
    "fig, ax = plt.subplots(figsize=(10, 10))\n",
    "sns.distplot(hight)\n",
    "ax.set_title('Distribution of Height')\n",
    "ax.set_xlabel('Height Size')\n",
    "plt.show()\n",
    "\n",
    "stats.describe(hight)"
   ]
  },
  {
   "cell_type": "code",
   "execution_count": 0,
   "metadata": {
    "colab": {
     "base_uri": "https://localhost:8080/",
     "height": 676
    },
    "colab_type": "code",
    "id": "DammtoP4ynkw",
    "outputId": "fdadbe6f-2d51-4816-e78b-c3335ed46324"
   },
   "outputs": [
    {
     "name": "stderr",
     "output_type": "stream",
     "text": [
      "/usr/local/lib/python3.6/dist-packages/seaborn/distributions.py:283: UserWarning: Data must have variance to compute a kernel density estimate.\n",
      "  warnings.warn(msg, UserWarning)\n"
     ]
    },
    {
     "data": {
      "image/png": "[encoded data removed]",
      "text/plain": [
       "<Figure size 720x720 with 1 Axes>"
      ]
     },
     "metadata": {
      "needs_background": "light",
      "tags": []
     },
     "output_type": "display_data"
    },
    {
     "data": {
      "text/plain": [
       "DescribeResult(nobs=242607, minmax=(1.0, 1.0), mean=1.0, variance=0.0, skewness=0.0, kurtosis=-3.0)"
      ]
     },
     "execution_count": 12,
     "metadata": {
      "tags": []
     },
     "output_type": "execute_result"
    }
   ],
   "source": [
    "channel = image_sizes[:,2]\n",
    "\n",
    "fig, ax = plt.subplots(figsize=(10, 10))\n",
    "sns.distplot(channel)\n",
    "ax.set_title('Distribution of Channel')\n",
    "ax.set_xlabel('Channel Size')\n",
    "plt.show()\n",
    "\n",
    "stats.describe(channel)"
   ]
  },
  {
   "cell_type": "markdown",
   "metadata": {
    "colab_type": "text",
    "id": "ovv2tbaIynk4"
   },
   "source": [
    "### Draw distribution of classes"
   ]
  },
  {
   "cell_type": "code",
   "execution_count": 0,
   "metadata": {
    "colab": {
     "base_uri": "https://localhost:8080/",
     "height": 423
    },
    "colab_type": "code",
    "id": "ncMsdL9zynk5",
    "outputId": "f42d108b-f15e-4aaa-bac0-34cc32077790"
   },
   "outputs": [
    {
     "data": {
      "image/png": "[encoded data removed]",
      "text/plain": [
       "<Figure size 432x288 with 1 Axes>"
      ]
     },
     "metadata": {
      "needs_background": "light",
      "tags": []
     },
     "output_type": "display_data"
    }
   ],
   "source": [
    "g = sns.countplot(data['level2'])\n",
    "g.set_xticklabels(g.get_xticklabels(),rotation=90);\n",
    "sns.set(rc={'figure.figsize':(6,6)})"
   ]
  },
  {
   "cell_type": "markdown",
   "metadata": {
    "colab_type": "text",
    "id": "BVRa2LZ9ynlI"
   },
   "source": [
    "## Data pre-processing"
   ]
  },
  {
   "cell_type": "code",
   "execution_count": 0,
   "metadata": {
    "colab": {},
    "colab_type": "code",
    "id": "mR614h6fynlK"
   },
   "outputs": [],
   "source": [
    "img_list = 'imgs/' + data['objid'].astype('str') + '.jpg'"
   ]
  },
  {
   "cell_type": "code",
   "execution_count": 0,
   "metadata": {
    "colab": {
     "base_uri": "https://localhost:8080/",
     "height": 35
    },
    "colab_type": "code",
    "id": "NQyLV0V4ynlQ",
    "outputId": "1ce337aa-3bc3-4de0-89fe-d614a77a73e1"
   },
   "outputs": [
    {
     "data": {
      "text/plain": [
       "242607"
      ]
     },
     "execution_count": 15,
     "metadata": {
      "tags": []
     },
     "output_type": "execute_result"
    }
   ],
   "source": [
    "len(img_list)"
   ]
  },
  {
   "cell_type": "markdown",
   "metadata": {
    "colab_type": "text",
    "id": "a9wfi02meM26"
   },
   "source": [
    "### Resize images and do Pixel Normalization"
   ]
  },
  {
   "cell_type": "code",
   "execution_count": 0,
   "metadata": {
    "colab": {},
    "colab_type": "code",
    "id": "_vbsCNoHynlX"
   },
   "outputs": [],
   "source": [
    "IMAGE_SIZE = 32\n",
    "\n",
    "X = np.zeros((len(img_list), IMAGE_SIZE, IMAGE_SIZE,1))\n",
    "i = 0\n",
    "for _,img in enumerate(img_list):\n",
    "    np_arr = np.array(Image.open(img_files[img]).resize([IMAGE_SIZE,IMAGE_SIZE],Image.ANTIALIAS))\n",
    "    np_arr = np.absolute(np.divide(np_arr.astype(float), 255) - 1.0)\n",
    "    np_arr = np_arr.reshape(IMAGE_SIZE,IMAGE_SIZE,1)\n",
    "    X[i]=np_arr\n",
    "    i += 1\n",
    "\n",
    "del img_files"
   ]
  },
  {
   "cell_type": "code",
   "execution_count": 0,
   "metadata": {
    "colab": {
     "base_uri": "https://localhost:8080/",
     "height": 575
    },
    "colab_type": "code",
    "id": "42HwyK5uynld",
    "outputId": "24246380-c5ba-4f4e-8f46-65b5436eb214"
   },
   "outputs": [
    {
     "data": {
      "image/png": "[encoded data removed]",
      "text/plain": [
       "<Figure size 720x720 with 16 Axes>"
      ]
     },
     "metadata": {
      "tags": []
     },
     "output_type": "display_data"
    }
   ],
   "source": [
    "fig, axes = plt.subplots(4, 4, figsize=(10,10))\n",
    "axes = axes.flatten()\n",
    "for img, ax in zip( X[:16], axes):\n",
    "    ax.imshow( img[:,:,0], cmap=\"binary\")\n",
    "    ax.set_xticks(())\n",
    "    ax.set_yticks(())\n",
    "plt.show()"
   ]
  },
  {
   "cell_type": "code",
   "execution_count": 0,
   "metadata": {
    "colab": {
     "base_uri": "https://localhost:8080/",
     "height": 35
    },
    "colab_type": "code",
    "id": "eX-XcRJCynlq",
    "outputId": "2be1535e-bb32-4c19-e39e-3df3d1fd6d1e"
   },
   "outputs": [
    {
     "name": "stdout",
     "output_type": "stream",
     "text": [
      "39\n"
     ]
    }
   ],
   "source": [
    "print(len(data['level2'].unique()))\n",
    "# data['level2'].value_counts()"
   ]
  },
  {
   "cell_type": "code",
   "execution_count": 0,
   "metadata": {
    "colab": {
     "base_uri": "https://localhost:8080/",
     "height": 54
    },
    "colab_type": "code",
    "id": "H7UPXIiGynlw",
    "outputId": "b8fc26ba-a9d9-4e4b-bc68-58aab0f31a6d"
   },
   "outputs": [
    {
     "name": "stdout",
     "output_type": "stream",
     "text": [
      "(242607, 32, 32, 1)\n",
      "(242607, 39)\n"
     ]
    }
   ],
   "source": [
    "y = pd.get_dummies(data['level2'])\n",
    "print(X.shape)\n",
    "print(y.shape)"
   ]
  },
  {
   "cell_type": "markdown",
   "metadata": {
    "colab_type": "text",
    "id": "uNnw_SWrf4w-"
   },
   "source": [
    "### Split data into train set, val set and test set"
   ]
  },
  {
   "cell_type": "code",
   "execution_count": 0,
   "metadata": {
    "colab": {},
    "colab_type": "code",
    "id": "-ji2OGGbynl4"
   },
   "outputs": [],
   "source": [
    "X_train, X_test, y_train, y_test = train_test_split(X, y, test_size=0.2, random_state=123, stratify = y)\n",
    "X_train, X_val, y_train, y_val = train_test_split(X_train, y_train, test_size=0.2, random_state=123, stratify = y_train)"
   ]
  },
  {
   "cell_type": "code",
   "execution_count": 0,
   "metadata": {
    "colab": {},
    "colab_type": "code",
    "id": "DBbOOihFOuCx"
   },
   "outputs": [],
   "source": [
    "np.save(\"drive/My Drive/LAB3/data/X_train\", X_train)\n",
    "np.save(\"drive/My Drive/LAB3/data/X_val\", X_val)\n",
    "np.save(\"drive/My Drive/LAB3/data/X_test\", X_test)\n",
    "\n",
    "y_train.to_csv(\"drive/My Drive/LAB3/data/y_train.csv\", index=False)\n",
    "y_val.to_csv(\"drive/My Drive/LAB3/data/y_val.csv\", index=False)\n",
    "y_test.to_csv(\"drive/My Drive/LAB3/data/y_test.csv\", index=False)"
   ]
  },
  {
   "cell_type": "code",
   "execution_count": 0,
   "metadata": {
    "colab": {},
    "colab_type": "code",
    "id": "cv2J0jAlSntS"
   },
   "outputs": [],
   "source": [
    "del X\n",
    "del y\n",
    "del X_train\n",
    "del y_train\n",
    "del X_test\n",
    "del y_test\n",
    "del X_val\n",
    "del y_val"
   ]
  },
  {
   "cell_type": "markdown",
   "metadata": {
    "colab_type": "text",
    "id": "iv486_k5ynl_"
   },
   "source": [
    "## Data Augmentation"
   ]
  },
  {
   "cell_type": "code",
   "execution_count": 0,
   "metadata": {
    "colab": {},
    "colab_type": "code",
    "id": "JM7_8pg5PSv0"
   },
   "outputs": [],
   "source": [
    "X_train = np.load(\"drive/My Drive/LAB3/data/X_train.npy\")\n",
    "y_train = pd.read_csv(\"drive/My Drive/LAB3/data/y_train.csv\")"
   ]
  },
  {
   "cell_type": "code",
   "execution_count": 0,
   "metadata": {
    "colab": {
     "base_uri": "https://localhost:8080/",
     "height": 790
    },
    "colab_type": "code",
    "id": "rIySu4dsynmA",
    "outputId": "a308d4a2-3f16-4bb8-be46-f4b8bf8c2abf"
   },
   "outputs": [
    {
     "name": "stdout",
     "output_type": "stream",
     "text": [
      "['Annelida', 'Asterionellopsis', 'Bacteriastrum', 'Ceratocorys horrida', 'Chaetoceros', 'Codonaria', 'Codonellopsis (Dictyocystidae)', 'Copepoda', 'Coscinodiscids', 'Cyttarocylis', 'Dictyocysta', 'Dinophysiales', 'Hemiaulus', 'Lithodesmioides', 'Neoceratium', 'Odontella (Mediophyceae)', 'Pleurosigma', 'Protoperidinium', 'Retaria', 'Rhabdonella', 'Rhizosolenids', 'Stenosemella', 'Thalassionema', 'Tintinnidiidae', 'Undellidae', 'Xystonellidae', 'artefact', 'badfocus (artefact)', 'centric', 'chainlarge', 'detritus', 'egg (other)', 'feces', 'multiple (other)', 'nauplii (Crustacea)', 'pollen', 'rods', 'silks', 'tempChaetoceros danicus']\n"
     ]
    },
    {
     "data": {
      "text/plain": [
       "Annelida                            308\n",
       "Asterionellopsis                     75\n",
       "Bacteriastrum                         8\n",
       "Ceratocorys horrida                 119\n",
       "Chaetoceros                        1347\n",
       "Codonaria                           541\n",
       "Codonellopsis (Dictyocystidae)     1848\n",
       "Copepoda                           3291\n",
       "Coscinodiscids                      214\n",
       "Cyttarocylis                         64\n",
       "Dictyocysta                         351\n",
       "Dinophysiales                       336\n",
       "Hemiaulus                           429\n",
       "Lithodesmioides                      43\n",
       "Neoceratium                        8969\n",
       "Odontella (Mediophyceae)             84\n",
       "Pleurosigma                         122\n",
       "Protoperidinium                    1444\n",
       "Retaria                             165\n",
       "Rhabdonella                         234\n",
       "Rhizosolenids                      1383\n",
       "Stenosemella                        229\n",
       "Thalassionema                      3275\n",
       "Tintinnidiidae                     1425\n",
       "Undellidae                          454\n",
       "Xystonellidae                        24\n",
       "artefact                           1183\n",
       "badfocus (artefact)                5022\n",
       "centric                              93\n",
       "chainlarge                          481\n",
       "detritus                          88601\n",
       "egg (other)                         438\n",
       "feces                             17239\n",
       "multiple (other)                   2087\n",
       "nauplii (Crustacea)                5947\n",
       "pollen                             1166\n",
       "rods                               2588\n",
       "silks                              3602\n",
       "tempChaetoceros danicus              39\n",
       "dtype: int64"
      ]
     },
     "execution_count": 38,
     "metadata": {
      "tags": []
     },
     "output_type": "execute_result"
    }
   ],
   "source": [
    "# check the number of sample on each class\n",
    "class_dict = y_train.sum(axis=0).index.tolist()\n",
    "print(class_dict)\n",
    "y_train.sum(axis=0)"
   ]
  },
  {
   "cell_type": "code",
   "execution_count": 0,
   "metadata": {
    "colab": {
     "base_uri": "https://localhost:8080/",
     "height": 35
    },
    "colab_type": "code",
    "id": "Z5H-kmpcynmH",
    "outputId": "629d2a0c-2f9c-4688-900f-280f3ba397fd"
   },
   "outputs": [
    {
     "data": {
      "text/plain": [
       "(155268, 39)"
      ]
     },
     "execution_count": 39,
     "metadata": {
      "tags": []
     },
     "output_type": "execute_result"
    }
   ],
   "source": [
    "y_train.shape"
   ]
  },
  {
   "cell_type": "markdown",
   "metadata": {
    "colab_type": "text",
    "id": "ahtzxmQXifiH"
   },
   "source": [
    "### Split samples into subsets for generating data step"
   ]
  },
  {
   "cell_type": "code",
   "execution_count": 0,
   "metadata": {
    "colab": {
     "base_uri": "https://localhost:8080/",
     "height": 182
    },
    "colab_type": "code",
    "id": "3URLhMsEynmY",
    "outputId": "0cb887e9-a9e7-42c1-b02c-9fb402d53e18"
   },
   "outputs": [
    {
     "data": {
      "text/plain": [
       "Asterionellopsis            75\n",
       "Bacteriastrum                8\n",
       "Cyttarocylis                64\n",
       "Lithodesmioides             43\n",
       "Odontella (Mediophyceae)    84\n",
       "Xystonellidae               24\n",
       "centric                     93\n",
       "tempChaetoceros danicus     39\n",
       "dtype: int64"
      ]
     },
     "execution_count": 40,
     "metadata": {
      "tags": []
     },
     "output_type": "execute_result"
    }
   ],
   "source": [
    "# List class which has the number of sample less than 100\n",
    "verylowFreqClasses = y_train.columns[y_train.sum(axis=0) < 100]\n",
    "y_train[verylowFreqClasses].sum(axis=0)"
   ]
  },
  {
   "cell_type": "code",
   "execution_count": 0,
   "metadata": {
    "colab": {
     "base_uri": "https://localhost:8080/",
     "height": 293
    },
    "colab_type": "code",
    "id": "nVL4tSJeynmf",
    "outputId": "d022ec86-81af-41a4-eaee-f2a22c2d4a93"
   },
   "outputs": [
    {
     "data": {
      "text/plain": [
       "Annelida               308\n",
       "Ceratocorys horrida    119\n",
       "Codonaria              541\n",
       "Coscinodiscids         214\n",
       "Dictyocysta            351\n",
       "Dinophysiales          336\n",
       "Hemiaulus              429\n",
       "Pleurosigma            122\n",
       "Retaria                165\n",
       "Rhabdonella            234\n",
       "Stenosemella           229\n",
       "Undellidae             454\n",
       "chainlarge             481\n",
       "egg (other)            438\n",
       "dtype: int64"
      ]
     },
     "execution_count": 41,
     "metadata": {
      "tags": []
     },
     "output_type": "execute_result"
    }
   ],
   "source": [
    "# List class which has the number of sample (>= 100 and < 1000)\n",
    "lowFreqClasses = y_train.columns[(y_train.sum(axis=0) >= 100).values * (y_train.sum(axis=0) < 1000).values]\n",
    "y_train[lowFreqClasses].sum(axis=0)"
   ]
  },
  {
   "cell_type": "code",
   "execution_count": 0,
   "metadata": {
    "colab": {
     "base_uri": "https://localhost:8080/",
     "height": 311
    },
    "colab_type": "code",
    "id": "uEazyXQfynmm",
    "outputId": "a10f014f-f8c6-47c7-f286-2ddf754c1472"
   },
   "outputs": [
    {
     "data": {
      "text/plain": [
       "Chaetoceros                       1347\n",
       "Codonellopsis (Dictyocystidae)    1848\n",
       "Copepoda                          3291\n",
       "Neoceratium                       8969\n",
       "Protoperidinium                   1444\n",
       "Rhizosolenids                     1383\n",
       "Thalassionema                     3275\n",
       "Tintinnidiidae                    1425\n",
       "artefact                          1183\n",
       "badfocus (artefact)               5022\n",
       "multiple (other)                  2087\n",
       "nauplii (Crustacea)               5947\n",
       "pollen                            1166\n",
       "rods                              2588\n",
       "silks                             3602\n",
       "dtype: int64"
      ]
     },
     "execution_count": 42,
     "metadata": {
      "tags": []
     },
     "output_type": "execute_result"
    }
   ],
   "source": [
    "# List class which has the number of sample (>= 1000 and < 10000)\n",
    "mediFreqClasses = y_train.columns[(y_train.sum(axis=0) >= 1000).values * (y_train.sum(axis=0) < 10000).values]\n",
    "y_train[mediFreqClasses].sum(axis=0)"
   ]
  },
  {
   "cell_type": "code",
   "execution_count": 0,
   "metadata": {
    "colab": {
     "base_uri": "https://localhost:8080/",
     "height": 54
    },
    "colab_type": "code",
    "id": "3XuH5WVpHpQ3",
    "outputId": "e13fdc69-b0f6-4834-9568-d279fd5152cf"
   },
   "outputs": [
    {
     "data": {
      "text/plain": [
       "feces    17239\n",
       "dtype: int64"
      ]
     },
     "execution_count": 43,
     "metadata": {
      "tags": []
     },
     "output_type": "execute_result"
    }
   ],
   "source": [
    "# List class which has the number of sample (>= 10000 and < 20000)\n",
    "highFreqClasses = y_train.columns[(y_train.sum(axis=0) >= 10000).values * (y_train.sum(axis=0) < 20000).values]\n",
    "y_train[highFreqClasses].sum(axis=0)"
   ]
  },
  {
   "cell_type": "code",
   "execution_count": 0,
   "metadata": {
    "colab": {
     "base_uri": "https://localhost:8080/",
     "height": 54
    },
    "colab_type": "code",
    "id": "4uz0j-nBH00X",
    "outputId": "e461f14e-053f-494d-8794-4b8fbffa7d98"
   },
   "outputs": [
    {
     "data": {
      "text/plain": [
       "detritus    88601\n",
       "dtype: int64"
      ]
     },
     "execution_count": 44,
     "metadata": {
      "tags": []
     },
     "output_type": "execute_result"
    }
   ],
   "source": [
    "# List class which has the number of sample (> 20000)\n",
    "veryhighFreqClasses = y_train.columns[(y_train.sum(axis=0) >= 20000).values]\n",
    "y_train[veryhighFreqClasses].sum(axis=0)"
   ]
  },
  {
   "cell_type": "code",
   "execution_count": 0,
   "metadata": {
    "colab": {
     "base_uri": "https://localhost:8080/",
     "height": 35
    },
    "colab_type": "code",
    "id": "El6QgE6Hynmy",
    "outputId": "063b03d2-dd77-4032-dbea-cc4634830cc5"
   },
   "outputs": [
    {
     "name": "stdout",
     "output_type": "stream",
     "text": [
      "430\n"
     ]
    }
   ],
   "source": [
    "# List of index of samples in very low frequent class\n",
    "verylowFreqImg_index = []\n",
    "for c in verylowFreqClasses:\n",
    "    idx = y_train[c][y_train[c] == 1].index.tolist()\n",
    "    verylowFreqImg_index = np.append(verylowFreqImg_index, idx).astype(int)\n",
    "    \n",
    "print(len(verylowFreqImg_index))"
   ]
  },
  {
   "cell_type": "code",
   "execution_count": 0,
   "metadata": {
    "colab": {
     "base_uri": "https://localhost:8080/",
     "height": 35
    },
    "colab_type": "code",
    "id": "nfAtmjYQynm4",
    "outputId": "dea55a34-2d54-4661-c08e-a4b5d27501e0"
   },
   "outputs": [
    {
     "name": "stdout",
     "output_type": "stream",
     "text": [
      "4421\n"
     ]
    }
   ],
   "source": [
    "# List of index of samples in low frequent class\n",
    "lowFreqImg_index = []\n",
    "for c in lowFreqClasses:\n",
    "    idx = y_train[c][y_train[c] == 1].index.tolist()\n",
    "    lowFreqImg_index = np.append(lowFreqImg_index, idx).astype(int)\n",
    "    \n",
    "print(len(lowFreqImg_index))"
   ]
  },
  {
   "cell_type": "code",
   "execution_count": 0,
   "metadata": {
    "colab": {
     "base_uri": "https://localhost:8080/",
     "height": 35
    },
    "colab_type": "code",
    "id": "gaShqOm6ynm-",
    "outputId": "31d24d93-24bf-4020-d3dc-eab335ba416a"
   },
   "outputs": [
    {
     "name": "stdout",
     "output_type": "stream",
     "text": [
      "44577\n"
     ]
    }
   ],
   "source": [
    "# List of index of samples in medium frequent class\n",
    "mediFreqImg_index = []\n",
    "for c in mediFreqClasses:\n",
    "    idx = y_train[c][y_train[c] == 1].index.tolist()\n",
    "    mediFreqImg_index = np.append(mediFreqImg_index, idx).astype(int)\n",
    "    \n",
    "print(len(mediFreqImg_index))"
   ]
  },
  {
   "cell_type": "code",
   "execution_count": 0,
   "metadata": {
    "colab": {
     "base_uri": "https://localhost:8080/",
     "height": 35
    },
    "colab_type": "code",
    "id": "3XN9n_jgI_I0",
    "outputId": "282b8a6b-1bf3-4ff8-de2c-2346d199f4a5"
   },
   "outputs": [
    {
     "name": "stdout",
     "output_type": "stream",
     "text": [
      "17239\n"
     ]
    }
   ],
   "source": [
    "# List of index of samples in high frequent class\n",
    "highFreqImg_index = []\n",
    "for c in highFreqClasses:\n",
    "    idx = y_train[c][y_train[c] == 1].index.tolist()\n",
    "    highFreqImg_index = np.append(highFreqImg_index, idx).astype(int)\n",
    "    \n",
    "print(len(highFreqImg_index))"
   ]
  },
  {
   "cell_type": "code",
   "execution_count": 0,
   "metadata": {
    "colab": {
     "base_uri": "https://localhost:8080/",
     "height": 35
    },
    "colab_type": "code",
    "id": "IxJZFa0tJJIt",
    "outputId": "393a9000-2a8f-47e7-c6f1-bed964a1ff80"
   },
   "outputs": [
    {
     "name": "stdout",
     "output_type": "stream",
     "text": [
      "88601\n"
     ]
    }
   ],
   "source": [
    "# List of index of samples in very high frequent class\n",
    "veryhighFreqImg_index = []\n",
    "for c in veryhighFreqClasses:\n",
    "    idx = y_train[c][y_train[c] == 1].index.tolist()\n",
    "    veryhighFreqImg_index = np.append(veryhighFreqImg_index, idx).astype(int)\n",
    "    \n",
    "print(len(veryhighFreqImg_index))"
   ]
  },
  {
   "cell_type": "code",
   "execution_count": 0,
   "metadata": {
    "colab": {
     "base_uri": "https://localhost:8080/",
     "height": 35
    },
    "colab_type": "code",
    "id": "P8pQcfrSynnG",
    "outputId": "516f86eb-6e23-47c7-dc3b-962978c3ad45"
   },
   "outputs": [
    {
     "name": "stdout",
     "output_type": "stream",
     "text": [
      "(430, 32, 32, 1)\n"
     ]
    }
   ],
   "source": [
    "# Get images in very low frequent class\n",
    "verylowFreqImg = X_train[verylowFreqImg_index]\n",
    "print(verylowFreqImg.shape)"
   ]
  },
  {
   "cell_type": "code",
   "execution_count": 0,
   "metadata": {
    "colab": {
     "base_uri": "https://localhost:8080/",
     "height": 35
    },
    "colab_type": "code",
    "id": "9mtXb-JZynnL",
    "outputId": "7b501120-6fc5-4205-fa30-e15856038b48"
   },
   "outputs": [
    {
     "name": "stdout",
     "output_type": "stream",
     "text": [
      "(4421, 32, 32, 1)\n"
     ]
    }
   ],
   "source": [
    "# Get images in low frequent class\n",
    "lowFreqImg = X_train[lowFreqImg_index]\n",
    "print(lowFreqImg.shape)"
   ]
  },
  {
   "cell_type": "code",
   "execution_count": 0,
   "metadata": {
    "colab": {
     "base_uri": "https://localhost:8080/",
     "height": 35
    },
    "colab_type": "code",
    "id": "lKkseCNuynnS",
    "outputId": "fa7c8ab0-2000-4f30-f998-8c4795a37f47"
   },
   "outputs": [
    {
     "name": "stdout",
     "output_type": "stream",
     "text": [
      "(44577, 32, 32, 1)\n"
     ]
    }
   ],
   "source": [
    "# Get images in medium frequent class\n",
    "mediFreqImg = X_train[mediFreqImg_index]\n",
    "print(mediFreqImg.shape)"
   ]
  },
  {
   "cell_type": "code",
   "execution_count": 0,
   "metadata": {
    "colab": {
     "base_uri": "https://localhost:8080/",
     "height": 35
    },
    "colab_type": "code",
    "id": "l_-5_MZSKQ0W",
    "outputId": "5aa5a313-de57-4bfd-965b-1b08c3b40897"
   },
   "outputs": [
    {
     "name": "stdout",
     "output_type": "stream",
     "text": [
      "(17239, 32, 32, 1)\n"
     ]
    }
   ],
   "source": [
    "# Get images in high frequent class\n",
    "highFreqImg = X_train[highFreqImg_index]\n",
    "print(highFreqImg.shape)"
   ]
  },
  {
   "cell_type": "code",
   "execution_count": 0,
   "metadata": {
    "colab": {
     "base_uri": "https://localhost:8080/",
     "height": 35
    },
    "colab_type": "code",
    "id": "RzGcjgM_KVpL",
    "outputId": "242ccb52-b8a3-429e-d71b-3b70ce0a8b6c"
   },
   "outputs": [
    {
     "name": "stdout",
     "output_type": "stream",
     "text": [
      "(88601, 32, 32, 1)\n"
     ]
    }
   ],
   "source": [
    "# Get images in very high frequent class\n",
    "veryhighFreqImg = X_train[veryhighFreqImg_index]\n",
    "print(veryhighFreqImg.shape)"
   ]
  },
  {
   "cell_type": "code",
   "execution_count": 0,
   "metadata": {
    "colab": {
     "base_uri": "https://localhost:8080/",
     "height": 35
    },
    "colab_type": "code",
    "id": "BB1rGY-tynnY",
    "outputId": "7c73d19f-46d9-41e8-a9e5-bdbe3eefa69a"
   },
   "outputs": [
    {
     "name": "stdout",
     "output_type": "stream",
     "text": [
      "(430, 39)\n"
     ]
    }
   ],
   "source": [
    "# Get labels in very low frequent class\n",
    "verylowFreqLabel = y_train.iloc[verylowFreqImg_index]\n",
    "print(verylowFreqLabel.shape)"
   ]
  },
  {
   "cell_type": "code",
   "execution_count": 0,
   "metadata": {
    "colab": {
     "base_uri": "https://localhost:8080/",
     "height": 35
    },
    "colab_type": "code",
    "id": "MP5e2fJbKn_Z",
    "outputId": "72fda76b-1c92-4b7c-df1e-90662f769b2c"
   },
   "outputs": [
    {
     "name": "stdout",
     "output_type": "stream",
     "text": [
      "(4421, 39)\n"
     ]
    }
   ],
   "source": [
    "# Get labels in low frequent class\n",
    "lowFreqLabel = y_train.iloc[lowFreqImg_index]\n",
    "print(lowFreqLabel.shape)"
   ]
  },
  {
   "cell_type": "code",
   "execution_count": 0,
   "metadata": {
    "colab": {
     "base_uri": "https://localhost:8080/",
     "height": 35
    },
    "colab_type": "code",
    "id": "DGWkkOJxKo1w",
    "outputId": "27bb308e-5868-4d7e-dbcf-adedbeae36b3"
   },
   "outputs": [
    {
     "name": "stdout",
     "output_type": "stream",
     "text": [
      "(44577, 39)\n"
     ]
    }
   ],
   "source": [
    "# Get labels in medium frequent class\n",
    "mediFreqLabel = y_train.iloc[mediFreqImg_index]\n",
    "print(mediFreqLabel.shape)"
   ]
  },
  {
   "cell_type": "code",
   "execution_count": 0,
   "metadata": {
    "colab": {
     "base_uri": "https://localhost:8080/",
     "height": 35
    },
    "colab_type": "code",
    "id": "-Zc4cdcqKpft",
    "outputId": "20a40165-202f-4da9-bd5e-f07e904b814c"
   },
   "outputs": [
    {
     "name": "stdout",
     "output_type": "stream",
     "text": [
      "(17239, 39)\n"
     ]
    }
   ],
   "source": [
    "# Get labels in high frequent class\n",
    "highFreqLabel = y_train.iloc[highFreqImg_index]\n",
    "print(highFreqLabel.shape)"
   ]
  },
  {
   "cell_type": "code",
   "execution_count": 0,
   "metadata": {
    "colab": {
     "base_uri": "https://localhost:8080/",
     "height": 35
    },
    "colab_type": "code",
    "id": "pFVdQRR3KqHI",
    "outputId": "33d7b8b2-dacf-4105-d666-c18ab6f7fada"
   },
   "outputs": [
    {
     "name": "stdout",
     "output_type": "stream",
     "text": [
      "(88601, 39)\n"
     ]
    }
   ],
   "source": [
    "# Get labels in very high frequent class\n",
    "veryhighFreqLabel = y_train.iloc[veryhighFreqImg_index]\n",
    "print(veryhighFreqLabel.shape)"
   ]
  },
  {
   "cell_type": "code",
   "execution_count": 0,
   "metadata": {
    "colab": {},
    "colab_type": "code",
    "id": "Wh0nIvShi4Z4"
   },
   "outputs": [],
   "source": [
    "# For very low frequent class, we will augment the samples 200 times\n",
    "# For low frequent class, we will augment the samples 20 times\n",
    "# For medium frequent class, we will augment the samples 1 times\n",
    "# For high frequent class, we will keep all samples\n",
    "# For very high frequent class, we will downsample \n",
    "verylowFreqMulti = 200\n",
    "lowFreqMulti = 20\n",
    "mediFreqMulti = 1"
   ]
  },
  {
   "cell_type": "code",
   "execution_count": 0,
   "metadata": {
    "colab": {},
    "colab_type": "code",
    "id": "j3EE6NfsRIG0"
   },
   "outputs": [],
   "source": [
    "del X_train\n",
    "del y_train"
   ]
  },
  {
   "cell_type": "markdown",
   "metadata": {
    "colab_type": "text",
    "id": "_KKjFZMpynnz"
   },
   "source": [
    "### Generate data"
   ]
  },
  {
   "cell_type": "code",
   "execution_count": 0,
   "metadata": {
    "colab": {},
    "colab_type": "code",
    "id": "K-ha5MVTynnt"
   },
   "outputs": [],
   "source": [
    "# downsample the very high frequncy class\n",
    "generatedX_train = veryhighFreqImg[0:20000]\n",
    "generatedy_train = veryhighFreqLabel[0:20000]"
   ]
  },
  {
   "cell_type": "code",
   "execution_count": 0,
   "metadata": {
    "colab": {},
    "colab_type": "code",
    "id": "9SS0soY9LoW3"
   },
   "outputs": [],
   "source": [
    "# keep the high frequncy class\n",
    "generatedX_train = np.append(generatedX_train, highFreqImg, axis=0)\n",
    "generatedy_train = np.append(generatedy_train, highFreqLabel, axis=0)"
   ]
  },
  {
   "cell_type": "code",
   "execution_count": 0,
   "metadata": {
    "colab": {},
    "colab_type": "code",
    "id": "2jAdMs0lf76G"
   },
   "outputs": [],
   "source": [
    "generatedX_train = np.append(generatedX_train, verylowFreqImg, axis=0)\n",
    "generatedy_train = np.append(generatedy_train, verylowFreqLabel, axis=0)\n",
    "\n",
    "generatedX_train = np.append(generatedX_train, lowFreqImg, axis=0)\n",
    "generatedy_train = np.append(generatedy_train, lowFreqLabel, axis=0)\n",
    "\n",
    "generatedX_train = np.append(generatedX_train, mediFreqImg, axis=0)\n",
    "generatedy_train = np.append(generatedy_train, mediFreqLabel, axis=0)"
   ]
  },
  {
   "cell_type": "code",
   "execution_count": 0,
   "metadata": {
    "colab": {},
    "colab_type": "code",
    "id": "2by5YJ85ynn0"
   },
   "outputs": [],
   "source": [
    "# For very low frequent class, we will augment the samples 100 times\n",
    "generator = ImageDataGenerator(\n",
    "                rotation_range=40,\n",
    "                width_shift_range=0.2,\n",
    "                height_shift_range=0.2,\n",
    "                shear_range=0.2,\n",
    "                zoom_range=0.2,\n",
    "                horizontal_flip=True)\n",
    "\n",
    "generator.fit(verylowFreqImg)\n",
    "\n",
    "num_batches = verylowFreqMulti\n",
    "\n",
    "for images, label in generator.flow(verylowFreqImg, verylowFreqLabel, batch_size = len(verylowFreqImg)):\n",
    "    if (num_batches == 0):\n",
    "        break\n",
    "    generatedX_train = np.append(generatedX_train, images, axis=0)\n",
    "    generatedy_train = np.append(generatedy_train, label, axis=0)\n",
    "    num_batches = num_batches - 1\n"
   ]
  },
  {
   "cell_type": "code",
   "execution_count": 0,
   "metadata": {
    "colab": {},
    "colab_type": "code",
    "id": "zmtm8aXjynn5"
   },
   "outputs": [],
   "source": [
    "# For low frequent class, we will augment the samples 10 times\n",
    "generator = ImageDataGenerator(\n",
    "                rotation_range=40,\n",
    "                width_shift_range=0.2,\n",
    "                height_shift_range=0.2,\n",
    "                shear_range=0.2,\n",
    "                zoom_range=0.2,\n",
    "                horizontal_flip=True)\n",
    "\n",
    "generator.fit(lowFreqImg)\n",
    "\n",
    "num_batches = lowFreqMulti\n",
    "\n",
    "for images, label in generator.flow(lowFreqImg, lowFreqLabel, batch_size = len(lowFreqImg)):\n",
    "    if (num_batches == 0):\n",
    "        break\n",
    "    generatedX_train = np.append(generatedX_train, images, axis=0)\n",
    "    generatedy_train = np.append(generatedy_train, label, axis=0)\n",
    "    num_batches = num_batches - 1"
   ]
  },
  {
   "cell_type": "code",
   "execution_count": 0,
   "metadata": {
    "colab": {},
    "colab_type": "code",
    "id": "8QBk1bubynoG"
   },
   "outputs": [],
   "source": [
    "# For medium frequent class, we will augment the samples 2 times\n",
    "generator = ImageDataGenerator(\n",
    "                rotation_range=40,\n",
    "                width_shift_range=0.2,\n",
    "                height_shift_range=0.2,\n",
    "                shear_range=0.2,\n",
    "                zoom_range=0.2,\n",
    "                horizontal_flip=True)\n",
    "\n",
    "generator.fit(mediFreqImg)\n",
    "\n",
    "num_batches = mediFreqMulti\n",
    "\n",
    "for images, label in generator.flow(mediFreqImg, mediFreqLabel, batch_size = len(mediFreqImg)):\n",
    "    if (num_batches == 0):\n",
    "        break\n",
    "    generatedX_train = np.append(generatedX_train, images, axis=0)\n",
    "    generatedy_train = np.append(generatedy_train, label, axis=0)\n",
    "    num_batches = num_batches - 1"
   ]
  },
  {
   "cell_type": "code",
   "execution_count": 0,
   "metadata": {
    "colab": {
     "base_uri": "https://localhost:8080/",
     "height": 35
    },
    "colab_type": "code",
    "id": "5n7LP_niynoM",
    "outputId": "96951d49-b303-434d-f1cd-0e0a71f26a84"
   },
   "outputs": [
    {
     "name": "stdout",
     "output_type": "stream",
     "text": [
      "(305664, 32, 32, 1)\n"
     ]
    }
   ],
   "source": [
    "print(generatedX_train.shape)"
   ]
  },
  {
   "cell_type": "code",
   "execution_count": 0,
   "metadata": {
    "colab": {
     "base_uri": "https://localhost:8080/",
     "height": 35
    },
    "colab_type": "code",
    "id": "BUkf0gnNynoR",
    "outputId": "0d421bec-a112-4dd8-b671-8006ca445d71"
   },
   "outputs": [
    {
     "name": "stdout",
     "output_type": "stream",
     "text": [
      "(305664, 39)\n"
     ]
    }
   ],
   "source": [
    "print(generatedy_train.shape)"
   ]
  },
  {
   "cell_type": "markdown",
   "metadata": {
    "colab_type": "text",
    "id": "JJk6xTbbjF3z"
   },
   "source": [
    "### Distribution of classes after generating data"
   ]
  },
  {
   "cell_type": "code",
   "execution_count": 0,
   "metadata": {
    "colab": {
     "base_uri": "https://localhost:8080/",
     "height": 427
    },
    "colab_type": "code",
    "id": "vPPd2eXKynoW",
    "outputId": "159e7378-5bb9-4b9b-e1b6-4917b22ff4ee"
   },
   "outputs": [
    {
     "name": "stdout",
     "output_type": "stream",
     "text": [
      "1608\n"
     ]
    },
    {
     "data": {
      "image/png": "[encoded data removed]",
      "text/plain": [
       "<Figure size 432x288 with 1 Axes>"
      ]
     },
     "metadata": {
      "needs_background": "light",
      "tags": []
     },
     "output_type": "display_data"
    }
   ],
   "source": [
    "s_count = generatedy_train.sum(axis=0).tolist()\n",
    "g = sns.barplot(class_dict, s_count)\n",
    "g.set_xticklabels(g.get_xticklabels(),rotation=90)\n",
    "print(min(generatedy_train.sum(axis=0).tolist()))"
   ]
  },
  {
   "cell_type": "code",
   "execution_count": 0,
   "metadata": {
    "colab": {},
    "colab_type": "code",
    "id": "DHUjkZfv7f0n"
   },
   "outputs": [],
   "source": [
    "np.save(\"drive/My Drive/LAB3/data/generatedX_train\", generatedX_train)\n",
    "np.save(\"drive/My Drive/LAB3/data/generatedy_train\", generatedy_train)"
   ]
  },
  {
   "cell_type": "markdown",
   "metadata": {
    "colab_type": "text",
    "id": "DJ_yKq6Tynod"
   },
   "source": [
    "# Model Selection"
   ]
  },
  {
   "cell_type": "code",
   "execution_count": 0,
   "metadata": {
    "colab": {},
    "colab_type": "code",
    "id": "0KcDDYbeF_rG"
   },
   "outputs": [],
   "source": [
    "# X_train = np.load(\"drive/My Drive/LAB3/data/X_train.npy\")\n",
    "X_val = np.load(\"drive/My Drive/LAB3/data/X_val.npy\")\n",
    "# X_test = np.load(\"drive/My Drive/LAB3/data/X_test.npy\")\n",
    "generatedX_train = np.load(\"drive/My Drive/LAB3/data/generatedX_train.npy\")\n",
    "\n",
    "# y_train = pd.read_csv(\"drive/My Drive/LAB3/data/y_train.csv\")\n",
    "y_val = pd.read_csv(\"drive/My Drive/LAB3/data/y_val.csv\")\n",
    "# y_test = pd.read_csv(\"drive/My Drive/LAB3/data/y_test.csv\")\n",
    "generatedy_train = np.load(\"drive/My Drive/LAB3/data/generatedy_train.npy\")"
   ]
  },
  {
   "cell_type": "code",
   "execution_count": 0,
   "metadata": {
    "colab": {},
    "colab_type": "code",
    "id": "VgXQTcjHEw8K"
   },
   "outputs": [],
   "source": [
    "def f1(y_true, y_pred): #taken from old keras source code\n",
    " true_positives = K.sum(K.round(K.clip(y_true * y_pred, 0, 1)))\n",
    " possible_positives = K.sum(K.round(K.clip(y_true, 0, 1)))\n",
    " predicted_positives = K.sum(K.round(K.clip(y_pred, 0, 1)))\n",
    " precision = true_positives / (predicted_positives + K.epsilon())\n",
    " recall = true_positives / (possible_positives + K.epsilon())\n",
    " f1_val = 2*(precision*recall)/(precision+recall+K.epsilon())\n",
    " return f1_val"
   ]
  },
  {
   "cell_type": "markdown",
   "metadata": {
    "colab_type": "text",
    "id": "JF5kb0QmQJa8"
   },
   "source": [
    "## LeNet5 without data augment"
   ]
  },
  {
   "cell_type": "code",
   "execution_count": 0,
   "metadata": {
    "colab": {
     "base_uri": "https://localhost:8080/",
     "height": 458
    },
    "colab_type": "code",
    "id": "paPWszIgQQ7o",
    "outputId": "f658b8f4-64ce-42c6-f7df-aaddd9240fec"
   },
   "outputs": [
    {
     "name": "stdout",
     "output_type": "stream",
     "text": [
      "Model: \"sequential\"\n",
      "_________________________________________________________________\n",
      "Layer (type)                 Output Shape              Param #   \n",
      "=================================================================\n",
      "conv2d (Conv2D)              (None, 32, 32, 6)         156       \n",
      "_________________________________________________________________\n",
      "average_pooling2d (AveragePo (None, 16, 16, 6)         0         \n",
      "_________________________________________________________________\n",
      "conv2d_1 (Conv2D)            (None, 12, 12, 16)        2416      \n",
      "_________________________________________________________________\n",
      "average_pooling2d_1 (Average (None, 6, 6, 16)          0         \n",
      "_________________________________________________________________\n",
      "conv2d_2 (Conv2D)            (None, 2, 2, 120)         48120     \n",
      "_________________________________________________________________\n",
      "flatten (Flatten)            (None, 480)               0         \n",
      "_________________________________________________________________\n",
      "dense (Dense)                (None, 84)                40404     \n",
      "_________________________________________________________________\n",
      "dense_1 (Dense)              (None, 39)                3315      \n",
      "=================================================================\n",
      "Total params: 94,411\n",
      "Trainable params: 94,411\n",
      "Non-trainable params: 0\n",
      "_________________________________________________________________\n"
     ]
    }
   ],
   "source": [
    "# Instantiate an empty sequential model\n",
    "model = keras.Sequential()\n",
    "# C1 Convolutional Layer\n",
    "model.add(layers.Conv2D(filters = 6, kernel_size = 5, strides = 1, activation = 'tanh', \n",
    "input_shape = (32,32,1), padding = 'same'))\n",
    "\n",
    "# S2 Pooling Layer\n",
    "model.add(layers.AveragePooling2D(pool_size = 2, strides = 2, padding = 'valid'))\n",
    "\n",
    "# C3 Convolutional Layer\n",
    "model.add(layers.Conv2D(filters = 16, kernel_size = 5, strides = 1,activation = 'tanh',\n",
    "              padding = 'valid'))\n",
    "# S4 Pooling Layer\n",
    "model.add(layers.AveragePooling2D(pool_size = 2, strides = 2, padding = 'valid'))\n",
    "\n",
    "# C5 Convolutional Layer\n",
    "model.add(layers.Conv2D(filters = 120, kernel_size = 5, strides = 1,activation = 'tanh',\n",
    "              padding = 'valid'))\n",
    "\n",
    "# Flatten the CNN output to feed it with fully connected layers\n",
    "model.add(layers.Flatten())\n",
    "\n",
    "# FC6 Fully Connected Layer\n",
    "model.add(layers.Dense(units = 84, activation = 'tanh'))\n",
    "\n",
    "# FC7 Output layer with softmax activation\n",
    "model.add(layers.Dense(units = 39, activation = 'softmax'))\n",
    "\n",
    "# print the model summary\n",
    "model.summary()"
   ]
  },
  {
   "cell_type": "code",
   "execution_count": 0,
   "metadata": {
    "colab": {},
    "colab_type": "code",
    "id": "PC_Q7326QRE8"
   },
   "outputs": [],
   "source": [
    "model.compile(loss='categorical_crossentropy', optimizer='adam',\n",
    "               metrics=[f1, 'accuracy'])"
   ]
  },
  {
   "cell_type": "code",
   "execution_count": 0,
   "metadata": {
    "colab": {
     "base_uri": "https://localhost:8080/",
     "height": 1000
    },
    "colab_type": "code",
    "id": "KOT_H_rEQRL7",
    "outputId": "63e5c13d-25e7-4b3e-95c1-34eb2ab0faca"
   },
   "outputs": [
    {
     "name": "stdout",
     "output_type": "stream",
     "text": [
      "Epoch 1/50\n",
      "4853/4853 - 33s - loss: 1.2373 - f1: 0.5937 - accuracy: 0.6344 - val_loss: 1.0922 - val_f1: 0.6535 - val_accuracy: 0.6611\n",
      "Epoch 2/50\n",
      "4853/4853 - 30s - loss: 1.0185 - f1: 0.6555 - accuracy: 0.6791 - val_loss: 0.9806 - val_f1: 0.6565 - val_accuracy: 0.6867\n",
      "Epoch 3/50\n",
      "4853/4853 - 31s - loss: 0.9468 - f1: 0.6774 - accuracy: 0.6957 - val_loss: 0.9424 - val_f1: 0.6841 - val_accuracy: 0.6967\n",
      "Epoch 4/50\n",
      "4853/4853 - 30s - loss: 0.9091 - f1: 0.6892 - accuracy: 0.7046 - val_loss: 0.9238 - val_f1: 0.6920 - val_accuracy: 0.7040\n",
      "Epoch 5/50\n",
      "4853/4853 - 30s - loss: 0.8788 - f1: 0.6993 - accuracy: 0.7135 - val_loss: 0.8958 - val_f1: 0.6978 - val_accuracy: 0.7088\n",
      "Epoch 6/50\n",
      "4853/4853 - 30s - loss: 0.8578 - f1: 0.7072 - accuracy: 0.7183 - val_loss: 0.8719 - val_f1: 0.7058 - val_accuracy: 0.7176\n",
      "Epoch 7/50\n",
      "4853/4853 - 30s - loss: 0.8367 - f1: 0.7135 - accuracy: 0.7261 - val_loss: 0.8690 - val_f1: 0.7036 - val_accuracy: 0.7178\n",
      "Epoch 8/50\n",
      "4853/4853 - 30s - loss: 0.8231 - f1: 0.7173 - accuracy: 0.7287 - val_loss: 0.8632 - val_f1: 0.7078 - val_accuracy: 0.7206\n",
      "Epoch 9/50\n",
      "4853/4853 - 31s - loss: 0.8094 - f1: 0.7219 - accuracy: 0.7323 - val_loss: 0.8613 - val_f1: 0.7083 - val_accuracy: 0.7196\n",
      "Epoch 10/50\n",
      "4853/4853 - 31s - loss: 0.7970 - f1: 0.7258 - accuracy: 0.7362 - val_loss: 0.8695 - val_f1: 0.7023 - val_accuracy: 0.7172\n",
      "Epoch 11/50\n",
      "4853/4853 - 32s - loss: 0.7864 - f1: 0.7290 - accuracy: 0.7388 - val_loss: 0.8495 - val_f1: 0.7149 - val_accuracy: 0.7254\n",
      "Epoch 12/50\n",
      "4853/4853 - 32s - loss: 0.7777 - f1: 0.7319 - accuracy: 0.7411 - val_loss: 0.8442 - val_f1: 0.7190 - val_accuracy: 0.7306\n",
      "Epoch 13/50\n",
      "4853/4853 - 32s - loss: 0.7705 - f1: 0.7346 - accuracy: 0.7433 - val_loss: 0.8765 - val_f1: 0.7161 - val_accuracy: 0.7212\n",
      "Epoch 14/50\n",
      "4853/4853 - 32s - loss: 0.7621 - f1: 0.7369 - accuracy: 0.7452 - val_loss: 0.8343 - val_f1: 0.7221 - val_accuracy: 0.7293\n",
      "Epoch 15/50\n",
      "4853/4853 - 31s - loss: 0.7539 - f1: 0.7400 - accuracy: 0.7478 - val_loss: 0.8428 - val_f1: 0.7222 - val_accuracy: 0.7281\n",
      "Epoch 16/50\n",
      "4853/4853 - 32s - loss: 0.7464 - f1: 0.7414 - accuracy: 0.7494 - val_loss: 0.8446 - val_f1: 0.7252 - val_accuracy: 0.7295\n",
      "Epoch 17/50\n",
      "4853/4853 - 31s - loss: 0.7397 - f1: 0.7443 - accuracy: 0.7516 - val_loss: 0.8433 - val_f1: 0.7215 - val_accuracy: 0.7293\n",
      "Epoch 18/50\n",
      "4853/4853 - 32s - loss: 0.7352 - f1: 0.7449 - accuracy: 0.7525 - val_loss: 0.8495 - val_f1: 0.7237 - val_accuracy: 0.7284\n",
      "Epoch 19/50\n",
      "4853/4853 - 31s - loss: 0.7263 - f1: 0.7473 - accuracy: 0.7548 - val_loss: 0.8549 - val_f1: 0.7160 - val_accuracy: 0.7243\n",
      "Epoch 20/50\n",
      "4853/4853 - 31s - loss: 0.7238 - f1: 0.7483 - accuracy: 0.7551 - val_loss: 0.8395 - val_f1: 0.7227 - val_accuracy: 0.7299\n",
      "Epoch 21/50\n",
      "4853/4853 - 31s - loss: 0.7188 - f1: 0.7498 - accuracy: 0.7564 - val_loss: 0.8613 - val_f1: 0.7245 - val_accuracy: 0.7285\n",
      "Epoch 22/50\n",
      "4853/4853 - 31s - loss: 0.7130 - f1: 0.7519 - accuracy: 0.7583 - val_loss: 0.8622 - val_f1: 0.7250 - val_accuracy: 0.7283\n",
      "Epoch 23/50\n",
      "4853/4853 - 31s - loss: 0.7086 - f1: 0.7539 - accuracy: 0.7601 - val_loss: 0.8356 - val_f1: 0.7243 - val_accuracy: 0.7308\n",
      "Epoch 24/50\n",
      "4853/4853 - 31s - loss: 0.7028 - f1: 0.7543 - accuracy: 0.7610 - val_loss: 0.8441 - val_f1: 0.7209 - val_accuracy: 0.7267\n",
      "Epoch 25/50\n",
      "4853/4853 - 31s - loss: 0.6994 - f1: 0.7570 - accuracy: 0.7632 - val_loss: 0.8467 - val_f1: 0.7187 - val_accuracy: 0.7267\n",
      "Epoch 26/50\n",
      "4853/4853 - 31s - loss: 0.6952 - f1: 0.7577 - accuracy: 0.7637 - val_loss: 0.8503 - val_f1: 0.7219 - val_accuracy: 0.7296\n",
      "Epoch 27/50\n",
      "4853/4853 - 31s - loss: 0.6915 - f1: 0.7582 - accuracy: 0.7649 - val_loss: 0.8490 - val_f1: 0.7267 - val_accuracy: 0.7301\n",
      "Epoch 28/50\n",
      "4853/4853 - 31s - loss: 0.6857 - f1: 0.7606 - accuracy: 0.7664 - val_loss: 0.8430 - val_f1: 0.7280 - val_accuracy: 0.7322\n",
      "Epoch 29/50\n",
      "4853/4853 - 32s - loss: 0.6814 - f1: 0.7625 - accuracy: 0.7681 - val_loss: 0.8406 - val_f1: 0.7307 - val_accuracy: 0.7336\n",
      "Epoch 30/50\n",
      "4853/4853 - 31s - loss: 0.6772 - f1: 0.7612 - accuracy: 0.7679 - val_loss: 0.8698 - val_f1: 0.7206 - val_accuracy: 0.7248\n",
      "Epoch 31/50\n",
      "4853/4853 - 32s - loss: 0.6750 - f1: 0.7635 - accuracy: 0.7694 - val_loss: 0.8442 - val_f1: 0.7252 - val_accuracy: 0.7301\n",
      "Epoch 32/50\n",
      "4853/4853 - 31s - loss: 0.6692 - f1: 0.7655 - accuracy: 0.7709 - val_loss: 0.8421 - val_f1: 0.7274 - val_accuracy: 0.7316\n",
      "Epoch 33/50\n",
      "4853/4853 - 31s - loss: 0.6684 - f1: 0.7640 - accuracy: 0.7694 - val_loss: 0.8422 - val_f1: 0.7310 - val_accuracy: 0.7349\n",
      "Epoch 34/50\n",
      "4853/4853 - 31s - loss: 0.6627 - f1: 0.7671 - accuracy: 0.7723 - val_loss: 0.8548 - val_f1: 0.7180 - val_accuracy: 0.7254\n",
      "Epoch 35/50\n",
      "4853/4853 - 31s - loss: 0.6608 - f1: 0.7671 - accuracy: 0.7718 - val_loss: 0.8540 - val_f1: 0.7269 - val_accuracy: 0.7311\n",
      "Epoch 36/50\n",
      "4853/4853 - 31s - loss: 0.6587 - f1: 0.7678 - accuracy: 0.7737 - val_loss: 0.8696 - val_f1: 0.7160 - val_accuracy: 0.7238\n",
      "Epoch 37/50\n",
      "4853/4853 - 32s - loss: 0.6542 - f1: 0.7688 - accuracy: 0.7740 - val_loss: 0.8576 - val_f1: 0.7225 - val_accuracy: 0.7288\n",
      "Epoch 38/50\n",
      "4853/4853 - 31s - loss: 0.6519 - f1: 0.7694 - accuracy: 0.7748 - val_loss: 0.8521 - val_f1: 0.7238 - val_accuracy: 0.7290\n",
      "Epoch 39/50\n",
      "4853/4853 - 32s - loss: 0.6484 - f1: 0.7713 - accuracy: 0.7763 - val_loss: 0.8506 - val_f1: 0.7282 - val_accuracy: 0.7314\n",
      "Epoch 40/50\n",
      "4853/4853 - 32s - loss: 0.6481 - f1: 0.7708 - accuracy: 0.7759 - val_loss: 0.8476 - val_f1: 0.7301 - val_accuracy: 0.7338\n",
      "Epoch 41/50\n",
      "4853/4853 - 32s - loss: 0.6464 - f1: 0.7713 - accuracy: 0.7764 - val_loss: 0.8529 - val_f1: 0.7292 - val_accuracy: 0.7340\n",
      "Epoch 42/50\n",
      "4853/4853 - 32s - loss: 0.6398 - f1: 0.7737 - accuracy: 0.7779 - val_loss: 0.8586 - val_f1: 0.7290 - val_accuracy: 0.7331\n",
      "Epoch 43/50\n",
      "4853/4853 - 31s - loss: 0.6381 - f1: 0.7748 - accuracy: 0.7791 - val_loss: 0.8560 - val_f1: 0.7278 - val_accuracy: 0.7325\n",
      "Epoch 44/50\n",
      "4853/4853 - 31s - loss: 0.6332 - f1: 0.7759 - accuracy: 0.7805 - val_loss: 0.8545 - val_f1: 0.7265 - val_accuracy: 0.7312\n",
      "Epoch 45/50\n",
      "4853/4853 - 31s - loss: 0.6317 - f1: 0.7752 - accuracy: 0.7798 - val_loss: 0.8695 - val_f1: 0.7270 - val_accuracy: 0.7311\n",
      "Epoch 46/50\n",
      "4853/4853 - 31s - loss: 0.6345 - f1: 0.7748 - accuracy: 0.7793 - val_loss: 0.8544 - val_f1: 0.7274 - val_accuracy: 0.7318\n",
      "Epoch 47/50\n",
      "4853/4853 - 31s - loss: 0.6262 - f1: 0.7768 - accuracy: 0.7816 - val_loss: 0.8649 - val_f1: 0.7287 - val_accuracy: 0.7323\n",
      "Epoch 48/50\n",
      "4853/4853 - 32s - loss: 0.6268 - f1: 0.7776 - accuracy: 0.7823 - val_loss: 0.8785 - val_f1: 0.7167 - val_accuracy: 0.7232\n",
      "Epoch 49/50\n",
      "4853/4853 - 31s - loss: 0.6270 - f1: 0.7770 - accuracy: 0.7812 - val_loss: 0.8642 - val_f1: 0.7268 - val_accuracy: 0.7311\n",
      "Epoch 50/50\n",
      "4853/4853 - 31s - loss: 0.6224 - f1: 0.7788 - accuracy: 0.7830 - val_loss: 0.8741 - val_f1: 0.7297 - val_accuracy: 0.7320\n"
     ]
    }
   ],
   "source": [
    "hist = model.fit(X_train, y_train, batch_size=32, epochs=50,\n",
    "           validation_data=(X_val, y_val), class_weight=None,\n",
    "           verbose=2, shuffle=True)"
   ]
  },
  {
   "cell_type": "code",
   "execution_count": 0,
   "metadata": {
    "colab": {
     "base_uri": "https://localhost:8080/",
     "height": 545
    },
    "colab_type": "code",
    "id": "uQRLjGP2QWgX",
    "outputId": "0b9856b1-e359-4fc6-94f3-b2914a32a339"
   },
   "outputs": [
    {
     "data": {
      "image/png": "[encoded data removed]",
      "text/plain": [
       "<Figure size 432x288 with 1 Axes>"
      ]
     },
     "metadata": {
      "needs_background": "light",
      "tags": []
     },
     "output_type": "display_data"
    },
    {
     "data": {
      "image/png": "[encoded data removed]",
      "text/plain": [
       "<Figure size 432x288 with 1 Axes>"
      ]
     },
     "metadata": {
      "needs_background": "light",
      "tags": []
     },
     "output_type": "display_data"
    }
   ],
   "source": [
    "acc = hist.history['accuracy']\n",
    "val_acc = hist.history['val_accuracy']\n",
    "f1 = hist.history['f1']\n",
    "val_f1 = hist.history['val_f1']\n",
    " \n",
    "epochs = range(len(acc))\n",
    " \n",
    "plt.plot(epochs, acc, 'b', label='Train acc')\n",
    "plt.plot(epochs, val_acc, 'r', label='Val acc')\n",
    "plt.title('Training and testing accuracy')\n",
    "plt.legend()\n",
    " \n",
    "plt.figure()\n",
    " \n",
    "plt.plot(epochs, f1, 'b', label='Train f1')\n",
    "plt.plot(epochs, val_f1, 'r', label='Val f1')\n",
    "plt.title('Train and Val f1 score')\n",
    "plt.legend()\n",
    " \n",
    "plt.show()"
   ]
  },
  {
   "cell_type": "code",
   "execution_count": 0,
   "metadata": {
    "colab": {
     "base_uri": "https://localhost:8080/",
     "height": 919
    },
    "colab_type": "code",
    "id": "vZ6jWxpuS7Cd",
    "outputId": "bbdc4d82-5894-4486-d2e2-27fed0a5e095"
   },
   "outputs": [
    {
     "name": "stdout",
     "output_type": "stream",
     "text": [
      "              precision    recall  f1-score   support\n",
      "\n",
      "           0       0.62      0.06      0.12        77\n",
      "           1       0.00      0.00      0.00        19\n",
      "           2       0.00      0.00      0.00         2\n",
      "           3       0.00      0.00      0.00        30\n",
      "           4       0.49      0.47      0.48       337\n",
      "           5       0.51      0.19      0.28       135\n",
      "           6       0.70      0.81      0.75       462\n",
      "           7       0.51      0.37      0.43       822\n",
      "           8       0.41      0.36      0.38        53\n",
      "           9       0.00      0.00      0.00        16\n",
      "          10       0.44      0.40      0.42        88\n",
      "          11       1.00      0.01      0.02        84\n",
      "          12       0.71      0.23      0.35       107\n",
      "          13       0.00      0.00      0.00        11\n",
      "          14       0.83      0.84      0.83      2242\n",
      "          15       0.43      0.14      0.21        21\n",
      "          16       0.50      0.03      0.06        31\n",
      "          17       0.71      0.51      0.60       361\n",
      "          18       1.00      0.05      0.09        41\n",
      "          19       0.52      0.27      0.36        59\n",
      "          20       0.39      0.28      0.33       345\n",
      "          21       0.00      0.00      0.00        57\n",
      "          22       0.82      0.74      0.78       818\n",
      "          23       0.63      0.47      0.54       356\n",
      "          24       0.55      0.42      0.48       114\n",
      "          25       0.00      0.00      0.00         6\n",
      "          26       0.46      0.21      0.29       296\n",
      "          27       0.95      0.86      0.90      1256\n",
      "          28       1.00      0.04      0.08        23\n",
      "          29       0.27      0.03      0.05       120\n",
      "          30       0.75      0.91      0.83     22150\n",
      "          31       0.49      0.32      0.38       110\n",
      "          32       0.60      0.30      0.40      4310\n",
      "          33       0.11      0.01      0.02       522\n",
      "          34       0.69      0.53      0.60      1487\n",
      "          35       0.60      0.40      0.48       291\n",
      "          36       0.57      0.40      0.47       647\n",
      "          37       0.58      0.69      0.63       901\n",
      "          38       0.00      0.00      0.00        10\n",
      "\n",
      "    accuracy                           0.73     38817\n",
      "   macro avg       0.48      0.29      0.32     38817\n",
      "weighted avg       0.71      0.73      0.70     38817\n",
      "\n"
     ]
    },
    {
     "name": "stderr",
     "output_type": "stream",
     "text": [
      "/usr/local/lib/python3.6/dist-packages/sklearn/metrics/_classification.py:1272: UndefinedMetricWarning: Precision and F-score are ill-defined and being set to 0.0 in labels with no predicted samples. Use `zero_division` parameter to control this behavior.\n",
      "  _warn_prf(average, modifier, msg_start, len(result))\n"
     ]
    }
   ],
   "source": [
    "y_predicted = model.predict(X_val)\n",
    "predicted  = y_predicted.argmax(axis = 1)\n",
    "y_val = y_val.values\n",
    "y_val = y_val.argmax(axis = 1)\n",
    "report = classification_report(y_val, predicted)\n",
    "print(report)"
   ]
  },
  {
   "cell_type": "markdown",
   "metadata": {
    "colab_type": "text",
    "id": "CAVWJ139ynoe"
   },
   "source": [
    "## LeNet5 with data augment"
   ]
  },
  {
   "cell_type": "code",
   "execution_count": 0,
   "metadata": {
    "colab": {
     "base_uri": "https://localhost:8080/",
     "height": 458
    },
    "colab_type": "code",
    "id": "StwWyfu1yno2",
    "outputId": "f854b114-f71d-4323-d44f-fc0a71268104"
   },
   "outputs": [
    {
     "name": "stdout",
     "output_type": "stream",
     "text": [
      "Model: \"sequential\"\n",
      "_________________________________________________________________\n",
      "Layer (type)                 Output Shape              Param #   \n",
      "=================================================================\n",
      "conv2d (Conv2D)              (None, 32, 32, 6)         156       \n",
      "_________________________________________________________________\n",
      "average_pooling2d (AveragePo (None, 16, 16, 6)         0         \n",
      "_________________________________________________________________\n",
      "conv2d_1 (Conv2D)            (None, 12, 12, 16)        2416      \n",
      "_________________________________________________________________\n",
      "average_pooling2d_1 (Average (None, 6, 6, 16)          0         \n",
      "_________________________________________________________________\n",
      "conv2d_2 (Conv2D)            (None, 2, 2, 120)         48120     \n",
      "_________________________________________________________________\n",
      "flatten (Flatten)            (None, 480)               0         \n",
      "_________________________________________________________________\n",
      "dense (Dense)                (None, 84)                40404     \n",
      "_________________________________________________________________\n",
      "dense_1 (Dense)              (None, 39)                3315      \n",
      "=================================================================\n",
      "Total params: 94,411\n",
      "Trainable params: 94,411\n",
      "Non-trainable params: 0\n",
      "_________________________________________________________________\n"
     ]
    }
   ],
   "source": [
    "# Instantiate an empty sequential model\n",
    "model = keras.Sequential()\n",
    "# C1 Convolutional Layer\n",
    "model.add(layers.Conv2D(filters = 6, kernel_size = 5, strides = 1, activation = 'tanh', \n",
    "input_shape = (32,32,1), padding = 'same'))\n",
    "\n",
    "# S2 Pooling Layer\n",
    "model.add(layers.AveragePooling2D(pool_size = 2, strides = 2, padding = 'valid'))\n",
    "\n",
    "# C3 Convolutional Layer\n",
    "model.add(layers.Conv2D(filters = 16, kernel_size = 5, strides = 1,activation = 'tanh',\n",
    "              padding = 'valid'))\n",
    "# S4 Pooling Layer\n",
    "model.add(layers.AveragePooling2D(pool_size = 2, strides = 2, padding = 'valid'))\n",
    "\n",
    "# C5 Convolutional Layer\n",
    "model.add(layers.Conv2D(filters = 120, kernel_size = 5, strides = 1,activation = 'tanh',\n",
    "              padding = 'valid'))\n",
    "\n",
    "# Flatten the CNN output to feed it with fully connected layers\n",
    "model.add(layers.Flatten())\n",
    "\n",
    "# FC6 Fully Connected Layer\n",
    "model.add(layers.Dense(units = 84, activation = 'tanh'))\n",
    "\n",
    "# FC7 Output layer with softmax activation\n",
    "model.add(layers.Dense(units = 39, activation = 'softmax'))\n",
    "\n",
    "# print the model summary\n",
    "model.summary()"
   ]
  },
  {
   "cell_type": "code",
   "execution_count": 0,
   "metadata": {
    "colab": {},
    "colab_type": "code",
    "id": "to6aBNdvyno7"
   },
   "outputs": [],
   "source": [
    "model.compile(loss='categorical_crossentropy', optimizer='adam',\n",
    "               metrics=[f1, 'accuracy'])"
   ]
  },
  {
   "cell_type": "code",
   "execution_count": 0,
   "metadata": {
    "colab": {
     "base_uri": "https://localhost:8080/",
     "height": 1000
    },
    "colab_type": "code",
    "id": "qJ2yjRXdyno_",
    "outputId": "c4e25c87-2fa2-4db4-93a9-983d54c99f45"
   },
   "outputs": [
    {
     "name": "stdout",
     "output_type": "stream",
     "text": [
      "Epoch 1/50\n",
      "9552/9552 - 29s - loss: 2.1188 - f1: 0.2178 - accuracy: 0.3577 - val_loss: 1.5319 - val_f1: 0.4068 - val_accuracy: 0.5023\n",
      "Epoch 2/50\n",
      "9552/9552 - 30s - loss: 1.7359 - f1: 0.3768 - accuracy: 0.4623 - val_loss: 1.5832 - val_f1: 0.4159 - val_accuracy: 0.4890\n",
      "Epoch 3/50\n",
      "9552/9552 - 29s - loss: 1.6130 - f1: 0.4290 - accuracy: 0.4965 - val_loss: 1.2988 - val_f1: 0.5198 - val_accuracy: 0.5600\n",
      "Epoch 4/50\n",
      "9552/9552 - 30s - loss: 1.5385 - f1: 0.4600 - accuracy: 0.5195 - val_loss: 1.4594 - val_f1: 0.4868 - val_accuracy: 0.5311\n",
      "Epoch 5/50\n",
      "9552/9552 - 30s - loss: 1.4851 - f1: 0.4820 - accuracy: 0.5344 - val_loss: 1.3500 - val_f1: 0.5020 - val_accuracy: 0.5420\n",
      "Epoch 6/50\n",
      "9552/9552 - 30s - loss: 1.4438 - f1: 0.4997 - accuracy: 0.5480 - val_loss: 1.2651 - val_f1: 0.5344 - val_accuracy: 0.5707\n",
      "Epoch 7/50\n",
      "9552/9552 - 30s - loss: 1.4126 - f1: 0.5133 - accuracy: 0.5577 - val_loss: 1.4251 - val_f1: 0.4784 - val_accuracy: 0.5182\n",
      "Epoch 8/50\n",
      "9552/9552 - 30s - loss: 1.3891 - f1: 0.5232 - accuracy: 0.5656 - val_loss: 1.4878 - val_f1: 0.4545 - val_accuracy: 0.4986\n",
      "Epoch 9/50\n",
      "9552/9552 - 30s - loss: 1.3662 - f1: 0.5323 - accuracy: 0.5722 - val_loss: 1.3371 - val_f1: 0.5149 - val_accuracy: 0.5502\n",
      "Epoch 10/50\n",
      "9552/9552 - 30s - loss: 1.3478 - f1: 0.5403 - accuracy: 0.5778 - val_loss: 1.2621 - val_f1: 0.5327 - val_accuracy: 0.5666\n",
      "Epoch 11/50\n",
      "9552/9552 - 30s - loss: 1.3317 - f1: 0.5463 - accuracy: 0.5831 - val_loss: 1.2933 - val_f1: 0.5444 - val_accuracy: 0.5786\n",
      "Epoch 12/50\n",
      "9552/9552 - 30s - loss: 1.3170 - f1: 0.5536 - accuracy: 0.5881 - val_loss: 1.2241 - val_f1: 0.5543 - val_accuracy: 0.5817\n",
      "Epoch 13/50\n",
      "9552/9552 - 31s - loss: 1.3050 - f1: 0.5582 - accuracy: 0.5915 - val_loss: 1.1967 - val_f1: 0.5506 - val_accuracy: 0.5874\n",
      "Epoch 14/50\n",
      "9552/9552 - 31s - loss: 1.2912 - f1: 0.5631 - accuracy: 0.5953 - val_loss: 1.2304 - val_f1: 0.5549 - val_accuracy: 0.5825\n",
      "Epoch 15/50\n",
      "9552/9552 - 30s - loss: 1.2854 - f1: 0.5650 - accuracy: 0.5962 - val_loss: 1.3032 - val_f1: 0.5311 - val_accuracy: 0.5633\n",
      "Epoch 16/50\n",
      "9552/9552 - 30s - loss: 1.2743 - f1: 0.5702 - accuracy: 0.6008 - val_loss: 1.2411 - val_f1: 0.5503 - val_accuracy: 0.5879\n",
      "Epoch 17/50\n",
      "9552/9552 - 30s - loss: 1.2702 - f1: 0.5721 - accuracy: 0.6018 - val_loss: 1.3817 - val_f1: 0.4999 - val_accuracy: 0.5354\n",
      "Epoch 18/50\n",
      "9552/9552 - 30s - loss: 1.2637 - f1: 0.5752 - accuracy: 0.6040 - val_loss: 1.2230 - val_f1: 0.5594 - val_accuracy: 0.5873\n",
      "Epoch 19/50\n",
      "9552/9552 - 30s - loss: 1.2557 - f1: 0.5775 - accuracy: 0.6066 - val_loss: 1.2543 - val_f1: 0.5392 - val_accuracy: 0.5711\n",
      "Epoch 20/50\n",
      "9552/9552 - 30s - loss: 1.2504 - f1: 0.5790 - accuracy: 0.6075 - val_loss: 1.2697 - val_f1: 0.5248 - val_accuracy: 0.5671\n",
      "Epoch 21/50\n",
      "9552/9552 - 30s - loss: 1.2443 - f1: 0.5819 - accuracy: 0.6090 - val_loss: 1.2504 - val_f1: 0.5589 - val_accuracy: 0.5849\n",
      "Epoch 22/50\n",
      "9552/9552 - 30s - loss: 1.2429 - f1: 0.5813 - accuracy: 0.6096 - val_loss: 1.2009 - val_f1: 0.5744 - val_accuracy: 0.6138\n",
      "Epoch 23/50\n",
      "9552/9552 - 31s - loss: 1.2381 - f1: 0.5839 - accuracy: 0.6113 - val_loss: 1.2121 - val_f1: 0.5642 - val_accuracy: 0.5892\n",
      "Epoch 24/50\n",
      "9552/9552 - 31s - loss: 1.2340 - f1: 0.5857 - accuracy: 0.6127 - val_loss: 1.1462 - val_f1: 0.5840 - val_accuracy: 0.6079\n",
      "Epoch 25/50\n",
      "9552/9552 - 30s - loss: 1.2319 - f1: 0.5873 - accuracy: 0.6134 - val_loss: 1.2040 - val_f1: 0.5745 - val_accuracy: 0.5949\n",
      "Epoch 26/50\n",
      "9552/9552 - 31s - loss: 1.2291 - f1: 0.5881 - accuracy: 0.6138 - val_loss: 1.3255 - val_f1: 0.5262 - val_accuracy: 0.5588\n",
      "Epoch 27/50\n",
      "9552/9552 - 31s - loss: 1.2236 - f1: 0.5900 - accuracy: 0.6156 - val_loss: 1.2846 - val_f1: 0.5374 - val_accuracy: 0.5641\n",
      "Epoch 28/50\n",
      "9552/9552 - 31s - loss: 1.2207 - f1: 0.5910 - accuracy: 0.6174 - val_loss: 1.3032 - val_f1: 0.5272 - val_accuracy: 0.5552\n",
      "Epoch 29/50\n",
      "9552/9552 - 31s - loss: 1.2210 - f1: 0.5903 - accuracy: 0.6167 - val_loss: 1.3651 - val_f1: 0.5079 - val_accuracy: 0.5389\n",
      "Epoch 30/50\n",
      "9552/9552 - 31s - loss: 1.2181 - f1: 0.5913 - accuracy: 0.6168 - val_loss: 1.1659 - val_f1: 0.5640 - val_accuracy: 0.5899\n",
      "Epoch 31/50\n",
      "9552/9552 - 31s - loss: 1.2153 - f1: 0.5928 - accuracy: 0.6178 - val_loss: 1.2676 - val_f1: 0.5399 - val_accuracy: 0.5680\n",
      "Epoch 32/50\n",
      "9552/9552 - 31s - loss: 1.2098 - f1: 0.5945 - accuracy: 0.6199 - val_loss: 1.2493 - val_f1: 0.5529 - val_accuracy: 0.5813\n",
      "Epoch 33/50\n",
      "9552/9552 - 31s - loss: 1.2116 - f1: 0.5939 - accuracy: 0.6186 - val_loss: 1.2889 - val_f1: 0.5440 - val_accuracy: 0.5721\n",
      "Epoch 34/50\n",
      "9552/9552 - 31s - loss: 1.2086 - f1: 0.5944 - accuracy: 0.6192 - val_loss: 1.2365 - val_f1: 0.5569 - val_accuracy: 0.5809\n",
      "Epoch 35/50\n",
      "9552/9552 - 31s - loss: 1.2066 - f1: 0.5964 - accuracy: 0.6206 - val_loss: 1.2134 - val_f1: 0.5577 - val_accuracy: 0.5875\n",
      "Epoch 36/50\n",
      "9552/9552 - 31s - loss: 1.2046 - f1: 0.5967 - accuracy: 0.6213 - val_loss: 1.2087 - val_f1: 0.5666 - val_accuracy: 0.5933\n",
      "Epoch 37/50\n",
      "9552/9552 - 31s - loss: 1.2024 - f1: 0.5982 - accuracy: 0.6223 - val_loss: 1.1645 - val_f1: 0.5846 - val_accuracy: 0.6069\n",
      "Epoch 38/50\n",
      "9552/9552 - 31s - loss: 1.2025 - f1: 0.5978 - accuracy: 0.6227 - val_loss: 1.2198 - val_f1: 0.5628 - val_accuracy: 0.5828\n",
      "Epoch 39/50\n",
      "9552/9552 - 31s - loss: 1.1998 - f1: 0.5995 - accuracy: 0.6229 - val_loss: 1.2156 - val_f1: 0.5564 - val_accuracy: 0.5812\n",
      "Epoch 40/50\n",
      "9552/9552 - 31s - loss: 1.1978 - f1: 0.5998 - accuracy: 0.6233 - val_loss: 1.2264 - val_f1: 0.5606 - val_accuracy: 0.5894\n",
      "Epoch 41/50\n",
      "9552/9552 - 31s - loss: 1.1994 - f1: 0.5988 - accuracy: 0.6228 - val_loss: 1.2736 - val_f1: 0.5470 - val_accuracy: 0.5715\n",
      "Epoch 42/50\n",
      "9552/9552 - 31s - loss: 1.1974 - f1: 0.6000 - accuracy: 0.6229 - val_loss: 1.2566 - val_f1: 0.5489 - val_accuracy: 0.5740\n",
      "Epoch 43/50\n",
      "9552/9552 - 31s - loss: 1.1922 - f1: 0.6013 - accuracy: 0.6253 - val_loss: 1.2410 - val_f1: 0.5567 - val_accuracy: 0.5798\n",
      "Epoch 44/50\n",
      "9552/9552 - 31s - loss: 1.1921 - f1: 0.6020 - accuracy: 0.6248 - val_loss: 1.2357 - val_f1: 0.5441 - val_accuracy: 0.5711\n",
      "Epoch 45/50\n",
      "9552/9552 - 30s - loss: 1.1930 - f1: 0.6004 - accuracy: 0.6241 - val_loss: 1.2615 - val_f1: 0.5419 - val_accuracy: 0.5685\n",
      "Epoch 46/50\n",
      "9552/9552 - 30s - loss: 1.1929 - f1: 0.6018 - accuracy: 0.6250 - val_loss: 1.2022 - val_f1: 0.5589 - val_accuracy: 0.5859\n",
      "Epoch 47/50\n",
      "9552/9552 - 31s - loss: 1.1901 - f1: 0.6026 - accuracy: 0.6255 - val_loss: 1.3007 - val_f1: 0.5389 - val_accuracy: 0.5641\n",
      "Epoch 48/50\n",
      "9552/9552 - 30s - loss: 1.1864 - f1: 0.6040 - accuracy: 0.6271 - val_loss: 1.2393 - val_f1: 0.5551 - val_accuracy: 0.5825\n",
      "Epoch 49/50\n",
      "9552/9552 - 30s - loss: 1.1903 - f1: 0.6023 - accuracy: 0.6256 - val_loss: 1.2478 - val_f1: 0.5508 - val_accuracy: 0.5779\n",
      "Epoch 50/50\n",
      "9552/9552 - 31s - loss: 1.1862 - f1: 0.6032 - accuracy: 0.6269 - val_loss: 1.1703 - val_f1: 0.5780 - val_accuracy: 0.5990\n"
     ]
    }
   ],
   "source": [
    "hist = model.fit(generatedX_train, generatedy_train, batch_size=32, epochs=50,\n",
    "           validation_data=(X_val, y_val), class_weight=None,\n",
    "           verbose=2, shuffle=True)"
   ]
  },
  {
   "cell_type": "code",
   "execution_count": 0,
   "metadata": {
    "colab": {
     "base_uri": "https://localhost:8080/",
     "height": 545
    },
    "colab_type": "code",
    "id": "Qe0KyGEprJ01",
    "outputId": "62e01615-8b90-4db6-cb9f-d64d7d75a581"
   },
   "outputs": [
    {
     "data": {
      "image/png": "[encoded data removed]",
      "text/plain": [
       "<Figure size 432x288 with 1 Axes>"
      ]
     },
     "metadata": {
      "needs_background": "light",
      "tags": []
     },
     "output_type": "display_data"
    },
    {
     "data": {
      "image/png": "[encoded data removed]",
      "text/plain": [
       "<Figure size 432x288 with 1 Axes>"
      ]
     },
     "metadata": {
      "needs_background": "light",
      "tags": []
     },
     "output_type": "display_data"
    }
   ],
   "source": [
    "model.save('LeNet5.h5')\n",
    "\n",
    "acc = hist.history['accuracy']\n",
    "val_acc = hist.history['val_accuracy']\n",
    "f1 = hist.history['f1']\n",
    "val_f1 = hist.history['val_f1']\n",
    " \n",
    "epochs = range(len(acc))\n",
    " \n",
    "plt.plot(epochs, acc, 'b', label='Train acc')\n",
    "plt.plot(epochs, val_acc, 'r', label='Val acc')\n",
    "plt.title('Training and testing accuracy')\n",
    "plt.legend()\n",
    " \n",
    "plt.figure()\n",
    " \n",
    "plt.plot(epochs, f1, 'b', label='Train f1')\n",
    "plt.plot(epochs, val_f1, 'r', label='Val f1')\n",
    "plt.title('Train and Val f1 score')\n",
    "plt.legend()\n",
    " \n",
    "plt.show()"
   ]
  },
  {
   "cell_type": "code",
   "execution_count": 0,
   "metadata": {
    "colab": {
     "base_uri": "https://localhost:8080/",
     "height": 862
    },
    "colab_type": "code",
    "id": "GpZxIGRiYwZb",
    "outputId": "0fcfb223-fbcd-4eaf-c152-44d1eb7174df"
   },
   "outputs": [
    {
     "name": "stdout",
     "output_type": "stream",
     "text": [
      "              precision    recall  f1-score   support\n",
      "\n",
      "           0       0.19      0.26      0.22        77\n",
      "           1       0.04      0.68      0.08        19\n",
      "           2       0.10      1.00      0.17         2\n",
      "           3       0.18      0.23      0.20        30\n",
      "           4       0.41      0.34      0.37       337\n",
      "           5       0.35      0.21      0.26       135\n",
      "           6       0.56      0.77      0.65       462\n",
      "           7       0.45      0.28      0.34       822\n",
      "           8       0.31      0.30      0.30        53\n",
      "           9       0.11      0.25      0.15        16\n",
      "          10       0.22      0.33      0.26        88\n",
      "          11       0.11      0.14      0.12        84\n",
      "          12       0.25      0.49      0.33       107\n",
      "          13       0.01      0.27      0.02        11\n",
      "          14       0.72      0.84      0.77      2242\n",
      "          15       0.04      0.76      0.08        21\n",
      "          16       0.04      0.06      0.05        31\n",
      "          17       0.71      0.34      0.46       361\n",
      "          18       0.08      0.20      0.12        41\n",
      "          19       0.14      0.41      0.21        59\n",
      "          20       0.27      0.39      0.32       345\n",
      "          21       0.00      0.00      0.00        57\n",
      "          22       0.64      0.85      0.73       818\n",
      "          23       0.61      0.31      0.41       356\n",
      "          24       0.33      0.56      0.42       114\n",
      "          25       0.00      0.00      0.00         6\n",
      "          26       0.40      0.26      0.31       296\n",
      "          27       0.86      0.89      0.87      1256\n",
      "          28       0.02      0.09      0.03        23\n",
      "          29       0.08      0.42      0.13       120\n",
      "          30       0.89      0.56      0.69     22150\n",
      "          31       0.26      0.39      0.31       110\n",
      "          32       0.37      0.81      0.51      4310\n",
      "          33       0.21      0.07      0.10       522\n",
      "          34       0.52      0.67      0.58      1487\n",
      "          35       0.55      0.30      0.38       291\n",
      "          36       0.43      0.50      0.46       647\n",
      "          37       0.52      0.65      0.58       901\n",
      "          38       0.01      0.30      0.02        10\n",
      "\n",
      "    accuracy                           0.60     38817\n",
      "   macro avg       0.31      0.41      0.31     38817\n",
      "weighted avg       0.72      0.60      0.62     38817\n",
      "\n"
     ]
    }
   ],
   "source": [
    "y_predicted = model.predict(X_val)\n",
    "predicted  = y_predicted.argmax(axis = 1)\n",
    "y_val = y_val.values\n",
    "y_val = y_val.argmax(axis = 1)\n",
    "report = classification_report(y_val, predicted)\n",
    "print(report)"
   ]
  },
  {
   "cell_type": "markdown",
   "metadata": {
    "colab_type": "text",
    "id": "nXiN4u5n6NsI"
   },
   "source": [
    "## LeNet5 with class_weight"
   ]
  },
  {
   "cell_type": "code",
   "execution_count": 0,
   "metadata": {
    "colab": {},
    "colab_type": "code",
    "id": "5ZeGREKDLK2I"
   },
   "outputs": [],
   "source": [
    "y_integers = np.argmax(y_train.values, axis=1)\n",
    "\n",
    "class_w = class_weight.compute_class_weight('balanced', np.unique(y_integers), y_integers)\n",
    "classes = np.unique(y_integers)\n",
    "class_weights = dict(zip(classes, class_w))\n",
    "\n",
    "# print(class_w)\n",
    "# print((len(y_train.values) / 39)  / y_train.values.sum(axis=0))\n",
    "# print(class_weights)"
   ]
  },
  {
   "cell_type": "code",
   "execution_count": 0,
   "metadata": {
    "colab": {
     "base_uri": "https://localhost:8080/",
     "height": 458
    },
    "colab_type": "code",
    "id": "V5VDQd4f6W24",
    "outputId": "4133294b-22c8-41a3-941b-b05b92f11f70"
   },
   "outputs": [
    {
     "name": "stdout",
     "output_type": "stream",
     "text": [
      "Model: \"sequential\"\n",
      "_________________________________________________________________\n",
      "Layer (type)                 Output Shape              Param #   \n",
      "=================================================================\n",
      "conv2d (Conv2D)              (None, 32, 32, 6)         156       \n",
      "_________________________________________________________________\n",
      "average_pooling2d (AveragePo (None, 16, 16, 6)         0         \n",
      "_________________________________________________________________\n",
      "conv2d_1 (Conv2D)            (None, 12, 12, 16)        2416      \n",
      "_________________________________________________________________\n",
      "average_pooling2d_1 (Average (None, 6, 6, 16)          0         \n",
      "_________________________________________________________________\n",
      "conv2d_2 (Conv2D)            (None, 2, 2, 120)         48120     \n",
      "_________________________________________________________________\n",
      "flatten (Flatten)            (None, 480)               0         \n",
      "_________________________________________________________________\n",
      "dense (Dense)                (None, 84)                40404     \n",
      "_________________________________________________________________\n",
      "dense_1 (Dense)              (None, 39)                3315      \n",
      "=================================================================\n",
      "Total params: 94,411\n",
      "Trainable params: 94,411\n",
      "Non-trainable params: 0\n",
      "_________________________________________________________________\n"
     ]
    }
   ],
   "source": [
    "# Instantiate an empty sequential model\n",
    "model = keras.Sequential()\n",
    "# C1 Convolutional Layer\n",
    "model.add(layers.Conv2D(filters = 6, kernel_size = 5, strides = 1, activation = 'tanh', \n",
    "input_shape = (32,32,1), padding = 'same'))\n",
    "\n",
    "# S2 Pooling Layer\n",
    "model.add(layers.AveragePooling2D(pool_size = 2, strides = 2, padding = 'valid'))\n",
    "\n",
    "# C3 Convolutional Layer\n",
    "model.add(layers.Conv2D(filters = 16, kernel_size = 5, strides = 1,activation = 'tanh',\n",
    "              padding = 'valid'))\n",
    "# S4 Pooling Layer\n",
    "model.add(layers.AveragePooling2D(pool_size = 2, strides = 2, padding = 'valid'))\n",
    "\n",
    "# C5 Convolutional Layer\n",
    "model.add(layers.Conv2D(filters = 120, kernel_size = 5, strides = 1,activation = 'tanh',\n",
    "              padding = 'valid'))\n",
    "\n",
    "# Flatten the CNN output to feed it with fully connected layers\n",
    "model.add(layers.Flatten())\n",
    "\n",
    "# FC6 Fully Connected Layer\n",
    "model.add(layers.Dense(units = 84, activation = 'tanh'))\n",
    "\n",
    "# FC7 Output layer with softmax activation\n",
    "model.add(layers.Dense(units = 39, activation = 'softmax'))\n",
    "\n",
    "# print the model summary\n",
    "model.summary()"
   ]
  },
  {
   "cell_type": "code",
   "execution_count": 0,
   "metadata": {
    "colab": {},
    "colab_type": "code",
    "id": "TkEElMWR6gTw"
   },
   "outputs": [],
   "source": [
    "model.compile(loss='categorical_crossentropy', optimizer='adam',\n",
    "               metrics=[f1, 'accuracy'])"
   ]
  },
  {
   "cell_type": "code",
   "execution_count": 0,
   "metadata": {
    "colab": {
     "base_uri": "https://localhost:8080/",
     "height": 1000
    },
    "colab_type": "code",
    "id": "9uZPRIB-6i8T",
    "outputId": "74e180e7-ac51-49a2-b3d3-676c6c0a105f"
   },
   "outputs": [
    {
     "name": "stdout",
     "output_type": "stream",
     "text": [
      "Epoch 1/50\n",
      "4853/4853 - 19s - loss: 2.9374 - f1: 0.0041 - accuracy: 0.0631 - val_loss: 3.1124 - val_f1: 0.0437 - val_accuracy: 0.0904\n",
      "Epoch 2/50\n",
      "4853/4853 - 18s - loss: 2.5535 - f1: 0.0365 - accuracy: 0.1000 - val_loss: 3.2574 - val_f1: 0.0594 - val_accuracy: 0.0991\n",
      "Epoch 3/50\n",
      "4853/4853 - 18s - loss: 2.3715 - f1: 0.0564 - accuracy: 0.1127 - val_loss: 3.1019 - val_f1: 0.0727 - val_accuracy: 0.1069\n",
      "Epoch 4/50\n",
      "4853/4853 - 18s - loss: 2.2287 - f1: 0.0711 - accuracy: 0.1223 - val_loss: 3.0214 - val_f1: 0.0709 - val_accuracy: 0.1199\n",
      "Epoch 5/50\n",
      "4853/4853 - 18s - loss: 2.1331 - f1: 0.0777 - accuracy: 0.1321 - val_loss: 2.9552 - val_f1: 0.0715 - val_accuracy: 0.1241\n",
      "Epoch 6/50\n",
      "4853/4853 - 18s - loss: 2.0190 - f1: 0.0857 - accuracy: 0.1375 - val_loss: 2.9336 - val_f1: 0.0870 - val_accuracy: 0.1340\n",
      "Epoch 7/50\n",
      "4853/4853 - 18s - loss: 1.9318 - f1: 0.0933 - accuracy: 0.1492 - val_loss: 2.9697 - val_f1: 0.0861 - val_accuracy: 0.1363\n",
      "Epoch 8/50\n",
      "4853/4853 - 18s - loss: 1.8558 - f1: 0.1029 - accuracy: 0.1559 - val_loss: 2.9483 - val_f1: 0.0867 - val_accuracy: 0.1352\n",
      "Epoch 9/50\n",
      "4853/4853 - 18s - loss: 1.7747 - f1: 0.1064 - accuracy: 0.1608 - val_loss: 2.8574 - val_f1: 0.1023 - val_accuracy: 0.1639\n",
      "Epoch 10/50\n",
      "4853/4853 - 18s - loss: 1.7211 - f1: 0.1141 - accuracy: 0.1680 - val_loss: 2.7943 - val_f1: 0.1095 - val_accuracy: 0.1602\n",
      "Epoch 11/50\n",
      "4853/4853 - 18s - loss: 1.6653 - f1: 0.1210 - accuracy: 0.1747 - val_loss: 2.9061 - val_f1: 0.1167 - val_accuracy: 0.1639\n",
      "Epoch 12/50\n",
      "4853/4853 - 19s - loss: 1.6151 - f1: 0.1250 - accuracy: 0.1759 - val_loss: 2.8348 - val_f1: 0.1103 - val_accuracy: 0.1559\n",
      "Epoch 13/50\n",
      "4853/4853 - 18s - loss: 1.5678 - f1: 0.1296 - accuracy: 0.1801 - val_loss: 2.7888 - val_f1: 0.1226 - val_accuracy: 0.1681\n",
      "Epoch 14/50\n",
      "4853/4853 - 18s - loss: 1.5553 - f1: 0.1302 - accuracy: 0.1806 - val_loss: 2.7306 - val_f1: 0.1148 - val_accuracy: 0.1718\n",
      "Epoch 15/50\n",
      "4853/4853 - 18s - loss: 1.5144 - f1: 0.1338 - accuracy: 0.1823 - val_loss: 2.8614 - val_f1: 0.1183 - val_accuracy: 0.1526\n",
      "Epoch 16/50\n",
      "4853/4853 - 18s - loss: 1.4759 - f1: 0.1382 - accuracy: 0.1865 - val_loss: 2.6962 - val_f1: 0.1338 - val_accuracy: 0.1818\n",
      "Epoch 17/50\n",
      "4853/4853 - 18s - loss: 1.4328 - f1: 0.1420 - accuracy: 0.1898 - val_loss: 2.9270 - val_f1: 0.1265 - val_accuracy: 0.1612\n",
      "Epoch 18/50\n",
      "4853/4853 - 18s - loss: 1.4077 - f1: 0.1462 - accuracy: 0.1927 - val_loss: 2.6364 - val_f1: 0.1372 - val_accuracy: 0.1891\n",
      "Epoch 19/50\n",
      "4853/4853 - 18s - loss: 1.4138 - f1: 0.1446 - accuracy: 0.1923 - val_loss: 2.6795 - val_f1: 0.1300 - val_accuracy: 0.1818\n",
      "Epoch 20/50\n",
      "4853/4853 - 18s - loss: 1.3521 - f1: 0.1495 - accuracy: 0.1961 - val_loss: 2.7184 - val_f1: 0.1353 - val_accuracy: 0.1774\n",
      "Epoch 21/50\n",
      "4853/4853 - 18s - loss: 1.3709 - f1: 0.1479 - accuracy: 0.1933 - val_loss: 2.6099 - val_f1: 0.1328 - val_accuracy: 0.1906\n",
      "Epoch 22/50\n",
      "4853/4853 - 18s - loss: 1.3255 - f1: 0.1500 - accuracy: 0.1985 - val_loss: 2.6897 - val_f1: 0.1245 - val_accuracy: 0.1770\n",
      "Epoch 23/50\n",
      "4853/4853 - 18s - loss: 1.2887 - f1: 0.1539 - accuracy: 0.2028 - val_loss: 2.6097 - val_f1: 0.1381 - val_accuracy: 0.1919\n",
      "Epoch 24/50\n",
      "4853/4853 - 18s - loss: 1.2662 - f1: 0.1582 - accuracy: 0.2071 - val_loss: 2.6383 - val_f1: 0.1423 - val_accuracy: 0.1926\n",
      "Epoch 25/50\n",
      "4853/4853 - 18s - loss: 1.2596 - f1: 0.1587 - accuracy: 0.2051 - val_loss: 2.6614 - val_f1: 0.1350 - val_accuracy: 0.1846\n",
      "Epoch 26/50\n",
      "4853/4853 - 18s - loss: 1.2611 - f1: 0.1580 - accuracy: 0.2053 - val_loss: 2.6309 - val_f1: 0.1420 - val_accuracy: 0.1910\n",
      "Epoch 27/50\n",
      "4853/4853 - 18s - loss: 1.2447 - f1: 0.1599 - accuracy: 0.2090 - val_loss: 2.5475 - val_f1: 0.1449 - val_accuracy: 0.2023\n",
      "Epoch 28/50\n",
      "4853/4853 - 18s - loss: 1.2429 - f1: 0.1594 - accuracy: 0.2117 - val_loss: 2.7047 - val_f1: 0.1310 - val_accuracy: 0.1782\n",
      "Epoch 29/50\n",
      "4853/4853 - 19s - loss: 1.2088 - f1: 0.1625 - accuracy: 0.2122 - val_loss: 2.5593 - val_f1: 0.1436 - val_accuracy: 0.1968\n",
      "Epoch 30/50\n",
      "4853/4853 - 18s - loss: 1.2320 - f1: 0.1626 - accuracy: 0.2121 - val_loss: 2.6310 - val_f1: 0.1373 - val_accuracy: 0.1837\n",
      "Epoch 31/50\n",
      "4853/4853 - 18s - loss: 1.2163 - f1: 0.1635 - accuracy: 0.2124 - val_loss: 2.6171 - val_f1: 0.1444 - val_accuracy: 0.1943\n",
      "Epoch 32/50\n",
      "4853/4853 - 18s - loss: 1.1956 - f1: 0.1654 - accuracy: 0.2125 - val_loss: 2.5801 - val_f1: 0.1384 - val_accuracy: 0.1877\n",
      "Epoch 33/50\n",
      "4853/4853 - 18s - loss: 1.1990 - f1: 0.1670 - accuracy: 0.2132 - val_loss: 2.5589 - val_f1: 0.1546 - val_accuracy: 0.2068\n",
      "Epoch 34/50\n",
      "4853/4853 - 18s - loss: 1.1832 - f1: 0.1641 - accuracy: 0.2136 - val_loss: 2.5655 - val_f1: 0.1477 - val_accuracy: 0.2023\n",
      "Epoch 35/50\n",
      "4853/4853 - 18s - loss: 1.1589 - f1: 0.1686 - accuracy: 0.2148 - val_loss: 2.5629 - val_f1: 0.1593 - val_accuracy: 0.2017\n",
      "Epoch 36/50\n",
      "4853/4853 - 18s - loss: 1.1421 - f1: 0.1725 - accuracy: 0.2196 - val_loss: 2.6229 - val_f1: 0.1523 - val_accuracy: 0.1952\n",
      "Epoch 37/50\n",
      "4853/4853 - 18s - loss: 1.1264 - f1: 0.1725 - accuracy: 0.2174 - val_loss: 2.5752 - val_f1: 0.1508 - val_accuracy: 0.2017\n",
      "Epoch 38/50\n",
      "4853/4853 - 18s - loss: 1.1337 - f1: 0.1724 - accuracy: 0.2203 - val_loss: 2.6060 - val_f1: 0.1582 - val_accuracy: 0.2032\n",
      "Epoch 39/50\n",
      "4853/4853 - 18s - loss: 1.1060 - f1: 0.1746 - accuracy: 0.2247 - val_loss: 2.4901 - val_f1: 0.1648 - val_accuracy: 0.2176\n",
      "Epoch 40/50\n",
      "4853/4853 - 18s - loss: 1.1113 - f1: 0.1750 - accuracy: 0.2227 - val_loss: 2.5149 - val_f1: 0.1454 - val_accuracy: 0.2077\n",
      "Epoch 41/50\n",
      "4853/4853 - 18s - loss: 1.1071 - f1: 0.1768 - accuracy: 0.2247 - val_loss: 2.5843 - val_f1: 0.1615 - val_accuracy: 0.2065\n",
      "Epoch 42/50\n",
      "4853/4853 - 18s - loss: 1.0961 - f1: 0.1778 - accuracy: 0.2253 - val_loss: 2.5587 - val_f1: 0.1585 - val_accuracy: 0.2077\n",
      "Epoch 43/50\n",
      "4853/4853 - 18s - loss: 1.0946 - f1: 0.1793 - accuracy: 0.2274 - val_loss: 2.5488 - val_f1: 0.1484 - val_accuracy: 0.2086\n",
      "Epoch 44/50\n",
      "4853/4853 - 18s - loss: 1.1094 - f1: 0.1784 - accuracy: 0.2250 - val_loss: 2.5097 - val_f1: 0.1611 - val_accuracy: 0.2142\n",
      "Epoch 45/50\n",
      "4853/4853 - 18s - loss: 1.0772 - f1: 0.1817 - accuracy: 0.2291 - val_loss: 2.6715 - val_f1: 0.1533 - val_accuracy: 0.1965\n",
      "Epoch 46/50\n",
      "4853/4853 - 19s - loss: 1.0823 - f1: 0.1814 - accuracy: 0.2303 - val_loss: 2.5729 - val_f1: 0.1541 - val_accuracy: 0.2059\n",
      "Epoch 47/50\n",
      "4853/4853 - 18s - loss: 1.0590 - f1: 0.1826 - accuracy: 0.2300 - val_loss: 2.6141 - val_f1: 0.1588 - val_accuracy: 0.2032\n",
      "Epoch 48/50\n",
      "4853/4853 - 18s - loss: 1.0999 - f1: 0.1795 - accuracy: 0.2263 - val_loss: 2.5504 - val_f1: 0.1528 - val_accuracy: 0.2056\n",
      "Epoch 49/50\n",
      "4853/4853 - 18s - loss: 1.0658 - f1: 0.1801 - accuracy: 0.2296 - val_loss: 2.5948 - val_f1: 0.1531 - val_accuracy: 0.1970\n",
      "Epoch 50/50\n",
      "4853/4853 - 18s - loss: 1.0744 - f1: 0.1810 - accuracy: 0.2314 - val_loss: 2.4358 - val_f1: 0.1714 - val_accuracy: 0.2393\n"
     ]
    }
   ],
   "source": [
    "hist = model.fit(X_train, y_train, batch_size=32, epochs=50,\n",
    "           validation_data=(X_val, y_val), class_weight=class_weights,\n",
    "           verbose=2, shuffle=True)"
   ]
  },
  {
   "cell_type": "code",
   "execution_count": 0,
   "metadata": {
    "colab": {
     "base_uri": "https://localhost:8080/",
     "height": 545
    },
    "colab_type": "code",
    "id": "-BSjqpG6Etrt",
    "outputId": "5c8138f6-c57e-4764-a09e-5aa81878df14"
   },
   "outputs": [
    {
     "data": {
      "image/png": "[encoded data removed]",
      "text/plain": [
       "<Figure size 432x288 with 1 Axes>"
      ]
     },
     "metadata": {
      "needs_background": "light",
      "tags": []
     },
     "output_type": "display_data"
    },
    {
     "data": {
      "image/png": "[encoded data removed]",
      "text/plain": [
       "<Figure size 432x288 with 1 Axes>"
      ]
     },
     "metadata": {
      "needs_background": "light",
      "tags": []
     },
     "output_type": "display_data"
    }
   ],
   "source": [
    "\n",
    "acc = hist.history['accuracy']\n",
    "val_acc = hist.history['val_accuracy']\n",
    "f1 = hist.history['f1']\n",
    "val_f1 = hist.history['val_f1']\n",
    " \n",
    "epochs = range(len(acc))\n",
    " \n",
    "plt.plot(epochs, acc, 'b', label='Train acc')\n",
    "plt.plot(epochs, val_acc, 'r', label='Val acc')\n",
    "plt.title('Train and val accuracy')\n",
    "plt.legend()\n",
    " \n",
    "plt.figure()\n",
    " \n",
    "plt.plot(epochs, f1, 'b', label='Train f1')\n",
    "plt.plot(epochs, val_f1, 'r', label='Val f1')\n",
    "plt.title('Train and val f1 score')\n",
    "plt.legend()\n",
    " \n",
    "plt.show()"
   ]
  },
  {
   "cell_type": "code",
   "execution_count": 0,
   "metadata": {
    "colab": {
     "base_uri": "https://localhost:8080/",
     "height": 862
    },
    "colab_type": "code",
    "id": "5oV8hbxCloHD",
    "outputId": "18a69e9e-d834-442c-eb30-b82b0e88a47e"
   },
   "outputs": [
    {
     "name": "stdout",
     "output_type": "stream",
     "text": [
      "              precision    recall  f1-score   support\n",
      "\n",
      "           0       0.03      0.29      0.05        77\n",
      "           1       0.01      0.11      0.02        19\n",
      "           2       0.00      0.00      0.00         2\n",
      "           3       0.02      0.20      0.03        30\n",
      "           4       0.15      0.44      0.23       337\n",
      "           5       0.17      0.55      0.26       135\n",
      "           6       0.33      0.69      0.45       462\n",
      "           7       0.12      0.21      0.15       822\n",
      "           8       0.16      0.45      0.24        53\n",
      "           9       0.01      0.06      0.02        16\n",
      "          10       0.11      0.49      0.19        88\n",
      "          11       0.02      0.25      0.03        84\n",
      "          12       0.05      0.58      0.08       107\n",
      "          13       0.00      0.00      0.00        11\n",
      "          14       0.55      0.51      0.53      2242\n",
      "          15       0.03      0.43      0.05        21\n",
      "          16       0.02      0.39      0.03        31\n",
      "          17       0.19      0.72      0.29       361\n",
      "          18       0.04      0.39      0.07        41\n",
      "          19       0.04      0.36      0.07        59\n",
      "          20       0.09      0.41      0.15       345\n",
      "          21       0.03      0.65      0.05        57\n",
      "          22       0.30      0.64      0.41       818\n",
      "          23       0.13      0.38      0.20       356\n",
      "          24       0.16      0.59      0.25       114\n",
      "          25       0.01      0.17      0.02         6\n",
      "          26       0.11      0.37      0.16       296\n",
      "          27       0.78      0.86      0.82      1256\n",
      "          28       0.01      0.17      0.02        23\n",
      "          29       0.03      0.36      0.05       120\n",
      "          30       0.85      0.09      0.16     22150\n",
      "          31       0.09      0.39      0.15       110\n",
      "          32       0.37      0.29      0.33      4310\n",
      "          33       0.05      0.18      0.08       522\n",
      "          34       0.20      0.35      0.25      1487\n",
      "          35       0.17      0.60      0.26       291\n",
      "          36       0.21      0.41      0.28       647\n",
      "          37       0.40      0.61      0.48       901\n",
      "          38       0.01      0.10      0.01        10\n",
      "\n",
      "    accuracy                           0.24     38817\n",
      "   macro avg       0.16      0.38      0.18     38817\n",
      "weighted avg       0.63      0.24      0.24     38817\n",
      "\n"
     ]
    }
   ],
   "source": [
    "y_predicted = model.predict(X_val)\n",
    "predicted  = y_predicted.argmax(axis = 1)\n",
    "y_val = y_val.values\n",
    "y_val = y_val.argmax(axis = 1)\n",
    "report = classification_report(y_val, predicted)\n",
    "print(report)"
   ]
  },
  {
   "cell_type": "markdown",
   "metadata": {
    "colab_type": "text",
    "id": "7BwF7pof0LIY"
   },
   "source": [
    "## Customed LeNet5 with data augment"
   ]
  },
  {
   "cell_type": "code",
   "execution_count": 0,
   "metadata": {
    "colab": {
     "base_uri": "https://localhost:8080/",
     "height": 531
    },
    "colab_type": "code",
    "id": "clZ071dM0KEe",
    "outputId": "7d8c816b-37eb-47e1-e2c7-faaf173e89e4"
   },
   "outputs": [
    {
     "name": "stdout",
     "output_type": "stream",
     "text": [
      "Model: \"sequential\"\n",
      "_________________________________________________________________\n",
      "Layer (type)                 Output Shape              Param #   \n",
      "=================================================================\n",
      "conv2d (Conv2D)              (None, 32, 32, 6)         156       \n",
      "_________________________________________________________________\n",
      "average_pooling2d (AveragePo (None, 16, 16, 6)         0         \n",
      "_________________________________________________________________\n",
      "dropout (Dropout)            (None, 16, 16, 6)         0         \n",
      "_________________________________________________________________\n",
      "conv2d_1 (Conv2D)            (None, 12, 12, 16)        2416      \n",
      "_________________________________________________________________\n",
      "average_pooling2d_1 (Average (None, 6, 6, 16)          0         \n",
      "_________________________________________________________________\n",
      "dropout_1 (Dropout)          (None, 6, 6, 16)          0         \n",
      "_________________________________________________________________\n",
      "conv2d_2 (Conv2D)            (None, 2, 2, 120)         48120     \n",
      "_________________________________________________________________\n",
      "flatten (Flatten)            (None, 480)               0         \n",
      "_________________________________________________________________\n",
      "dense (Dense)                (None, 84)                40404     \n",
      "_________________________________________________________________\n",
      "dense_1 (Dense)              (None, 39)                3315      \n",
      "=================================================================\n",
      "Total params: 94,411\n",
      "Trainable params: 94,411\n",
      "Non-trainable params: 0\n",
      "_________________________________________________________________\n"
     ]
    }
   ],
   "source": [
    "# Instantiate an empty sequential model\n",
    "model = keras.Sequential()\n",
    "# C1 Convolutional Layer\n",
    "model.add(layers.Conv2D(filters = 6, kernel_size = 5, strides = 1, activation = 'relu', \n",
    "input_shape = (32,32,1), padding = 'same'))\n",
    "\n",
    "# S2 Pooling Layer\n",
    "model.add(layers.AveragePooling2D(pool_size = 2, strides = 2, padding = 'valid'))\n",
    "\n",
    "# Dropout layer\n",
    "model.add(layers.Dropout(0.2))\n",
    "\n",
    "# C3 Convolutional Layer\n",
    "model.add(layers.Conv2D(filters = 16, kernel_size = 5, strides = 1,activation = 'relu',\n",
    "              padding = 'valid'))\n",
    "# S4 Pooling Layer\n",
    "model.add(layers.AveragePooling2D(pool_size = 2, strides = 2, padding = 'valid'))\n",
    "\n",
    "# Dropout layer\n",
    "model.add(layers.Dropout(0.2))\n",
    "\n",
    "# C5 Convolutional Layer\n",
    "model.add(layers.Conv2D(filters = 120, kernel_size = 5, strides = 1,activation = 'relu',\n",
    "              padding = 'valid'))\n",
    "\n",
    "\n",
    "# Flatten the CNN output to feed it with fully connected layers\n",
    "model.add(layers.Flatten())\n",
    "\n",
    "# FC6 Fully Connected Layer\n",
    "model.add(layers.Dense(units = 84, activation = 'relu'))\n",
    "\n",
    "# FC7 Output layer with softmax activation\n",
    "model.add(layers.Dense(units = 39, activation = 'softmax'))\n",
    "\n",
    "# print the model summary\n",
    "model.summary()"
   ]
  },
  {
   "cell_type": "code",
   "execution_count": 0,
   "metadata": {
    "colab": {},
    "colab_type": "code",
    "id": "Kg78JgoF1MKC"
   },
   "outputs": [],
   "source": [
    "model.compile(loss='categorical_crossentropy', optimizer='adam',\n",
    "               metrics=[f1, 'accuracy'])"
   ]
  },
  {
   "cell_type": "code",
   "execution_count": 0,
   "metadata": {
    "colab": {
     "base_uri": "https://localhost:8080/",
     "height": 1000
    },
    "colab_type": "code",
    "id": "zIoaUTTK1QdW",
    "outputId": "26a9b0e3-a512-4def-c898-cbeae6a65c0c"
   },
   "outputs": [
    {
     "name": "stdout",
     "output_type": "stream",
     "text": [
      "Epoch 1/50\n",
      "9552/9552 - 31s - loss: 2.0744 - f1: 0.2391 - accuracy: 0.3711 - val_loss: 1.8855 - val_f1: 0.3084 - val_accuracy: 0.3978\n",
      "Epoch 2/50\n",
      "9552/9552 - 31s - loss: 1.6443 - f1: 0.4069 - accuracy: 0.4876 - val_loss: 1.2699 - val_f1: 0.5261 - val_accuracy: 0.5685\n",
      "Epoch 3/50\n",
      "9552/9552 - 31s - loss: 1.5005 - f1: 0.4681 - accuracy: 0.5290 - val_loss: 1.2033 - val_f1: 0.5550 - val_accuracy: 0.5878\n",
      "Epoch 4/50\n",
      "9552/9552 - 31s - loss: 1.4248 - f1: 0.5015 - accuracy: 0.5525 - val_loss: 1.0985 - val_f1: 0.5942 - val_accuracy: 0.6177\n",
      "Epoch 5/50\n",
      "9552/9552 - 30s - loss: 1.3736 - f1: 0.5226 - accuracy: 0.5672 - val_loss: 1.0925 - val_f1: 0.5932 - val_accuracy: 0.6187\n",
      "Epoch 6/50\n",
      "9552/9552 - 31s - loss: 1.3366 - f1: 0.5377 - accuracy: 0.5785 - val_loss: 1.1268 - val_f1: 0.5892 - val_accuracy: 0.6116\n",
      "Epoch 7/50\n",
      "9552/9552 - 30s - loss: 1.3102 - f1: 0.5489 - accuracy: 0.5858 - val_loss: 1.1093 - val_f1: 0.5940 - val_accuracy: 0.6204\n",
      "Epoch 8/50\n",
      "9552/9552 - 31s - loss: 1.2948 - f1: 0.5550 - accuracy: 0.5901 - val_loss: 1.2154 - val_f1: 0.5523 - val_accuracy: 0.5815\n",
      "Epoch 9/50\n",
      "9552/9552 - 31s - loss: 1.2745 - f1: 0.5627 - accuracy: 0.5959 - val_loss: 1.0944 - val_f1: 0.5869 - val_accuracy: 0.6181\n",
      "Epoch 10/50\n",
      "9552/9552 - 32s - loss: 1.2630 - f1: 0.5666 - accuracy: 0.5996 - val_loss: 1.1011 - val_f1: 0.5846 - val_accuracy: 0.6118\n",
      "Epoch 11/50\n",
      "9552/9552 - 32s - loss: 1.2504 - f1: 0.5725 - accuracy: 0.6031 - val_loss: 1.0956 - val_f1: 0.5853 - val_accuracy: 0.6108\n",
      "Epoch 12/50\n",
      "9552/9552 - 32s - loss: 1.2430 - f1: 0.5749 - accuracy: 0.6054 - val_loss: 1.1302 - val_f1: 0.5900 - val_accuracy: 0.6071\n",
      "Epoch 13/50\n",
      "9552/9552 - 32s - loss: 1.2254 - f1: 0.5816 - accuracy: 0.6107 - val_loss: 1.2293 - val_f1: 0.5477 - val_accuracy: 0.5745\n",
      "Epoch 14/50\n",
      "9552/9552 - 33s - loss: 1.2226 - f1: 0.5834 - accuracy: 0.6121 - val_loss: 1.0748 - val_f1: 0.6050 - val_accuracy: 0.6261\n",
      "Epoch 15/50\n",
      "9552/9552 - 32s - loss: 1.2124 - f1: 0.5864 - accuracy: 0.6140 - val_loss: 1.0743 - val_f1: 0.5978 - val_accuracy: 0.6268\n",
      "Epoch 16/50\n",
      "9552/9552 - 33s - loss: 1.2073 - f1: 0.5889 - accuracy: 0.6163 - val_loss: 0.9756 - val_f1: 0.6332 - val_accuracy: 0.6628\n",
      "Epoch 17/50\n",
      "9552/9552 - 32s - loss: 1.1991 - f1: 0.5918 - accuracy: 0.6185 - val_loss: 1.0947 - val_f1: 0.6030 - val_accuracy: 0.6197\n",
      "Epoch 18/50\n",
      "9552/9552 - 33s - loss: 1.1979 - f1: 0.5935 - accuracy: 0.6196 - val_loss: 1.0311 - val_f1: 0.6132 - val_accuracy: 0.6342\n",
      "Epoch 19/50\n",
      "9552/9552 - 33s - loss: 1.1876 - f1: 0.5966 - accuracy: 0.6218 - val_loss: 0.9691 - val_f1: 0.6395 - val_accuracy: 0.6542\n",
      "Epoch 20/50\n",
      "9552/9552 - 33s - loss: 1.1825 - f1: 0.5992 - accuracy: 0.6228 - val_loss: 1.0692 - val_f1: 0.6066 - val_accuracy: 0.6336\n",
      "Epoch 21/50\n",
      "9552/9552 - 33s - loss: 1.1784 - f1: 0.6007 - accuracy: 0.6252 - val_loss: 1.0907 - val_f1: 0.5945 - val_accuracy: 0.6087\n",
      "Epoch 22/50\n",
      "9552/9552 - 32s - loss: 1.1708 - f1: 0.6034 - accuracy: 0.6282 - val_loss: 0.9845 - val_f1: 0.6346 - val_accuracy: 0.6490\n",
      "Epoch 23/50\n",
      "9552/9552 - 32s - loss: 1.1673 - f1: 0.6052 - accuracy: 0.6290 - val_loss: 1.0129 - val_f1: 0.6319 - val_accuracy: 0.6481\n",
      "Epoch 24/50\n",
      "9552/9552 - 31s - loss: 1.1658 - f1: 0.6051 - accuracy: 0.6300 - val_loss: 1.0635 - val_f1: 0.6158 - val_accuracy: 0.6326\n",
      "Epoch 25/50\n",
      "9552/9552 - 31s - loss: 1.1603 - f1: 0.6073 - accuracy: 0.6311 - val_loss: 1.0521 - val_f1: 0.6234 - val_accuracy: 0.6415\n",
      "Epoch 26/50\n",
      "9552/9552 - 32s - loss: 1.1593 - f1: 0.6080 - accuracy: 0.6311 - val_loss: 1.1661 - val_f1: 0.5714 - val_accuracy: 0.5965\n",
      "Epoch 27/50\n",
      "9552/9552 - 31s - loss: 1.1584 - f1: 0.6085 - accuracy: 0.6311 - val_loss: 0.9930 - val_f1: 0.6365 - val_accuracy: 0.6520\n",
      "Epoch 28/50\n",
      "9552/9552 - 31s - loss: 1.1526 - f1: 0.6094 - accuracy: 0.6326 - val_loss: 0.9804 - val_f1: 0.6340 - val_accuracy: 0.6525\n",
      "Epoch 29/50\n",
      "9552/9552 - 31s - loss: 1.1510 - f1: 0.6110 - accuracy: 0.6339 - val_loss: 1.2230 - val_f1: 0.5503 - val_accuracy: 0.5705\n",
      "Epoch 30/50\n",
      "9552/9552 - 31s - loss: 1.1470 - f1: 0.6121 - accuracy: 0.6351 - val_loss: 0.9966 - val_f1: 0.6313 - val_accuracy: 0.6490\n",
      "Epoch 31/50\n",
      "9552/9552 - 31s - loss: 1.1432 - f1: 0.6137 - accuracy: 0.6360 - val_loss: 0.9898 - val_f1: 0.6323 - val_accuracy: 0.6501\n",
      "Epoch 32/50\n",
      "9552/9552 - 31s - loss: 1.1417 - f1: 0.6146 - accuracy: 0.6356 - val_loss: 1.0032 - val_f1: 0.6214 - val_accuracy: 0.6410\n",
      "Epoch 33/50\n",
      "9552/9552 - 31s - loss: 1.1411 - f1: 0.6151 - accuracy: 0.6363 - val_loss: 0.9347 - val_f1: 0.6498 - val_accuracy: 0.6708\n",
      "Epoch 34/50\n",
      "9552/9552 - 31s - loss: 1.1373 - f1: 0.6156 - accuracy: 0.6373 - val_loss: 1.1009 - val_f1: 0.5949 - val_accuracy: 0.6121\n",
      "Epoch 35/50\n",
      "9552/9552 - 31s - loss: 1.1338 - f1: 0.6171 - accuracy: 0.6393 - val_loss: 0.9476 - val_f1: 0.6472 - val_accuracy: 0.6651\n",
      "Epoch 36/50\n",
      "9552/9552 - 32s - loss: 1.1303 - f1: 0.6190 - accuracy: 0.6406 - val_loss: 0.9125 - val_f1: 0.6646 - val_accuracy: 0.6782\n",
      "Epoch 37/50\n",
      "9552/9552 - 31s - loss: 1.1304 - f1: 0.6201 - accuracy: 0.6409 - val_loss: 0.9691 - val_f1: 0.6367 - val_accuracy: 0.6531\n",
      "Epoch 38/50\n",
      "9552/9552 - 31s - loss: 1.1258 - f1: 0.6206 - accuracy: 0.6413 - val_loss: 0.9900 - val_f1: 0.6351 - val_accuracy: 0.6472\n",
      "Epoch 39/50\n",
      "9552/9552 - 31s - loss: 1.1242 - f1: 0.6209 - accuracy: 0.6420 - val_loss: 0.9828 - val_f1: 0.6564 - val_accuracy: 0.6637\n",
      "Epoch 40/50\n",
      "9552/9552 - 31s - loss: 1.1228 - f1: 0.6211 - accuracy: 0.6413 - val_loss: 0.9617 - val_f1: 0.6484 - val_accuracy: 0.6595\n",
      "Epoch 41/50\n",
      "9552/9552 - 31s - loss: 1.1207 - f1: 0.6222 - accuracy: 0.6425 - val_loss: 0.9675 - val_f1: 0.6349 - val_accuracy: 0.6459\n",
      "Epoch 42/50\n",
      "9552/9552 - 31s - loss: 1.1181 - f1: 0.6227 - accuracy: 0.6438 - val_loss: 1.1798 - val_f1: 0.5675 - val_accuracy: 0.5821\n",
      "Epoch 43/50\n",
      "9552/9552 - 31s - loss: 1.1167 - f1: 0.6240 - accuracy: 0.6440 - val_loss: 1.0641 - val_f1: 0.6152 - val_accuracy: 0.6301\n",
      "Epoch 44/50\n",
      "9552/9552 - 31s - loss: 1.1147 - f1: 0.6244 - accuracy: 0.6445 - val_loss: 1.0101 - val_f1: 0.6323 - val_accuracy: 0.6381\n",
      "Epoch 45/50\n",
      "9552/9552 - 31s - loss: 1.1139 - f1: 0.6249 - accuracy: 0.6454 - val_loss: 1.0394 - val_f1: 0.6206 - val_accuracy: 0.6358\n",
      "Epoch 46/50\n",
      "9552/9552 - 32s - loss: 1.1087 - f1: 0.6266 - accuracy: 0.6462 - val_loss: 1.0319 - val_f1: 0.6085 - val_accuracy: 0.6275\n",
      "Epoch 47/50\n",
      "9552/9552 - 31s - loss: 1.1105 - f1: 0.6257 - accuracy: 0.6463 - val_loss: 1.0030 - val_f1: 0.6267 - val_accuracy: 0.6438\n",
      "Epoch 48/50\n",
      "9552/9552 - 31s - loss: 1.1068 - f1: 0.6271 - accuracy: 0.6465 - val_loss: 0.9983 - val_f1: 0.6249 - val_accuracy: 0.6355\n",
      "Epoch 49/50\n",
      "9552/9552 - 31s - loss: 1.1059 - f1: 0.6278 - accuracy: 0.6472 - val_loss: 0.9163 - val_f1: 0.6669 - val_accuracy: 0.6768\n",
      "Epoch 50/50\n",
      "9552/9552 - 31s - loss: 1.1016 - f1: 0.6295 - accuracy: 0.6487 - val_loss: 1.0374 - val_f1: 0.6186 - val_accuracy: 0.6304\n"
     ]
    }
   ],
   "source": [
    "hist = model.fit(generatedX_train, generatedy_train, batch_size=32, epochs=50,\n",
    "           validation_data=(X_val, y_val), class_weight=None,\n",
    "           verbose=2, shuffle=True)"
   ]
  },
  {
   "cell_type": "code",
   "execution_count": 0,
   "metadata": {
    "colab": {
     "base_uri": "https://localhost:8080/",
     "height": 545
    },
    "colab_type": "code",
    "id": "SVzsKrhS1tGQ",
    "outputId": "99538d62-5976-4a6f-f38b-169c8c39e300"
   },
   "outputs": [
    {
     "data": {
      "image/png": "[encoded data removed]",
      "text/plain": [
       "<Figure size 432x288 with 1 Axes>"
      ]
     },
     "metadata": {
      "needs_background": "light",
      "tags": []
     },
     "output_type": "display_data"
    },
    {
     "data": {
      "image/png": "[encoded data removed]",
      "text/plain": [
       "<Figure size 432x288 with 1 Axes>"
      ]
     },
     "metadata": {
      "needs_background": "light",
      "tags": []
     },
     "output_type": "display_data"
    }
   ],
   "source": [
    "model.save('LeNet5_relu_dropout.h5')\n",
    "\n",
    "acc = hist.history['accuracy']\n",
    "val_acc = hist.history['val_accuracy']\n",
    "f1 = hist.history['f1']\n",
    "val_f1 = hist.history['val_f1']\n",
    " \n",
    "epochs = range(len(acc))\n",
    " \n",
    "plt.plot(epochs, acc, 'b', label='Train acc')\n",
    "plt.plot(epochs, val_acc, 'r', label='Val acc')\n",
    "plt.title('Training and testing accuracy')\n",
    "plt.legend()\n",
    " \n",
    "plt.figure()\n",
    " \n",
    "plt.plot(epochs, f1, 'b', label='Train f1')\n",
    "plt.plot(epochs, val_f1, 'r', label='Val f1')\n",
    "plt.title('Train and Val f1 score')\n",
    "plt.legend()\n",
    " \n",
    "plt.show()"
   ]
  },
  {
   "cell_type": "code",
   "execution_count": 0,
   "metadata": {
    "colab": {
     "base_uri": "https://localhost:8080/",
     "height": 862
    },
    "colab_type": "code",
    "id": "lgF8NcqEjwWi",
    "outputId": "8b8fa9d2-26fd-4c8c-bb32-c241d268fc90"
   },
   "outputs": [
    {
     "name": "stdout",
     "output_type": "stream",
     "text": [
      "              precision    recall  f1-score   support\n",
      "\n",
      "           0       0.37      0.40      0.39        77\n",
      "           1       0.04      0.47      0.07        19\n",
      "           2       0.33      1.00      0.50         2\n",
      "           3       0.33      0.47      0.38        30\n",
      "           4       0.32      0.54      0.40       337\n",
      "           5       0.52      0.18      0.27       135\n",
      "           6       0.66      0.78      0.71       462\n",
      "           7       0.65      0.28      0.40       822\n",
      "           8       0.38      0.28      0.32        53\n",
      "           9       0.38      0.19      0.25        16\n",
      "          10       0.43      0.59      0.50        88\n",
      "          11       0.13      0.10      0.11        84\n",
      "          12       0.32      0.52      0.40       107\n",
      "          13       0.02      0.09      0.03        11\n",
      "          14       0.65      0.90      0.75      2242\n",
      "          15       0.08      0.71      0.15        21\n",
      "          16       0.06      0.10      0.08        31\n",
      "          17       0.69      0.40      0.51       361\n",
      "          18       0.17      0.39      0.24        41\n",
      "          19       0.44      0.34      0.38        59\n",
      "          20       0.34      0.32      0.33       345\n",
      "          21       0.00      0.00      0.00        57\n",
      "          22       0.57      0.91      0.70       818\n",
      "          23       0.59      0.35      0.44       356\n",
      "          24       0.55      0.44      0.49       114\n",
      "          25       0.00      0.00      0.00         6\n",
      "          26       0.52      0.26      0.35       296\n",
      "          27       0.86      0.91      0.88      1256\n",
      "          28       0.05      0.13      0.07        23\n",
      "          29       0.14      0.52      0.22       120\n",
      "          30       0.92      0.59      0.72     22150\n",
      "          31       0.34      0.50      0.41       110\n",
      "          32       0.36      0.88      0.51      4310\n",
      "          33       0.30      0.14      0.19       522\n",
      "          34       0.65      0.58      0.61      1487\n",
      "          35       0.69      0.36      0.47       291\n",
      "          36       0.43      0.74      0.54       647\n",
      "          37       0.61      0.60      0.60       901\n",
      "          38       0.02      0.30      0.04        10\n",
      "\n",
      "    accuracy                           0.63     38817\n",
      "   macro avg       0.38      0.44      0.37     38817\n",
      "weighted avg       0.75      0.63      0.65     38817\n",
      "\n"
     ]
    }
   ],
   "source": [
    "y_predicted = model.predict(X_val)\n",
    "predicted  = y_predicted.argmax(axis = 1)\n",
    "y_val = y_val.values\n",
    "y_val = y_val.argmax(axis = 1)\n",
    "report = classification_report(y_val, predicted)\n",
    "print(report)"
   ]
  },
  {
   "cell_type": "markdown",
   "metadata": {
    "colab_type": "text",
    "id": "Z_9CqRChynpH"
   },
   "source": [
    "## VGG16 Transfer learning"
   ]
  },
  {
   "cell_type": "code",
   "execution_count": 0,
   "metadata": {
    "colab": {},
    "colab_type": "code",
    "id": "3YwihJgPy919"
   },
   "outputs": [],
   "source": [
    "generatedX_train, X_ , generatedy_train, y_ = train_test_split(generatedX_train, generatedy_train, test_size=0.5, random_state=123, stratify = generatedy_train)\n",
    "\n",
    "generatedX_train_3c = np.stack([generatedX_train.reshape(-1,32,32)]*3, axis=-1)\n",
    "# X_val_3c = np.stack([X_val.reshape(-1,32,32)]*3, axis=-1)\n",
    "del generatedX_train\n",
    "del X_\n",
    "del y_\n",
    "# del X_val"
   ]
  },
  {
   "cell_type": "code",
   "execution_count": 0,
   "metadata": {
    "colab": {},
    "colab_type": "code",
    "id": "Uvv5LIXoy-BV"
   },
   "outputs": [],
   "source": [
    "# load model without output layer and specify a new input shape for images\n",
    "base_model = VGG16(include_top=False, input_shape=(32,32,3), weights='imagenet')\n",
    "\n",
    "base_model.trainable = False\n",
    "\n",
    "model = keras.Sequential([\n",
    "    base_model,\n",
    "    layers.Flatten(),\n",
    "    layers.Dense(39, activation='softmax')\n",
    "    ])"
   ]
  },
  {
   "cell_type": "code",
   "execution_count": 0,
   "metadata": {
    "colab": {},
    "colab_type": "code",
    "id": "EAX5vqJNynpM"
   },
   "outputs": [],
   "source": [
    "model.compile(loss='categorical_crossentropy', optimizer='adam',\n",
    "               metrics=[f1, 'accuracy'])"
   ]
  },
  {
   "cell_type": "code",
   "execution_count": 0,
   "metadata": {
    "colab": {
     "base_uri": "https://localhost:8080/",
     "height": 1000
    },
    "colab_type": "code",
    "id": "AGGPST9JynpQ",
    "outputId": "6337f947-95fb-4afa-8e38-4b6935a46902"
   },
   "outputs": [
    {
     "name": "stdout",
     "output_type": "stream",
     "text": [
      "Epoch 1/50\n",
      "4776/4776 - 36s - loss: 1.5923 - f1: 0.3991 - accuracy: 0.5339\n",
      "Epoch 2/50\n",
      "4776/4776 - 36s - loss: 1.2830 - f1: 0.5471 - accuracy: 0.6116\n",
      "Epoch 3/50\n",
      "4776/4776 - 36s - loss: 1.2057 - f1: 0.5825 - accuracy: 0.6324\n",
      "Epoch 4/50\n",
      "4776/4776 - 36s - loss: 1.1624 - f1: 0.6010 - accuracy: 0.6444\n",
      "Epoch 5/50\n",
      "4776/4776 - 36s - loss: 1.1340 - f1: 0.6128 - accuracy: 0.6520\n",
      "Epoch 6/50\n",
      "4776/4776 - 36s - loss: 1.1132 - f1: 0.6219 - accuracy: 0.6567\n",
      "Epoch 7/50\n",
      "4776/4776 - 36s - loss: 1.0969 - f1: 0.6288 - accuracy: 0.6621\n",
      "Epoch 8/50\n",
      "4776/4776 - 36s - loss: 1.0839 - f1: 0.6347 - accuracy: 0.6655\n",
      "Epoch 9/50\n",
      "4776/4776 - 36s - loss: 1.0737 - f1: 0.6387 - accuracy: 0.6675\n",
      "Epoch 10/50\n",
      "4776/4776 - 36s - loss: 1.0649 - f1: 0.6423 - accuracy: 0.6703\n",
      "Epoch 11/50\n",
      "4776/4776 - 36s - loss: 1.0574 - f1: 0.6459 - accuracy: 0.6721\n",
      "Epoch 12/50\n",
      "4776/4776 - 36s - loss: 1.0516 - f1: 0.6485 - accuracy: 0.6737\n",
      "Epoch 13/50\n",
      "4776/4776 - 36s - loss: 1.0462 - f1: 0.6507 - accuracy: 0.6758\n",
      "Epoch 14/50\n",
      "4776/4776 - 36s - loss: 1.0407 - f1: 0.6518 - accuracy: 0.6760\n",
      "Epoch 15/50\n",
      "4776/4776 - 36s - loss: 1.0368 - f1: 0.6546 - accuracy: 0.6771\n",
      "Epoch 16/50\n",
      "4776/4776 - 36s - loss: 1.0325 - f1: 0.6558 - accuracy: 0.6791\n",
      "Epoch 17/50\n",
      "4776/4776 - 36s - loss: 1.0292 - f1: 0.6571 - accuracy: 0.6793\n",
      "Epoch 18/50\n",
      "4776/4776 - 36s - loss: 1.0258 - f1: 0.6586 - accuracy: 0.6802\n",
      "Epoch 19/50\n",
      "4776/4776 - 36s - loss: 1.0229 - f1: 0.6599 - accuracy: 0.6810\n",
      "Epoch 20/50\n",
      "4776/4776 - 36s - loss: 1.0204 - f1: 0.6601 - accuracy: 0.6817\n",
      "Epoch 21/50\n",
      "4776/4776 - 36s - loss: 1.0179 - f1: 0.6619 - accuracy: 0.6822\n",
      "Epoch 22/50\n",
      "4776/4776 - 36s - loss: 1.0162 - f1: 0.6617 - accuracy: 0.6826\n",
      "Epoch 23/50\n",
      "4776/4776 - 36s - loss: 1.0144 - f1: 0.6635 - accuracy: 0.6841\n",
      "Epoch 24/50\n",
      "4776/4776 - 36s - loss: 1.0128 - f1: 0.6636 - accuracy: 0.6844\n",
      "Epoch 25/50\n",
      "4776/4776 - 36s - loss: 1.0106 - f1: 0.6652 - accuracy: 0.6843\n",
      "Epoch 26/50\n",
      "4776/4776 - 36s - loss: 1.0092 - f1: 0.6652 - accuracy: 0.6849\n",
      "Epoch 27/50\n",
      "4776/4776 - 36s - loss: 1.0078 - f1: 0.6663 - accuracy: 0.6857\n",
      "Epoch 28/50\n",
      "4776/4776 - 36s - loss: 1.0063 - f1: 0.6668 - accuracy: 0.6852\n",
      "Epoch 29/50\n",
      "4776/4776 - 36s - loss: 1.0047 - f1: 0.6672 - accuracy: 0.6860\n",
      "Epoch 30/50\n",
      "4776/4776 - 36s - loss: 1.0040 - f1: 0.6679 - accuracy: 0.6857\n",
      "Epoch 31/50\n",
      "4776/4776 - 36s - loss: 1.0028 - f1: 0.6684 - accuracy: 0.6869\n",
      "Epoch 32/50\n",
      "4776/4776 - 36s - loss: 1.0016 - f1: 0.6686 - accuracy: 0.6864\n",
      "Epoch 33/50\n",
      "4776/4776 - 35s - loss: 1.0005 - f1: 0.6689 - accuracy: 0.6864\n",
      "Epoch 34/50\n",
      "4776/4776 - 36s - loss: 0.9999 - f1: 0.6696 - accuracy: 0.6866\n",
      "Epoch 35/50\n",
      "4776/4776 - 36s - loss: 0.9987 - f1: 0.6697 - accuracy: 0.6868\n",
      "Epoch 36/50\n",
      "4776/4776 - 36s - loss: 0.9981 - f1: 0.6708 - accuracy: 0.6882\n",
      "Epoch 37/50\n",
      "4776/4776 - 36s - loss: 0.9973 - f1: 0.6708 - accuracy: 0.6887\n",
      "Epoch 38/50\n",
      "4776/4776 - 35s - loss: 0.9963 - f1: 0.6716 - accuracy: 0.6884\n",
      "Epoch 39/50\n",
      "4776/4776 - 35s - loss: 0.9957 - f1: 0.6710 - accuracy: 0.6883\n",
      "Epoch 40/50\n",
      "4776/4776 - 36s - loss: 0.9951 - f1: 0.6722 - accuracy: 0.6890\n",
      "Epoch 41/50\n",
      "4776/4776 - 36s - loss: 0.9942 - f1: 0.6722 - accuracy: 0.6894\n",
      "Epoch 42/50\n",
      "4776/4776 - 36s - loss: 0.9933 - f1: 0.6720 - accuracy: 0.6894\n",
      "Epoch 43/50\n",
      "4776/4776 - 36s - loss: 0.9932 - f1: 0.6722 - accuracy: 0.6887\n",
      "Epoch 44/50\n",
      "4776/4776 - 36s - loss: 0.9921 - f1: 0.6730 - accuracy: 0.6893\n",
      "Epoch 45/50\n",
      "4776/4776 - 36s - loss: 0.9922 - f1: 0.6731 - accuracy: 0.6889\n",
      "Epoch 46/50\n",
      "4776/4776 - 36s - loss: 0.9913 - f1: 0.6736 - accuracy: 0.6897\n",
      "Epoch 47/50\n",
      "4776/4776 - 36s - loss: 0.9910 - f1: 0.6732 - accuracy: 0.6896\n",
      "Epoch 48/50\n",
      "4776/4776 - 36s - loss: 0.9900 - f1: 0.6733 - accuracy: 0.6891\n",
      "Epoch 49/50\n",
      "4776/4776 - 36s - loss: 0.9895 - f1: 0.6736 - accuracy: 0.6896\n",
      "Epoch 50/50\n",
      "4776/4776 - 36s - loss: 0.9895 - f1: 0.6741 - accuracy: 0.6893\n"
     ]
    }
   ],
   "source": [
    "hist = model.fit(generatedX_train_3c, generatedy_train, batch_size=32, epochs=50,\n",
    "            verbose=2, shuffle=True)"
   ]
  },
  {
   "cell_type": "code",
   "execution_count": 0,
   "metadata": {
    "colab": {
     "base_uri": "https://localhost:8080/",
     "height": 545
    },
    "colab_type": "code",
    "id": "ghQYnRrVpK98",
    "outputId": "b398d47d-fcdb-42fd-a2d1-753085401664"
   },
   "outputs": [
    {
     "data": {
      "image/png": "[encoded data removed]",
      "text/plain": [
       "<Figure size 432x288 with 1 Axes>"
      ]
     },
     "metadata": {
      "needs_background": "light",
      "tags": []
     },
     "output_type": "display_data"
    },
    {
     "data": {
      "image/png": "[encoded data removed]",
      "text/plain": [
       "<Figure size 432x288 with 1 Axes>"
      ]
     },
     "metadata": {
      "needs_background": "light",
      "tags": []
     },
     "output_type": "display_data"
    }
   ],
   "source": [
    "\n",
    "acc = hist.history['accuracy']\n",
    "# val_acc = hist.history['val_accuracy']\n",
    "f1 = hist.history['f1']\n",
    "# val_f1 = hist.history['val_f1']\n",
    " \n",
    "epochs = range(len(acc))\n",
    " \n",
    "plt.plot(epochs, acc, 'b', label='Train acc')\n",
    "# plt.plot(epochs, val_acc, 'r', label='Val acc')\n",
    "plt.title('Training accuracy')\n",
    "plt.legend()\n",
    " \n",
    "plt.figure()\n",
    " \n",
    "plt.plot(epochs, f1, 'b', label='Train f1')\n",
    "# plt.plot(epochs, val_f1, 'r', label='Val f1')\n",
    "plt.title('Train f1 score')\n",
    "plt.legend()\n",
    " \n",
    "plt.show()"
   ]
  },
  {
   "cell_type": "code",
   "execution_count": 0,
   "metadata": {
    "colab": {},
    "colab_type": "code",
    "id": "0OvqBfjnpgHa"
   },
   "outputs": [],
   "source": [
    "del generatedX_train_3c\n",
    "del generatedy_train\n",
    "\n",
    "X_val = np.load(\"drive/My Drive/LAB3/data/X_val.npy\")\n",
    "y_val = pd.read_csv(\"drive/My Drive/LAB3/data/y_val.csv\")"
   ]
  },
  {
   "cell_type": "code",
   "execution_count": 0,
   "metadata": {
    "colab": {
     "base_uri": "https://localhost:8080/",
     "height": 862
    },
    "colab_type": "code",
    "id": "S2BYeDXWpR4u",
    "outputId": "b22dcba7-eefd-4822-de21-5c6b180ee824"
   },
   "outputs": [
    {
     "name": "stdout",
     "output_type": "stream",
     "text": [
      "              precision    recall  f1-score   support\n",
      "\n",
      "           0       0.21      0.61      0.31        77\n",
      "           1       0.03      0.79      0.05        19\n",
      "           2       0.14      1.00      0.25         2\n",
      "           3       0.27      0.43      0.33        30\n",
      "           4       0.58      0.55      0.56       337\n",
      "           5       0.16      0.41      0.23       135\n",
      "           6       0.71      0.78      0.74       462\n",
      "           7       0.52      0.48      0.50       822\n",
      "           8       0.20      0.57      0.29        53\n",
      "           9       0.04      0.75      0.08        16\n",
      "          10       0.17      0.65      0.27        88\n",
      "          11       0.06      0.43      0.11        84\n",
      "          12       0.28      0.69      0.40       107\n",
      "          13       0.01      0.27      0.03        11\n",
      "          14       0.73      0.85      0.79      2242\n",
      "          15       0.03      0.67      0.06        21\n",
      "          16       0.08      0.39      0.14        31\n",
      "          17       0.62      0.74      0.68       361\n",
      "          18       0.09      0.41      0.14        41\n",
      "          19       0.15      0.51      0.23        59\n",
      "          20       0.36      0.64      0.46       345\n",
      "          21       0.03      0.09      0.05        57\n",
      "          22       0.82      0.94      0.88       818\n",
      "          23       0.53      0.58      0.55       356\n",
      "          24       0.29      0.70      0.41       114\n",
      "          25       0.01      0.33      0.02         6\n",
      "          26       0.42      0.58      0.49       296\n",
      "          27       0.86      0.90      0.88      1256\n",
      "          28       0.00      0.13      0.01        23\n",
      "          29       0.15      0.68      0.24       120\n",
      "          30       0.92      0.57      0.70     22150\n",
      "          31       0.17      0.59      0.27       110\n",
      "          32       0.47      0.63      0.54      4310\n",
      "          33       0.23      0.14      0.17       522\n",
      "          34       0.55      0.74      0.63      1487\n",
      "          35       0.47      0.68      0.56       291\n",
      "          36       0.46      0.64      0.54       647\n",
      "          37       0.59      0.62      0.61       901\n",
      "          38       0.01      0.20      0.01        10\n",
      "\n",
      "    accuracy                           0.62     38817\n",
      "   macro avg       0.32      0.57      0.36     38817\n",
      "weighted avg       0.76      0.62      0.66     38817\n",
      "\n"
     ]
    }
   ],
   "source": [
    "X_val_3c = np.stack([X_val.reshape(-1,32,32)]*3, axis=-1)\n",
    "y_predicted = model.predict(X_val_3c)\n",
    "predicted  = y_predicted.argmax(axis = 1)\n",
    "y_val = y_val.values\n",
    "y_val = y_val.argmax(axis = 1)\n",
    "report = classification_report(y_val, predicted)\n",
    "print(report)"
   ]
  },
  {
   "cell_type": "markdown",
   "metadata": {
    "colab_type": "text",
    "id": "Lf0M6fQ6w_Hr"
   },
   "source": [
    "## Our model"
   ]
  },
  {
   "cell_type": "code",
   "execution_count": 0,
   "metadata": {
    "colab": {
     "base_uri": "https://localhost:8080/",
     "height": 862
    },
    "colab_type": "code",
    "id": "EGqdnqMcy-H9",
    "outputId": "6933724a-e33f-4940-90bb-d31543eb8202"
   },
   "outputs": [
    {
     "name": "stdout",
     "output_type": "stream",
     "text": [
      "Model: \"sequential\"\n",
      "_________________________________________________________________\n",
      "Layer (type)                 Output Shape              Param #   \n",
      "=================================================================\n",
      "conv2d (Conv2D)              (None, 32, 32, 16)        416       \n",
      "_________________________________________________________________\n",
      "conv2d_1 (Conv2D)            (None, 32, 32, 16)        6416      \n",
      "_________________________________________________________________\n",
      "max_pooling2d (MaxPooling2D) (None, 16, 16, 16)        0         \n",
      "_________________________________________________________________\n",
      "batch_normalization (BatchNo (None, 16, 16, 16)        64        \n",
      "_________________________________________________________________\n",
      "dropout (Dropout)            (None, 16, 16, 16)        0         \n",
      "_________________________________________________________________\n",
      "conv2d_2 (Conv2D)            (None, 16, 16, 32)        4640      \n",
      "_________________________________________________________________\n",
      "conv2d_3 (Conv2D)            (None, 16, 16, 32)        9248      \n",
      "_________________________________________________________________\n",
      "max_pooling2d_1 (MaxPooling2 (None, 8, 8, 32)          0         \n",
      "_________________________________________________________________\n",
      "batch_normalization_1 (Batch (None, 8, 8, 32)          128       \n",
      "_________________________________________________________________\n",
      "dropout_1 (Dropout)          (None, 8, 8, 32)          0         \n",
      "_________________________________________________________________\n",
      "conv2d_4 (Conv2D)            (None, 8, 8, 64)          18496     \n",
      "_________________________________________________________________\n",
      "conv2d_5 (Conv2D)            (None, 8, 8, 64)          36928     \n",
      "_________________________________________________________________\n",
      "max_pooling2d_2 (MaxPooling2 (None, 4, 4, 64)          0         \n",
      "_________________________________________________________________\n",
      "batch_normalization_2 (Batch (None, 4, 4, 64)          256       \n",
      "_________________________________________________________________\n",
      "dropout_2 (Dropout)          (None, 4, 4, 64)          0         \n",
      "_________________________________________________________________\n",
      "flatten (Flatten)            (None, 1024)              0         \n",
      "_________________________________________________________________\n",
      "dense (Dense)                (None, 256)               262400    \n",
      "_________________________________________________________________\n",
      "batch_normalization_3 (Batch (None, 256)               1024      \n",
      "_________________________________________________________________\n",
      "dense_1 (Dense)              (None, 39)                10023     \n",
      "=================================================================\n",
      "Total params: 350,039\n",
      "Trainable params: 349,303\n",
      "Non-trainable params: 736\n",
      "_________________________________________________________________\n"
     ]
    }
   ],
   "source": [
    "model = keras.Sequential()\n",
    "\n",
    "model.add(layers.Conv2D(filters = 16, kernel_size = (5,5), padding = 'Same', activation = 'relu', input_shape = (32,32,1)))\n",
    "model.add(layers.Conv2D(filters = 16, kernel_size = (5,5), padding = 'Same', activation = 'relu'))\n",
    "model.add(layers.MaxPool2D(pool_size = (2,2)))\n",
    "model.add(layers.BatchNormalization())\n",
    "model.add(layers.Dropout(0.25))\n",
    "\n",
    "model.add(layers.Conv2D(filters = 32, kernel_size = (3,3), padding = 'Same', activation = 'relu'))\n",
    "model.add(layers.Conv2D(filters = 32, kernel_size = (3,3), padding = 'Same', activation = 'relu'))\n",
    "model.add(layers.MaxPool2D(pool_size = (2,2), strides=(2,2)))\n",
    "model.add(layers.BatchNormalization())\n",
    "model.add(layers.Dropout(0.25))\n",
    "\n",
    "model.add(layers.Conv2D(filters = 64, kernel_size = (3,3), padding = 'Same', activation = 'relu'))\n",
    "model.add(layers.Conv2D(filters = 64, kernel_size = (3,3), padding = 'Same', activation = 'relu'))\n",
    "model.add(layers.MaxPool2D(pool_size = (2,2), strides=(2,2)))\n",
    "model.add(layers.BatchNormalization())\n",
    "model.add(layers.Dropout(0.25))\n",
    "\n",
    "model.add(layers.Flatten())\n",
    "model.add(layers.Dense(256, activation = 'relu'))\n",
    "model.add(layers.BatchNormalization())\n",
    "model.add(layers.Dense(39, activation = \"softmax\"))\n",
    "\n",
    "model.summary()"
   ]
  },
  {
   "cell_type": "code",
   "execution_count": 0,
   "metadata": {
    "colab": {},
    "colab_type": "code",
    "id": "-5Euv5yuxbSy"
   },
   "outputs": [],
   "source": [
    "model.compile(loss='categorical_crossentropy', optimizer='adam',\n",
    "               metrics=[f1, 'accuracy'])"
   ]
  },
  {
   "cell_type": "code",
   "execution_count": 0,
   "metadata": {
    "colab": {
     "base_uri": "https://localhost:8080/",
     "height": 1000
    },
    "colab_type": "code",
    "id": "MAAv9tKHxiLP",
    "outputId": "9049e8f0-eefc-4e0c-c8b0-edd164ae0737"
   },
   "outputs": [
    {
     "name": "stdout",
     "output_type": "stream",
     "text": [
      "Epoch 1/50\n",
      "9552/9552 - 45s - loss: 1.5449 - f1: 0.4711 - accuracy: 0.5257 - val_loss: 0.9488 - val_f1: 0.6428 - val_accuracy: 0.6674\n",
      "Epoch 2/50\n",
      "9552/9552 - 45s - loss: 1.0848 - f1: 0.6389 - accuracy: 0.6573 - val_loss: 0.9205 - val_f1: 0.6490 - val_accuracy: 0.6618\n",
      "Epoch 3/50\n",
      "9552/9552 - 45s - loss: 0.9376 - f1: 0.6918 - accuracy: 0.7017 - val_loss: 1.0030 - val_f1: 0.6330 - val_accuracy: 0.6408\n",
      "Epoch 4/50\n",
      "9552/9552 - 45s - loss: 0.8623 - f1: 0.7174 - accuracy: 0.7240 - val_loss: 0.7092 - val_f1: 0.7273 - val_accuracy: 0.7320\n",
      "Epoch 5/50\n",
      "9552/9552 - 45s - loss: 0.8099 - f1: 0.7344 - accuracy: 0.7390 - val_loss: 0.9021 - val_f1: 0.6600 - val_accuracy: 0.6676\n",
      "Epoch 6/50\n",
      "9552/9552 - 45s - loss: 0.7736 - f1: 0.7473 - accuracy: 0.7516 - val_loss: 0.8851 - val_f1: 0.6688 - val_accuracy: 0.6749\n",
      "Epoch 7/50\n",
      "9552/9552 - 46s - loss: 0.7427 - f1: 0.7572 - accuracy: 0.7603 - val_loss: 0.8042 - val_f1: 0.6885 - val_accuracy: 0.6933\n",
      "Epoch 8/50\n",
      "9552/9552 - 45s - loss: 0.7215 - f1: 0.7639 - accuracy: 0.7670 - val_loss: 0.7425 - val_f1: 0.7265 - val_accuracy: 0.7293\n",
      "Epoch 9/50\n",
      "9552/9552 - 45s - loss: 0.7015 - f1: 0.7701 - accuracy: 0.7732 - val_loss: 0.8661 - val_f1: 0.6818 - val_accuracy: 0.6886\n",
      "Epoch 10/50\n",
      "9552/9552 - 45s - loss: 0.6855 - f1: 0.7758 - accuracy: 0.7769 - val_loss: 0.8125 - val_f1: 0.6898 - val_accuracy: 0.6957\n",
      "Epoch 11/50\n",
      "9552/9552 - 44s - loss: 0.6669 - f1: 0.7811 - accuracy: 0.7827 - val_loss: 0.7113 - val_f1: 0.7336 - val_accuracy: 0.7386\n",
      "Epoch 12/50\n",
      "9552/9552 - 44s - loss: 0.6544 - f1: 0.7847 - accuracy: 0.7869 - val_loss: 0.7623 - val_f1: 0.7118 - val_accuracy: 0.7161\n",
      "Epoch 13/50\n",
      "9552/9552 - 44s - loss: 0.6427 - f1: 0.7882 - accuracy: 0.7894 - val_loss: 0.7072 - val_f1: 0.7369 - val_accuracy: 0.7379\n",
      "Epoch 14/50\n",
      "9552/9552 - 44s - loss: 0.6313 - f1: 0.7917 - accuracy: 0.7929 - val_loss: 0.6892 - val_f1: 0.7363 - val_accuracy: 0.7385\n",
      "Epoch 15/50\n",
      "9552/9552 - 44s - loss: 0.6203 - f1: 0.7958 - accuracy: 0.7968 - val_loss: 0.7335 - val_f1: 0.7216 - val_accuracy: 0.7254\n",
      "Epoch 16/50\n",
      "9552/9552 - 44s - loss: 0.6144 - f1: 0.7975 - accuracy: 0.7986 - val_loss: 0.6944 - val_f1: 0.7365 - val_accuracy: 0.7404\n",
      "Epoch 17/50\n",
      "9552/9552 - 44s - loss: 0.6052 - f1: 0.8004 - accuracy: 0.8009 - val_loss: 0.7405 - val_f1: 0.7259 - val_accuracy: 0.7284\n",
      "Epoch 18/50\n",
      "9552/9552 - 44s - loss: 0.5979 - f1: 0.8025 - accuracy: 0.8031 - val_loss: 0.8057 - val_f1: 0.7031 - val_accuracy: 0.7058\n",
      "Epoch 19/50\n",
      "9552/9552 - 44s - loss: 0.5911 - f1: 0.8053 - accuracy: 0.8058 - val_loss: 0.8034 - val_f1: 0.6940 - val_accuracy: 0.6986\n",
      "Epoch 20/50\n",
      "9552/9552 - 44s - loss: 0.5861 - f1: 0.8062 - accuracy: 0.8065 - val_loss: 0.6977 - val_f1: 0.7341 - val_accuracy: 0.7373\n",
      "Epoch 21/50\n",
      "9552/9552 - 44s - loss: 0.5791 - f1: 0.8086 - accuracy: 0.8087 - val_loss: 0.6480 - val_f1: 0.7558 - val_accuracy: 0.7581\n",
      "Epoch 22/50\n",
      "9552/9552 - 43s - loss: 0.5738 - f1: 0.8101 - accuracy: 0.8107 - val_loss: 0.7332 - val_f1: 0.7279 - val_accuracy: 0.7309\n",
      "Epoch 23/50\n",
      "9552/9552 - 44s - loss: 0.5686 - f1: 0.8119 - accuracy: 0.8117 - val_loss: 0.6537 - val_f1: 0.7566 - val_accuracy: 0.7597\n",
      "Epoch 24/50\n",
      "9552/9552 - 43s - loss: 0.5653 - f1: 0.8129 - accuracy: 0.8126 - val_loss: 0.7536 - val_f1: 0.7118 - val_accuracy: 0.7150\n",
      "Epoch 25/50\n",
      "9552/9552 - 44s - loss: 0.5623 - f1: 0.8134 - accuracy: 0.8137 - val_loss: 0.7616 - val_f1: 0.7208 - val_accuracy: 0.7219\n",
      "Epoch 26/50\n",
      "9552/9552 - 43s - loss: 0.5587 - f1: 0.8150 - accuracy: 0.8155 - val_loss: 0.6719 - val_f1: 0.7420 - val_accuracy: 0.7463\n",
      "Epoch 27/50\n",
      "9552/9552 - 43s - loss: 0.5535 - f1: 0.8165 - accuracy: 0.8165 - val_loss: 0.6561 - val_f1: 0.7479 - val_accuracy: 0.7479\n",
      "Epoch 28/50\n",
      "9552/9552 - 44s - loss: 0.5483 - f1: 0.8177 - accuracy: 0.8178 - val_loss: 0.7020 - val_f1: 0.7347 - val_accuracy: 0.7365\n",
      "Epoch 29/50\n",
      "9552/9552 - 44s - loss: 0.5452 - f1: 0.8190 - accuracy: 0.8191 - val_loss: 0.7116 - val_f1: 0.7310 - val_accuracy: 0.7332\n",
      "Epoch 30/50\n",
      "9552/9552 - 44s - loss: 0.5426 - f1: 0.8199 - accuracy: 0.8198 - val_loss: 0.7321 - val_f1: 0.7265 - val_accuracy: 0.7283\n",
      "Epoch 31/50\n",
      "9552/9552 - 44s - loss: 0.5366 - f1: 0.8220 - accuracy: 0.8219 - val_loss: 0.7051 - val_f1: 0.7332 - val_accuracy: 0.7355\n",
      "Epoch 32/50\n",
      "9552/9552 - 44s - loss: 0.5343 - f1: 0.8222 - accuracy: 0.8222 - val_loss: 0.7210 - val_f1: 0.7326 - val_accuracy: 0.7325\n",
      "Epoch 33/50\n",
      "9552/9552 - 44s - loss: 0.5321 - f1: 0.8225 - accuracy: 0.8222 - val_loss: 0.7683 - val_f1: 0.7109 - val_accuracy: 0.7139\n",
      "Epoch 34/50\n",
      "9552/9552 - 44s - loss: 0.5291 - f1: 0.8246 - accuracy: 0.8245 - val_loss: 0.6772 - val_f1: 0.7506 - val_accuracy: 0.7500\n",
      "Epoch 35/50\n",
      "9552/9552 - 44s - loss: 0.5256 - f1: 0.8249 - accuracy: 0.8244 - val_loss: 0.6622 - val_f1: 0.7511 - val_accuracy: 0.7526\n",
      "Epoch 36/50\n",
      "9552/9552 - 44s - loss: 0.5230 - f1: 0.8253 - accuracy: 0.8251 - val_loss: 0.6985 - val_f1: 0.7430 - val_accuracy: 0.7450\n",
      "Epoch 37/50\n",
      "9552/9552 - 44s - loss: 0.5207 - f1: 0.8263 - accuracy: 0.8258 - val_loss: 0.7623 - val_f1: 0.7105 - val_accuracy: 0.7131\n",
      "Epoch 38/50\n",
      "9552/9552 - 44s - loss: 0.5205 - f1: 0.8264 - accuracy: 0.8260 - val_loss: 0.7146 - val_f1: 0.7343 - val_accuracy: 0.7356\n",
      "Epoch 39/50\n",
      "9552/9552 - 44s - loss: 0.5171 - f1: 0.8275 - accuracy: 0.8273 - val_loss: 0.6718 - val_f1: 0.7518 - val_accuracy: 0.7545\n",
      "Epoch 40/50\n",
      "9552/9552 - 44s - loss: 0.5145 - f1: 0.8279 - accuracy: 0.8277 - val_loss: 0.6820 - val_f1: 0.7469 - val_accuracy: 0.7472\n",
      "Epoch 41/50\n",
      "9552/9552 - 44s - loss: 0.5135 - f1: 0.8288 - accuracy: 0.8284 - val_loss: 0.6605 - val_f1: 0.7531 - val_accuracy: 0.7551\n",
      "Epoch 42/50\n",
      "9552/9552 - 44s - loss: 0.5084 - f1: 0.8304 - accuracy: 0.8301 - val_loss: 0.7017 - val_f1: 0.7400 - val_accuracy: 0.7423\n",
      "Epoch 43/50\n",
      "9552/9552 - 44s - loss: 0.5062 - f1: 0.8307 - accuracy: 0.8305 - val_loss: 0.6700 - val_f1: 0.7522 - val_accuracy: 0.7528\n",
      "Epoch 44/50\n",
      "9552/9552 - 44s - loss: 0.5069 - f1: 0.8304 - accuracy: 0.8298 - val_loss: 0.7098 - val_f1: 0.7337 - val_accuracy: 0.7352\n",
      "Epoch 45/50\n",
      "9552/9552 - 45s - loss: 0.5051 - f1: 0.8314 - accuracy: 0.8308 - val_loss: 0.6448 - val_f1: 0.7615 - val_accuracy: 0.7639\n",
      "Epoch 46/50\n",
      "9552/9552 - 44s - loss: 0.5026 - f1: 0.8326 - accuracy: 0.8319 - val_loss: 0.6657 - val_f1: 0.7514 - val_accuracy: 0.7510\n",
      "Epoch 47/50\n",
      "9552/9552 - 44s - loss: 0.5021 - f1: 0.8320 - accuracy: 0.8319 - val_loss: 0.7226 - val_f1: 0.7303 - val_accuracy: 0.7320\n",
      "Epoch 48/50\n",
      "9552/9552 - 44s - loss: 0.5002 - f1: 0.8321 - accuracy: 0.8318 - val_loss: 0.7142 - val_f1: 0.7325 - val_accuracy: 0.7335\n",
      "Epoch 49/50\n",
      "9552/9552 - 45s - loss: 0.4968 - f1: 0.8336 - accuracy: 0.8337 - val_loss: 0.7001 - val_f1: 0.7360 - val_accuracy: 0.7385\n",
      "Epoch 50/50\n",
      "9552/9552 - 44s - loss: 0.4938 - f1: 0.8343 - accuracy: 0.8335 - val_loss: 0.7105 - val_f1: 0.7323 - val_accuracy: 0.7311\n"
     ]
    }
   ],
   "source": [
    "hist = model.fit(generatedX_train, generatedy_train, batch_size=32, epochs=50,\n",
    "           validation_data=(X_val, y_val), class_weight=None,\n",
    "           verbose=2, shuffle=True)"
   ]
  },
  {
   "cell_type": "code",
   "execution_count": 0,
   "metadata": {
    "colab": {
     "base_uri": "https://localhost:8080/",
     "height": 545
    },
    "colab_type": "code",
    "id": "EjEfqzO_xnO1",
    "outputId": "29bab4fe-8126-4cd4-c2df-8aa509f6642b"
   },
   "outputs": [
    {
     "data": {
      "image/png": "[encoded data removed]",
      "text/plain": [
       "<Figure size 432x288 with 1 Axes>"
      ]
     },
     "metadata": {
      "needs_background": "light",
      "tags": []
     },
     "output_type": "display_data"
    },
    {
     "data": {
      "image/png": "[encoded data removed]",
      "text/plain": [
       "<Figure size 432x288 with 1 Axes>"
      ]
     },
     "metadata": {
      "needs_background": "light",
      "tags": []
     },
     "output_type": "display_data"
    }
   ],
   "source": [
    "model.save('our_model.h5')\n",
    "\n",
    "acc = hist.history['accuracy']\n",
    "val_acc = hist.history['val_accuracy']\n",
    "f1 = hist.history['f1']\n",
    "val_f1 = hist.history['val_f1']\n",
    " \n",
    "epochs = range(len(acc))\n",
    " \n",
    "plt.plot(epochs, acc, 'b', label='Train acc')\n",
    "plt.plot(epochs, val_acc, 'r', label='Val acc')\n",
    "plt.title('Training and testing accuracy')\n",
    "plt.legend()\n",
    " \n",
    "plt.figure()\n",
    " \n",
    "plt.plot(epochs, f1, 'b', label='Train f1')\n",
    "plt.plot(epochs, val_f1, 'r', label='Val f1')\n",
    "plt.title('Train and Val f1 score')\n",
    "plt.legend()\n",
    " \n",
    "plt.show()"
   ]
  },
  {
   "cell_type": "code",
   "execution_count": 0,
   "metadata": {
    "colab": {
     "base_uri": "https://localhost:8080/",
     "height": 862
    },
    "colab_type": "code",
    "id": "UOQ5gH5YxtvQ",
    "outputId": "ca840f83-3558-4335-9a4c-bbcf194e368f"
   },
   "outputs": [
    {
     "name": "stdout",
     "output_type": "stream",
     "text": [
      "              precision    recall  f1-score   support\n",
      "\n",
      "           0       0.44      0.65      0.52        77\n",
      "           1       0.50      0.63      0.56        19\n",
      "           2       0.33      1.00      0.50         2\n",
      "           3       0.81      0.57      0.67        30\n",
      "           4       0.67      0.74      0.70       337\n",
      "           5       0.69      0.73      0.71       135\n",
      "           6       0.78      0.91      0.84       462\n",
      "           7       0.74      0.69      0.71       822\n",
      "           8       0.28      0.68      0.40        53\n",
      "           9       0.65      0.69      0.67        16\n",
      "          10       0.56      0.81      0.66        88\n",
      "          11       0.54      0.43      0.48        84\n",
      "          12       0.50      0.73      0.59       107\n",
      "          13       0.07      0.18      0.10        11\n",
      "          14       0.87      0.93      0.90      2242\n",
      "          15       0.28      0.76      0.41        21\n",
      "          16       0.50      0.39      0.44        31\n",
      "          17       0.68      0.84      0.75       361\n",
      "          18       0.30      0.34      0.32        41\n",
      "          19       0.75      0.69      0.72        59\n",
      "          20       0.46      0.63      0.53       345\n",
      "          21       0.23      0.16      0.19        57\n",
      "          22       0.83      0.91      0.87       818\n",
      "          23       0.80      0.64      0.71       356\n",
      "          24       0.58      0.78      0.66       114\n",
      "          25       0.06      0.33      0.10         6\n",
      "          26       0.36      0.69      0.47       296\n",
      "          27       0.79      0.95      0.86      1256\n",
      "          28       0.09      0.13      0.11        23\n",
      "          29       0.31      0.53      0.39       120\n",
      "          30       0.93      0.67      0.78     22150\n",
      "          31       0.47      0.63      0.54       110\n",
      "          32       0.44      0.85      0.58      4310\n",
      "          33       0.40      0.24      0.30       522\n",
      "          34       0.76      0.85      0.80      1487\n",
      "          35       0.48      0.87      0.62       291\n",
      "          36       0.54      0.78      0.64       647\n",
      "          37       0.59      0.73      0.65       901\n",
      "          38       0.06      0.10      0.07        10\n",
      "\n",
      "    accuracy                           0.73     38817\n",
      "   macro avg       0.52      0.64      0.55     38817\n",
      "weighted avg       0.80      0.73      0.74     38817\n",
      "\n"
     ]
    }
   ],
   "source": [
    "y_predicted = model.predict(X_val)\n",
    "predicted  = y_predicted.argmax(axis = 1)\n",
    "y_val = y_val.values\n",
    "y_val = y_val.argmax(axis = 1)\n",
    "report = classification_report(y_val, predicted)\n",
    "print(report)"
   ]
  },
  {
   "cell_type": "code",
   "execution_count": 0,
   "metadata": {
    "colab": {},
    "colab_type": "code",
    "id": "d-v-CzS40X4O"
   },
   "outputs": [],
   "source": []
  },
  {
   "cell_type": "markdown",
   "metadata": {
    "colab_type": "text",
    "id": "CzPp-z832aMe"
   },
   "source": [
    "# Evaluation"
   ]
  },
  {
   "cell_type": "code",
   "execution_count": 0,
   "metadata": {
    "colab": {
     "base_uri": "https://localhost:8080/",
     "height": 862
    },
    "colab_type": "code",
    "id": "O2wpMg-n2bxH",
    "outputId": "b746caf8-b7d2-40d3-b8bc-5cbd494dae81"
   },
   "outputs": [
    {
     "name": "stdout",
     "output_type": "stream",
     "text": [
      "Model: \"sequential\"\n",
      "_________________________________________________________________\n",
      "Layer (type)                 Output Shape              Param #   \n",
      "=================================================================\n",
      "conv2d (Conv2D)              (None, 32, 32, 16)        416       \n",
      "_________________________________________________________________\n",
      "conv2d_1 (Conv2D)            (None, 32, 32, 16)        6416      \n",
      "_________________________________________________________________\n",
      "max_pooling2d (MaxPooling2D) (None, 16, 16, 16)        0         \n",
      "_________________________________________________________________\n",
      "batch_normalization (BatchNo (None, 16, 16, 16)        64        \n",
      "_________________________________________________________________\n",
      "dropout (Dropout)            (None, 16, 16, 16)        0         \n",
      "_________________________________________________________________\n",
      "conv2d_2 (Conv2D)            (None, 16, 16, 32)        4640      \n",
      "_________________________________________________________________\n",
      "conv2d_3 (Conv2D)            (None, 16, 16, 32)        9248      \n",
      "_________________________________________________________________\n",
      "max_pooling2d_1 (MaxPooling2 (None, 8, 8, 32)          0         \n",
      "_________________________________________________________________\n",
      "batch_normalization_1 (Batch (None, 8, 8, 32)          128       \n",
      "_________________________________________________________________\n",
      "dropout_1 (Dropout)          (None, 8, 8, 32)          0         \n",
      "_________________________________________________________________\n",
      "conv2d_4 (Conv2D)            (None, 8, 8, 64)          18496     \n",
      "_________________________________________________________________\n",
      "conv2d_5 (Conv2D)            (None, 8, 8, 64)          36928     \n",
      "_________________________________________________________________\n",
      "max_pooling2d_2 (MaxPooling2 (None, 4, 4, 64)          0         \n",
      "_________________________________________________________________\n",
      "batch_normalization_2 (Batch (None, 4, 4, 64)          256       \n",
      "_________________________________________________________________\n",
      "dropout_2 (Dropout)          (None, 4, 4, 64)          0         \n",
      "_________________________________________________________________\n",
      "flatten (Flatten)            (None, 1024)              0         \n",
      "_________________________________________________________________\n",
      "dense (Dense)                (None, 256)               262400    \n",
      "_________________________________________________________________\n",
      "batch_normalization_3 (Batch (None, 256)               1024      \n",
      "_________________________________________________________________\n",
      "dense_1 (Dense)              (None, 39)                10023     \n",
      "=================================================================\n",
      "Total params: 350,039\n",
      "Trainable params: 349,303\n",
      "Non-trainable params: 736\n",
      "_________________________________________________________________\n"
     ]
    }
   ],
   "source": [
    "model = keras.Sequential()\n",
    "\n",
    "model.add(layers.Conv2D(filters = 16, kernel_size = (5,5), padding = 'Same', activation = 'relu', input_shape = (32,32,1)))\n",
    "model.add(layers.Conv2D(filters = 16, kernel_size = (5,5), padding = 'Same', activation = 'relu'))\n",
    "model.add(layers.MaxPool2D(pool_size = (2,2)))\n",
    "model.add(layers.BatchNormalization())\n",
    "model.add(layers.Dropout(0.25))\n",
    "\n",
    "model.add(layers.Conv2D(filters = 32, kernel_size = (3,3), padding = 'Same', activation = 'relu'))\n",
    "model.add(layers.Conv2D(filters = 32, kernel_size = (3,3), padding = 'Same', activation = 'relu'))\n",
    "model.add(layers.MaxPool2D(pool_size = (2,2), strides=(2,2)))\n",
    "model.add(layers.BatchNormalization())\n",
    "model.add(layers.Dropout(0.25))\n",
    "\n",
    "model.add(layers.Conv2D(filters = 64, kernel_size = (3,3), padding = 'Same', activation = 'relu'))\n",
    "model.add(layers.Conv2D(filters = 64, kernel_size = (3,3), padding = 'Same', activation = 'relu'))\n",
    "model.add(layers.MaxPool2D(pool_size = (2,2), strides=(2,2)))\n",
    "model.add(layers.BatchNormalization())\n",
    "model.add(layers.Dropout(0.25))\n",
    "\n",
    "model.add(layers.Flatten())\n",
    "model.add(layers.Dense(256, activation = 'relu'))\n",
    "model.add(layers.BatchNormalization())\n",
    "model.add(layers.Dense(39, activation = \"softmax\"))\n",
    "\n",
    "model.summary()"
   ]
  },
  {
   "cell_type": "code",
   "execution_count": 0,
   "metadata": {
    "colab": {},
    "colab_type": "code",
    "id": "UH6YAMtnbDfG"
   },
   "outputs": [],
   "source": [
    "model.compile(loss='categorical_crossentropy', optimizer='adam',\n",
    "               metrics=[f1, 'accuracy'])"
   ]
  },
  {
   "cell_type": "code",
   "execution_count": 0,
   "metadata": {
    "colab": {
     "base_uri": "https://localhost:8080/",
     "height": 1000
    },
    "colab_type": "code",
    "id": "ahL2R0uebDjQ",
    "outputId": "0e3cb0d5-13e7-43e2-94be-27416b47aa8f"
   },
   "outputs": [
    {
     "name": "stdout",
     "output_type": "stream",
     "text": [
      "Epoch 1/100\n",
      "9552/9552 - 46s - loss: 1.5329 - f1: 0.4737 - accuracy: 0.5274 - val_loss: 0.9847 - val_f1: 0.6483 - val_accuracy: 0.6597\n",
      "Epoch 2/100\n",
      "9552/9552 - 46s - loss: 1.0649 - f1: 0.6466 - accuracy: 0.6630 - val_loss: 0.8891 - val_f1: 0.6850 - val_accuracy: 0.6893\n",
      "Epoch 3/100\n",
      "9552/9552 - 46s - loss: 0.9204 - f1: 0.6982 - accuracy: 0.7071 - val_loss: 0.8206 - val_f1: 0.7003 - val_accuracy: 0.7079\n",
      "Epoch 4/100\n",
      "9552/9552 - 46s - loss: 0.8436 - f1: 0.7243 - accuracy: 0.7297 - val_loss: 0.8542 - val_f1: 0.6897 - val_accuracy: 0.6958\n",
      "Epoch 5/100\n",
      "9552/9552 - 46s - loss: 0.7902 - f1: 0.7418 - accuracy: 0.7466 - val_loss: 0.8116 - val_f1: 0.7038 - val_accuracy: 0.7068\n",
      "Epoch 6/100\n",
      "9552/9552 - 46s - loss: 0.7534 - f1: 0.7539 - accuracy: 0.7576 - val_loss: 0.6604 - val_f1: 0.7537 - val_accuracy: 0.7560\n",
      "Epoch 7/100\n",
      "9552/9552 - 46s - loss: 0.7228 - f1: 0.7642 - accuracy: 0.7670 - val_loss: 0.7931 - val_f1: 0.7028 - val_accuracy: 0.7105\n",
      "Epoch 8/100\n",
      "9552/9552 - 45s - loss: 0.6994 - f1: 0.7712 - accuracy: 0.7738 - val_loss: 0.7311 - val_f1: 0.7357 - val_accuracy: 0.7398\n",
      "Epoch 9/100\n",
      "9552/9552 - 45s - loss: 0.6773 - f1: 0.7781 - accuracy: 0.7798 - val_loss: 0.7551 - val_f1: 0.7251 - val_accuracy: 0.7278\n",
      "Epoch 10/100\n",
      "9552/9552 - 45s - loss: 0.6630 - f1: 0.7822 - accuracy: 0.7842 - val_loss: 0.7506 - val_f1: 0.7189 - val_accuracy: 0.7219\n",
      "Epoch 11/100\n",
      "9552/9552 - 45s - loss: 0.6468 - f1: 0.7877 - accuracy: 0.7891 - val_loss: 0.7676 - val_f1: 0.7074 - val_accuracy: 0.7129\n",
      "Epoch 12/100\n",
      "9552/9552 - 46s - loss: 0.6350 - f1: 0.7910 - accuracy: 0.7922 - val_loss: 0.6972 - val_f1: 0.7396 - val_accuracy: 0.7403\n",
      "Epoch 13/100\n",
      "9552/9552 - 46s - loss: 0.6229 - f1: 0.7955 - accuracy: 0.7960 - val_loss: 0.6476 - val_f1: 0.7612 - val_accuracy: 0.7648\n",
      "Epoch 14/100\n",
      "9552/9552 - 45s - loss: 0.6128 - f1: 0.7991 - accuracy: 0.7996 - val_loss: 0.7917 - val_f1: 0.7114 - val_accuracy: 0.7147\n",
      "Epoch 15/100\n",
      "9552/9552 - 45s - loss: 0.6041 - f1: 0.8013 - accuracy: 0.8018 - val_loss: 0.7390 - val_f1: 0.7227 - val_accuracy: 0.7250\n",
      "Epoch 16/100\n",
      "9552/9552 - 46s - loss: 0.5960 - f1: 0.8033 - accuracy: 0.8037 - val_loss: 0.6925 - val_f1: 0.7391 - val_accuracy: 0.7408\n",
      "Epoch 17/100\n",
      "9552/9552 - 45s - loss: 0.5875 - f1: 0.8062 - accuracy: 0.8068 - val_loss: 0.6318 - val_f1: 0.7640 - val_accuracy: 0.7672\n",
      "Epoch 18/100\n",
      "9552/9552 - 45s - loss: 0.5802 - f1: 0.8088 - accuracy: 0.8088 - val_loss: 0.7024 - val_f1: 0.7403 - val_accuracy: 0.7413\n",
      "Epoch 19/100\n",
      "9552/9552 - 45s - loss: 0.5722 - f1: 0.8107 - accuracy: 0.8107 - val_loss: 0.7089 - val_f1: 0.7349 - val_accuracy: 0.7392\n",
      "Epoch 20/100\n",
      "9552/9552 - 46s - loss: 0.5700 - f1: 0.8117 - accuracy: 0.8117 - val_loss: 0.7539 - val_f1: 0.7132 - val_accuracy: 0.7157\n",
      "Epoch 21/100\n",
      "9552/9552 - 45s - loss: 0.5598 - f1: 0.8150 - accuracy: 0.8155 - val_loss: 0.6761 - val_f1: 0.7482 - val_accuracy: 0.7488\n",
      "Epoch 22/100\n",
      "9552/9552 - 45s - loss: 0.5561 - f1: 0.8165 - accuracy: 0.8163 - val_loss: 0.6924 - val_f1: 0.7427 - val_accuracy: 0.7451\n",
      "Epoch 23/100\n",
      "9552/9552 - 45s - loss: 0.5515 - f1: 0.8167 - accuracy: 0.8170 - val_loss: 0.7319 - val_f1: 0.7276 - val_accuracy: 0.7288\n",
      "Epoch 24/100\n",
      "9552/9552 - 45s - loss: 0.5467 - f1: 0.8183 - accuracy: 0.8184 - val_loss: 0.6869 - val_f1: 0.7426 - val_accuracy: 0.7447\n",
      "Epoch 25/100\n",
      "9552/9552 - 45s - loss: 0.5418 - f1: 0.8206 - accuracy: 0.8202 - val_loss: 0.7268 - val_f1: 0.7317 - val_accuracy: 0.7356\n",
      "Epoch 26/100\n",
      "9552/9552 - 45s - loss: 0.5392 - f1: 0.8217 - accuracy: 0.8213 - val_loss: 0.7101 - val_f1: 0.7344 - val_accuracy: 0.7349\n",
      "Epoch 27/100\n",
      "9552/9552 - 46s - loss: 0.5345 - f1: 0.8229 - accuracy: 0.8229 - val_loss: 0.6592 - val_f1: 0.7521 - val_accuracy: 0.7523\n",
      "Epoch 28/100\n",
      "9552/9552 - 45s - loss: 0.5313 - f1: 0.8237 - accuracy: 0.8234 - val_loss: 0.6882 - val_f1: 0.7403 - val_accuracy: 0.7437\n",
      "Epoch 29/100\n",
      "9552/9552 - 45s - loss: 0.5276 - f1: 0.8247 - accuracy: 0.8241 - val_loss: 0.7130 - val_f1: 0.7369 - val_accuracy: 0.7360\n",
      "Epoch 30/100\n",
      "9552/9552 - 45s - loss: 0.5254 - f1: 0.8255 - accuracy: 0.8251 - val_loss: 0.6302 - val_f1: 0.7632 - val_accuracy: 0.7630\n",
      "Epoch 31/100\n",
      "9552/9552 - 45s - loss: 0.5227 - f1: 0.8268 - accuracy: 0.8261 - val_loss: 0.6959 - val_f1: 0.7439 - val_accuracy: 0.7453\n",
      "Epoch 32/100\n",
      "9552/9552 - 45s - loss: 0.5171 - f1: 0.8280 - accuracy: 0.8276 - val_loss: 0.6648 - val_f1: 0.7528 - val_accuracy: 0.7544\n",
      "Epoch 33/100\n",
      "9552/9552 - 44s - loss: 0.5152 - f1: 0.8283 - accuracy: 0.8275 - val_loss: 0.6570 - val_f1: 0.7519 - val_accuracy: 0.7524\n",
      "Epoch 34/100\n",
      "9552/9552 - 45s - loss: 0.5124 - f1: 0.8294 - accuracy: 0.8289 - val_loss: 0.7148 - val_f1: 0.7322 - val_accuracy: 0.7327\n",
      "Epoch 35/100\n",
      "9552/9552 - 44s - loss: 0.5112 - f1: 0.8300 - accuracy: 0.8297 - val_loss: 0.7431 - val_f1: 0.7205 - val_accuracy: 0.7225\n",
      "Epoch 36/100\n",
      "9552/9552 - 44s - loss: 0.5045 - f1: 0.8319 - accuracy: 0.8313 - val_loss: 0.6684 - val_f1: 0.7543 - val_accuracy: 0.7563\n",
      "Epoch 37/100\n",
      "9552/9552 - 44s - loss: 0.5041 - f1: 0.8323 - accuracy: 0.8316 - val_loss: 0.6403 - val_f1: 0.7581 - val_accuracy: 0.7602\n",
      "Epoch 38/100\n",
      "9552/9552 - 44s - loss: 0.5005 - f1: 0.8329 - accuracy: 0.8322 - val_loss: 0.7280 - val_f1: 0.7303 - val_accuracy: 0.7311\n",
      "Epoch 39/100\n",
      "9552/9552 - 44s - loss: 0.4999 - f1: 0.8334 - accuracy: 0.8332 - val_loss: 0.7560 - val_f1: 0.7178 - val_accuracy: 0.7181\n",
      "Epoch 40/100\n",
      "9552/9552 - 44s - loss: 0.4969 - f1: 0.8343 - accuracy: 0.8335 - val_loss: 0.6651 - val_f1: 0.7537 - val_accuracy: 0.7540\n",
      "Epoch 41/100\n",
      "9552/9552 - 44s - loss: 0.4947 - f1: 0.8345 - accuracy: 0.8338 - val_loss: 0.6518 - val_f1: 0.7597 - val_accuracy: 0.7604\n",
      "Epoch 42/100\n",
      "9552/9552 - 44s - loss: 0.4918 - f1: 0.8354 - accuracy: 0.8352 - val_loss: 0.6986 - val_f1: 0.7433 - val_accuracy: 0.7461\n",
      "Epoch 43/100\n",
      "9552/9552 - 44s - loss: 0.4915 - f1: 0.8357 - accuracy: 0.8350 - val_loss: 0.6806 - val_f1: 0.7468 - val_accuracy: 0.7498\n",
      "Epoch 44/100\n",
      "9552/9552 - 44s - loss: 0.4896 - f1: 0.8362 - accuracy: 0.8357 - val_loss: 0.7068 - val_f1: 0.7452 - val_accuracy: 0.7497\n",
      "Epoch 45/100\n",
      "9552/9552 - 44s - loss: 0.4872 - f1: 0.8374 - accuracy: 0.8363 - val_loss: 0.7669 - val_f1: 0.7134 - val_accuracy: 0.7150\n",
      "Epoch 46/100\n",
      "9552/9552 - 44s - loss: 0.4845 - f1: 0.8385 - accuracy: 0.8377 - val_loss: 0.6952 - val_f1: 0.7363 - val_accuracy: 0.7384\n",
      "Epoch 47/100\n",
      "9552/9552 - 44s - loss: 0.4839 - f1: 0.8379 - accuracy: 0.8371 - val_loss: 0.7092 - val_f1: 0.7363 - val_accuracy: 0.7381\n",
      "Epoch 48/100\n",
      "9552/9552 - 44s - loss: 0.4814 - f1: 0.8392 - accuracy: 0.8385 - val_loss: 0.6327 - val_f1: 0.7715 - val_accuracy: 0.7740\n",
      "Epoch 49/100\n",
      "9552/9552 - 44s - loss: 0.4808 - f1: 0.8387 - accuracy: 0.8380 - val_loss: 0.7195 - val_f1: 0.7327 - val_accuracy: 0.7343\n",
      "Epoch 50/100\n",
      "9552/9552 - 44s - loss: 0.4786 - f1: 0.8397 - accuracy: 0.8392 - val_loss: 0.6850 - val_f1: 0.7455 - val_accuracy: 0.7487\n",
      "Epoch 51/100\n",
      "9552/9552 - 44s - loss: 0.4742 - f1: 0.8411 - accuracy: 0.8403 - val_loss: 0.6957 - val_f1: 0.7390 - val_accuracy: 0.7409\n",
      "Epoch 52/100\n",
      "9552/9552 - 44s - loss: 0.4735 - f1: 0.8406 - accuracy: 0.8403 - val_loss: 0.6627 - val_f1: 0.7495 - val_accuracy: 0.7510\n",
      "Epoch 53/100\n",
      "9552/9552 - 44s - loss: 0.4728 - f1: 0.8418 - accuracy: 0.8404 - val_loss: 0.6714 - val_f1: 0.7507 - val_accuracy: 0.7524\n",
      "Epoch 54/100\n",
      "9552/9552 - 44s - loss: 0.4720 - f1: 0.8415 - accuracy: 0.8411 - val_loss: 0.6495 - val_f1: 0.7614 - val_accuracy: 0.7628\n",
      "Epoch 55/100\n",
      "9552/9552 - 44s - loss: 0.4730 - f1: 0.8413 - accuracy: 0.8405 - val_loss: 0.7242 - val_f1: 0.7309 - val_accuracy: 0.7328\n",
      "Epoch 56/100\n",
      "9552/9552 - 44s - loss: 0.4678 - f1: 0.8430 - accuracy: 0.8421 - val_loss: 0.6986 - val_f1: 0.7406 - val_accuracy: 0.7425\n",
      "Epoch 57/100\n",
      "9552/9552 - 44s - loss: 0.4669 - f1: 0.8433 - accuracy: 0.8420 - val_loss: 0.7385 - val_f1: 0.7335 - val_accuracy: 0.7336\n",
      "Epoch 58/100\n",
      "9552/9552 - 44s - loss: 0.4647 - f1: 0.8435 - accuracy: 0.8431 - val_loss: 0.6934 - val_f1: 0.7482 - val_accuracy: 0.7480\n",
      "Epoch 59/100\n",
      "9552/9552 - 44s - loss: 0.4640 - f1: 0.8448 - accuracy: 0.8440 - val_loss: 0.6996 - val_f1: 0.7471 - val_accuracy: 0.7487\n",
      "Epoch 60/100\n",
      "9552/9552 - 44s - loss: 0.4632 - f1: 0.8440 - accuracy: 0.8433 - val_loss: 0.6923 - val_f1: 0.7420 - val_accuracy: 0.7444\n",
      "Epoch 61/100\n",
      "9552/9552 - 44s - loss: 0.4618 - f1: 0.8446 - accuracy: 0.8441 - val_loss: 0.6991 - val_f1: 0.7426 - val_accuracy: 0.7432\n",
      "Epoch 62/100\n",
      "9552/9552 - 44s - loss: 0.4620 - f1: 0.8449 - accuracy: 0.8439 - val_loss: 0.7303 - val_f1: 0.7264 - val_accuracy: 0.7277\n",
      "Epoch 63/100\n",
      "9552/9552 - 44s - loss: 0.4597 - f1: 0.8452 - accuracy: 0.8444 - val_loss: 0.6744 - val_f1: 0.7503 - val_accuracy: 0.7504\n",
      "Epoch 64/100\n",
      "9552/9552 - 45s - loss: 0.4586 - f1: 0.8465 - accuracy: 0.8458 - val_loss: 0.6985 - val_f1: 0.7385 - val_accuracy: 0.7399\n",
      "Epoch 65/100\n",
      "9552/9552 - 45s - loss: 0.4569 - f1: 0.8463 - accuracy: 0.8458 - val_loss: 0.7174 - val_f1: 0.7381 - val_accuracy: 0.7393\n",
      "Epoch 66/100\n",
      "9552/9552 - 44s - loss: 0.4562 - f1: 0.8463 - accuracy: 0.8456 - val_loss: 0.7119 - val_f1: 0.7369 - val_accuracy: 0.7371\n",
      "Epoch 67/100\n",
      "9552/9552 - 44s - loss: 0.4541 - f1: 0.8473 - accuracy: 0.8466 - val_loss: 0.6885 - val_f1: 0.7436 - val_accuracy: 0.7462\n",
      "Epoch 68/100\n",
      "9552/9552 - 44s - loss: 0.4535 - f1: 0.8476 - accuracy: 0.8466 - val_loss: 0.6300 - val_f1: 0.7739 - val_accuracy: 0.7753\n",
      "Epoch 69/100\n",
      "9552/9552 - 45s - loss: 0.4514 - f1: 0.8476 - accuracy: 0.8468 - val_loss: 0.6554 - val_f1: 0.7527 - val_accuracy: 0.7528\n",
      "Epoch 70/100\n",
      "9552/9552 - 44s - loss: 0.4524 - f1: 0.8480 - accuracy: 0.8477 - val_loss: 0.7044 - val_f1: 0.7414 - val_accuracy: 0.7433\n",
      "Epoch 71/100\n",
      "9552/9552 - 44s - loss: 0.4513 - f1: 0.8483 - accuracy: 0.8474 - val_loss: 0.7227 - val_f1: 0.7273 - val_accuracy: 0.7282\n",
      "Epoch 72/100\n",
      "9552/9552 - 44s - loss: 0.4473 - f1: 0.8495 - accuracy: 0.8484 - val_loss: 0.7049 - val_f1: 0.7364 - val_accuracy: 0.7379\n",
      "Epoch 73/100\n",
      "9552/9552 - 44s - loss: 0.4488 - f1: 0.8490 - accuracy: 0.8477 - val_loss: 0.6931 - val_f1: 0.7484 - val_accuracy: 0.7505\n",
      "Epoch 74/100\n",
      "9552/9552 - 44s - loss: 0.4497 - f1: 0.8486 - accuracy: 0.8483 - val_loss: 0.7348 - val_f1: 0.7342 - val_accuracy: 0.7357\n",
      "Epoch 75/100\n",
      "9552/9552 - 44s - loss: 0.4489 - f1: 0.8492 - accuracy: 0.8484 - val_loss: 0.7308 - val_f1: 0.7364 - val_accuracy: 0.7368\n",
      "Epoch 76/100\n",
      "9552/9552 - 45s - loss: 0.4463 - f1: 0.8493 - accuracy: 0.8489 - val_loss: 0.6681 - val_f1: 0.7505 - val_accuracy: 0.7508\n",
      "Epoch 77/100\n",
      "9552/9552 - 44s - loss: 0.4448 - f1: 0.8500 - accuracy: 0.8487 - val_loss: 0.7173 - val_f1: 0.7396 - val_accuracy: 0.7425\n",
      "Epoch 78/100\n",
      "9552/9552 - 44s - loss: 0.4433 - f1: 0.8503 - accuracy: 0.8498 - val_loss: 0.6718 - val_f1: 0.7529 - val_accuracy: 0.7550\n",
      "Epoch 79/100\n",
      "9552/9552 - 44s - loss: 0.4450 - f1: 0.8500 - accuracy: 0.8489 - val_loss: 0.6948 - val_f1: 0.7416 - val_accuracy: 0.7425\n",
      "Epoch 80/100\n",
      "9552/9552 - 44s - loss: 0.4438 - f1: 0.8506 - accuracy: 0.8498 - val_loss: 0.6859 - val_f1: 0.7509 - val_accuracy: 0.7525\n",
      "Epoch 81/100\n",
      "9552/9552 - 44s - loss: 0.4422 - f1: 0.8504 - accuracy: 0.8503 - val_loss: 0.7467 - val_f1: 0.7227 - val_accuracy: 0.7231\n",
      "Epoch 82/100\n",
      "9552/9552 - 44s - loss: 0.4402 - f1: 0.8517 - accuracy: 0.8510 - val_loss: 0.6658 - val_f1: 0.7499 - val_accuracy: 0.7496\n",
      "Epoch 83/100\n",
      "9552/9552 - 44s - loss: 0.4409 - f1: 0.8511 - accuracy: 0.8506 - val_loss: 0.6984 - val_f1: 0.7441 - val_accuracy: 0.7449\n",
      "Epoch 84/100\n",
      "9552/9552 - 44s - loss: 0.4386 - f1: 0.8521 - accuracy: 0.8511 - val_loss: 0.7315 - val_f1: 0.7358 - val_accuracy: 0.7376\n",
      "Epoch 85/100\n",
      "9552/9552 - 44s - loss: 0.4371 - f1: 0.8524 - accuracy: 0.8513 - val_loss: 0.6915 - val_f1: 0.7481 - val_accuracy: 0.7514\n",
      "Epoch 86/100\n",
      "9552/9552 - 44s - loss: 0.4374 - f1: 0.8518 - accuracy: 0.8512 - val_loss: 0.6899 - val_f1: 0.7465 - val_accuracy: 0.7483\n",
      "Epoch 87/100\n",
      "9552/9552 - 44s - loss: 0.4364 - f1: 0.8526 - accuracy: 0.8518 - val_loss: 0.6864 - val_f1: 0.7491 - val_accuracy: 0.7511\n",
      "Epoch 88/100\n",
      "9552/9552 - 44s - loss: 0.4365 - f1: 0.8520 - accuracy: 0.8511 - val_loss: 0.6986 - val_f1: 0.7372 - val_accuracy: 0.7395\n",
      "Epoch 89/100\n",
      "9552/9552 - 44s - loss: 0.4339 - f1: 0.8532 - accuracy: 0.8526 - val_loss: 0.6972 - val_f1: 0.7403 - val_accuracy: 0.7406\n",
      "Epoch 90/100\n",
      "9552/9552 - 44s - loss: 0.4363 - f1: 0.8528 - accuracy: 0.8519 - val_loss: 0.6754 - val_f1: 0.7516 - val_accuracy: 0.7515\n",
      "Epoch 91/100\n",
      "9552/9552 - 44s - loss: 0.4335 - f1: 0.8535 - accuracy: 0.8531 - val_loss: 0.6529 - val_f1: 0.7593 - val_accuracy: 0.7604\n",
      "Epoch 92/100\n",
      "9552/9552 - 44s - loss: 0.4337 - f1: 0.8537 - accuracy: 0.8529 - val_loss: 0.6743 - val_f1: 0.7480 - val_accuracy: 0.7492\n",
      "Epoch 93/100\n",
      "9552/9552 - 44s - loss: 0.4338 - f1: 0.8531 - accuracy: 0.8520 - val_loss: 0.6483 - val_f1: 0.7649 - val_accuracy: 0.7676\n",
      "Epoch 94/100\n",
      "9552/9552 - 44s - loss: 0.4311 - f1: 0.8546 - accuracy: 0.8536 - val_loss: 0.6662 - val_f1: 0.7515 - val_accuracy: 0.7521\n",
      "Epoch 95/100\n",
      "9552/9552 - 44s - loss: 0.4305 - f1: 0.8540 - accuracy: 0.8532 - val_loss: 0.6994 - val_f1: 0.7415 - val_accuracy: 0.7426\n",
      "Epoch 96/100\n",
      "9552/9552 - 44s - loss: 0.4309 - f1: 0.8543 - accuracy: 0.8529 - val_loss: 0.6731 - val_f1: 0.7558 - val_accuracy: 0.7567\n",
      "Epoch 97/100\n",
      "9552/9552 - 44s - loss: 0.4275 - f1: 0.8552 - accuracy: 0.8542 - val_loss: 0.6903 - val_f1: 0.7488 - val_accuracy: 0.7495\n",
      "Epoch 98/100\n",
      "9552/9552 - 45s - loss: 0.4287 - f1: 0.8542 - accuracy: 0.8532 - val_loss: 0.6982 - val_f1: 0.7430 - val_accuracy: 0.7432\n",
      "Epoch 99/100\n",
      "9552/9552 - 44s - loss: 0.4293 - f1: 0.8542 - accuracy: 0.8537 - val_loss: 0.7047 - val_f1: 0.7383 - val_accuracy: 0.7386\n",
      "Epoch 100/100\n",
      "9552/9552 - 45s - loss: 0.4286 - f1: 0.8546 - accuracy: 0.8538 - val_loss: 0.7160 - val_f1: 0.7350 - val_accuracy: 0.7359\n"
     ]
    }
   ],
   "source": [
    "hist = model.fit(generatedX_train, generatedy_train, batch_size=32, epochs=100,\n",
    "           validation_data=(X_val, y_val), class_weight=None,\n",
    "           verbose=2, shuffle=True)"
   ]
  },
  {
   "cell_type": "code",
   "execution_count": 0,
   "metadata": {
    "colab": {
     "base_uri": "https://localhost:8080/",
     "height": 545
    },
    "colab_type": "code",
    "id": "0xBIeUgEbrkL",
    "outputId": "4e0ab629-15a7-43a7-a36b-794d719c78c2"
   },
   "outputs": [
    {
     "data": {
      "image/png": "[encoded data removed]",
      "text/plain": [
       "<Figure size 432x288 with 1 Axes>"
      ]
     },
     "metadata": {
      "needs_background": "light",
      "tags": []
     },
     "output_type": "display_data"
    },
    {
     "data": {
      "image/png": "[encoded data removed]",
      "text/plain": [
       "<Figure size 432x288 with 1 Axes>"
      ]
     },
     "metadata": {
      "needs_background": "light",
      "tags": []
     },
     "output_type": "display_data"
    }
   ],
   "source": [
    "model.save('final_model.h5')\n",
    "\n",
    "acc = hist.history['accuracy']\n",
    "val_acc = hist.history['val_accuracy']\n",
    "f1 = hist.history['f1']\n",
    "val_f1 = hist.history['val_f1']\n",
    " \n",
    "epochs = range(len(acc))\n",
    " \n",
    "plt.plot(epochs, acc, 'b', label='Train acc')\n",
    "plt.plot(epochs, val_acc, 'r', label='Val acc')\n",
    "plt.title('Training and testing accuracy')\n",
    "plt.legend()\n",
    " \n",
    "plt.figure()\n",
    " \n",
    "plt.plot(epochs, f1, 'b', label='Train f1')\n",
    "plt.plot(epochs, val_f1, 'r', label='Val f1')\n",
    "plt.title('Train and Val f1 score')\n",
    "plt.legend()\n",
    " \n",
    "plt.show()"
   ]
  },
  {
   "cell_type": "code",
   "execution_count": 0,
   "metadata": {
    "colab": {
     "base_uri": "https://localhost:8080/",
     "height": 862
    },
    "colab_type": "code",
    "id": "oBQwOhnggDYH",
    "outputId": "9767150c-acce-4eb1-a4b1-cab441e09ebf"
   },
   "outputs": [
    {
     "name": "stdout",
     "output_type": "stream",
     "text": [
      "              precision    recall  f1-score   support\n",
      "\n",
      "           0       0.43      0.65      0.52        96\n",
      "           1       0.47      0.78      0.59        23\n",
      "           2       0.33      0.50      0.40         2\n",
      "           3       0.51      0.59      0.55        37\n",
      "           4       0.68      0.78      0.73       421\n",
      "           5       0.73      0.73      0.73       169\n",
      "           6       0.81      0.93      0.87       578\n",
      "           7       0.81      0.69      0.74      1028\n",
      "           8       0.52      0.72      0.60        67\n",
      "           9       0.59      0.50      0.54        20\n",
      "          10       0.78      0.85      0.81       110\n",
      "          11       0.45      0.41      0.43       105\n",
      "          12       0.52      0.78      0.62       134\n",
      "          13       0.08      0.07      0.07        14\n",
      "          14       0.87      0.95      0.91      2803\n",
      "          15       0.34      0.81      0.48        26\n",
      "          16       0.37      0.39      0.38        38\n",
      "          17       0.73      0.76      0.74       451\n",
      "          18       0.32      0.47      0.38        51\n",
      "          19       0.69      0.66      0.68        74\n",
      "          20       0.43      0.68      0.53       432\n",
      "          21       0.31      0.42      0.36        71\n",
      "          22       0.84      0.93      0.88      1024\n",
      "          23       0.75      0.64      0.69       446\n",
      "          24       0.74      0.84      0.79       142\n",
      "          25       0.33      0.43      0.38         7\n",
      "          26       0.42      0.64      0.51       370\n",
      "          27       0.82      0.92      0.87      1570\n",
      "          28       0.07      0.07      0.07        29\n",
      "          29       0.31      0.62      0.41       150\n",
      "          30       0.94      0.68      0.79     27688\n",
      "          31       0.54      0.69      0.60       137\n",
      "          32       0.44      0.88      0.58      5387\n",
      "          33       0.35      0.22      0.27       652\n",
      "          34       0.82      0.82      0.82      1859\n",
      "          35       0.54      0.80      0.65       364\n",
      "          36       0.56      0.76      0.65       809\n",
      "          37       0.57      0.82      0.67      1126\n",
      "          38       0.13      0.50      0.21        12\n",
      "\n",
      "    accuracy                           0.74     48522\n",
      "   macro avg       0.54      0.65      0.58     48522\n",
      "weighted avg       0.81      0.74      0.75     48522\n",
      "\n"
     ]
    }
   ],
   "source": [
    "del generatedX_train\n",
    "del generatedy_train\n",
    "X_test = np.load(\"drive/My Drive/LAB3/data/X_test.npy\")\n",
    "y_test = pd.read_csv(\"drive/My Drive/LAB3/data/y_test.csv\")\n",
    "\n",
    "y_predicted = model.predict(X_test)\n",
    "predicted  = y_predicted.argmax(axis = 1)\n",
    "y_test = y_test.values\n",
    "y_test = y_test.argmax(axis = 1)\n",
    "report = classification_report(y_test, predicted)\n",
    "print(report)"
   ]
  },
  {
   "cell_type": "code",
   "execution_count": 0,
   "metadata": {
    "colab": {},
    "colab_type": "code",
    "id": "4rTLVH4ZgNIN"
   },
   "outputs": [],
   "source": []
  }
 ],
 "metadata": {
  "accelerator": "GPU",
  "colab": {
   "collapsed_sections": [],
   "name": "plankton_challenge.ipynb",
   "provenance": [],
   "toc_visible": true
  },
  "kernelspec": {
   "display_name": "Python 3",
   "language": "python",
   "name": "python3"
  },
  "language_info": {
   "codemirror_mode": {
    "name": "ipython",
    "version": 3
   },
   "file_extension": ".py",
   "mimetype": "text/x-python",
   "name": "python",
   "nbconvert_exporter": "python",
   "pygments_lexer": "ipython3",
   "version": "3.6.8"
  }
 },
 "nbformat": 4,
 "nbformat_minor": 1
}
